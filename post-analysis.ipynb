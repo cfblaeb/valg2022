{
 "cells": [
  {
   "cell_type": "code",
   "execution_count": 157,
   "id": "9be944f2-15c7-4720-b673-5ad0111eeb18",
   "metadata": {},
   "outputs": [],
   "source": [
    "import pandas as pd\n",
    "from sklearn.cluster import KMeans\n",
    "from sklearn.discriminant_analysis import LinearDiscriminantAnalysis\n",
    "import json\n",
    "import pickle\n",
    "import numpy as np\n",
    "import plotly.express as px\n",
    "import plotly.graph_objects as go"
   ]
  },
  {
   "cell_type": "code",
   "execution_count": 129,
   "id": "15dd374a-5367-4aa9-85fa-b30d2b60491c",
   "metadata": {},
   "outputs": [],
   "source": [
    "df = pd.read_feather(\"2022_Lasse_data.feather\").reset_index()"
   ]
  },
  {
   "cell_type": "code",
   "execution_count": 130,
   "id": "c8028e5a-7625-423a-bae3-5d1425f441bd",
   "metadata": {},
   "outputs": [],
   "source": [
    "svar = json.load(open('raw_data/TV2/alle_svar.json'))\n",
    "tv2_spg = [\"1a\", \"1b\", \"2a\", \"2b\", \"3a\", \"3b\", \"4a\", \"4b\", \"5a\", \"5b\", \"6a\", \"6b\", \"7a\", \"7b\", \"8a\", \"8b\", \"9a\", \"9b\", \"10a\", \"10b\", \"11a\", \"11b\", \"12a\", \"12b\"]\n",
    "tv2_svar = {}\n",
    "tv2_kandidater = {}\n",
    "for storkreds, kandidater in svar.items():\n",
    "    for kandidat in kandidater:\n",
    "        tv2_kandidater[kandidat['id']] = {'navn': kandidat['name'], 'storkreds': kandidat['areaName'], 'parti': kandidat['partyName'], 'alder': kandidat['age']}\n",
    "        tv2_svar[kandidat['id']] = {x: kandidat['answers'][x]['answer'] for x in tv2_spg if x in kandidat['answers']}\n",
    "tv2_kandidater = pd.DataFrame(tv2_kandidater).T\n",
    "tv2_svar = pd.DataFrame(tv2_svar).T\n",
    "ma = tv2_svar.max()\n",
    "mi = tv2_svar.min()\n",
    "tv2_svar = (tv2_svar-mi)/(ma-mi)\n",
    "q = tv2_svar.copy()\n",
    "q['parti'] = [tv2_kandidater.loc[x, 'parti'] for x in tv2_svar.index]\n",
    "q['navn'] = [tv2_kandidater.loc[x, 'navn'] for x in tv2_svar.index]\n",
    "q['storkreds'] = [tv2_kandidater.loc[x, 'storkreds'] for x in tv2_svar.index]\n",
    "q['alder'] = [tv2_kandidater.loc[x, 'alder'] for x in tv2_svar.index]\n",
    "q.parti.replace(\"Konservative\", \"Det Konservative Folkeparti\", inplace=True)"
   ]
  },
  {
   "cell_type": "code",
   "execution_count": 131,
   "id": "bd5a5c08-24a3-43a2-9de3-a822ec358952",
   "metadata": {},
   "outputs": [],
   "source": [
    "objects = []\n",
    "with (open(\"TakeTheDR/outputs041122.pickle\", \"rb\")) as openfile:\n",
    "    while True:\n",
    "        try:\n",
    "            objects.append(pickle.load(openfile))\n",
    "        except EOFError:\n",
    "            break\n",
    "# Vi beholder kun dem der har svaret.\n",
    "objects = [x['kandidat'] for x in objects if x['kandidat'][0]]\n",
    "objects = [x for x in objects if pd.DataFrame(x[0])['Answer'].sum() != 0]\n",
    "bogstaver = json.load(open('various.json'))['bogstav_leg']\n",
    "dr_data = []\n",
    "for i, dd in enumerate(objects):\n",
    "    person = {'navn': \" \".join([dd[1]['Firstname'], dd[1]['LastName']]), 'parti': bogstaver[dd[1]['CurrentPartyCode']]}\n",
    "    svar = (pd.DataFrame(dd[0])[['QuestionID', 'Answer']].set_index('QuestionID').T-1)/4\n",
    "    svar.columns = svar.columns.astype('str')\n",
    "    svar['navn'] = person['navn']\n",
    "    svar['parti'] = person['parti']\n",
    "    svar.index = [f'DR{i}']\n",
    "    dr_data.append(svar)\n",
    "dr_df = pd.concat(dr_data)\n",
    "dr_df = dr_df.replace(-0.25, np.nan)"
   ]
  },
  {
   "cell_type": "code",
   "execution_count": 132,
   "id": "a0c66c00-dcec-426c-82a3-eb964b21b9ff",
   "metadata": {},
   "outputs": [],
   "source": [
    "valgte = [\"Aaja Chemnitz\", \"Aki-Matilda Høegh-Dam\", \"Alex Ahrendtsen\", \"Alex Vanopslagh\", \"Alexander Ryle\", \"Anders Kronborg\", \"Ane Halsboe-Jørgensen\", \"Anna Falkenberg\", \"Anne Paulin\", \"Anne Valentina Berthelsen\", \"Annette Lind\", \"Anni Matthiesen\", \"Astrid Carøe\", \"Astrid Krag\", \"Benny Engelbrecht\", \"Betina Kastbjerg\", \"Birgitte Vind\", \"Bjarne Laustsen\", \"Bjørn Brandenborg\", \"Brigitte Klintskov Jerkel\", \"Camilla Fabricius\", \"Carl Valentin\", \"Carsten Bach\", \"Charlotte Bagge Hansen\", \"Charlotte Broman Mølbæk\", \"Charlotte Munch\", \"Christian Friis Bach\", \"Christian Rabjerg Madsen\", \"Christina Sade Olumeko\", \"Christoffer Aagaard Melson\", \"Dan Jørgensen\", \"Dennis Flydtkjær\", \"Erling Bonnesen\", \"Fie Hækkerup\", \"Flemming Møller Mortensen\", \"Franciska Rosenkilde\", \"Frederik Vad\", \"Hans Andersen\", \"Hans Christian Schmidt\", \"Hans Kristian Skibby\", \"Helena Artmann Andresen\", \"Helene Liliendahl Brydensholt\", \"Helle Bonnesen\", \"Henrik Dahl\", \"Henrik Frandsen\", \"Henrik Møller\", \"Ida Auken\", \"Inger Støjberg\", \"Jacob Jensen\", \"Jacob Mark\", \"Jakob Ellemann-Jensen\", \"Jakob Engel-Schmidt\", \"Jan E. Jørgensen\", \"Jens Henrik Thulesen Dahl\", \"Jens Joel\", \"Jens Meilvang\", \"Jeppe Bruus\", \"Jeppe Søe\", \"Jesper Petersen\", \"Jette Gotliebb\", \"Jon Stephensen\", \"Kaare Dybvad Bek\", \"Karen Ellemann\", \"Karin Liltorp\", \"Karina Adsbøl\", \"Karina Lorentzen Dehnhardt\", \"Karsten Hønge\", \"Kasper Roug\", \"Kasper Sand Kjær\", \"Katrine Daugaard\", \"Katrine Robsøe\", \"Kenneth Fredslund Petersen\", \"Kim Aas\", \"Kim Edberg Andersen\", \"Kirsten Normann Andersen\", \"Kris Jensen Skriver\", \"Kristian Bøgsted\", \"Kristian Klarskov\", \"Lars Boje Mathiesen\", \"Lars Christian Lilleholt\", \"Lars Løkke Rasmussen\", \"Lars-Christian Brask\", \"Lea Wermelin\", \"Leif Lahn\", \"Linea Søgaard-Lidell\", \"Lisbeth Bech-Nielsen\", \"Lise Bech\", \"Lise Bertelsen\", \"Lotte Rod\", \"Louise Brown\", \"Louise Schack Elholm\", \"Mads Fuglede\", \"Magnus Heunicke\", \"Mai Mercado\", \"Mai Villadsen\", \"Malte Larsen\", \"Maria Durhuus\", \"Marianne Bigum\", \"Marie Bjerre\", \"Marlene Harpsøe\", \"Martin Lidegaard\", \"Matilde Powers\", \"Mattias Tesfaye\", \"Mette Abildgaard\", \"Mette Frederiksen\", \"Mette Gjerskov\", \"Mette Kierkgaard\", \"Mette Reissmann\", \"Mette Thiesen\", \"Michael Aastrup Jensen\", \"Mike Villa Fonseca\", \"Mikkel Bjørn Sørensen\", \"Mogens Jensen\", \"Mona Juul\", \"Monika Rubin\", \"Morten Bødskov\", \"Morten Dahlin\", \"Morten Messerschmidt\", \"Nanna W. Gotfredsen\", \"Nick Zimmermann\", \"Nicolai Wammen\", \"Niels Flemming Hansen\", \"Ole Birk Olesen\", \"Peder Hvelplund\", \"Pelle Dragsted\", \"Per Husted\", \"Per Larsen\", \"Pernille Rosenkrantz-Theil\", \"Pernille Vermund\", \"Peter Have\", \"Peter Hummelgaard\", \"Peter Juel-Jensen\", \"Peter Kofod Poulsen\", \"Peter Seier Christensen\", \"Peter Skaarup\", \"Pia Kjærsgaard\", \"Pia Olsen Dyhr\", \"Preben Bang Henriksen\", \"Rasmus Horn Langhoff\", \"Rasmus Jarlov\", \"Rasmus Lund-Nielsen\", \"Rasmus Prehn\", \"Rasmus Stoklund\", \"Rosa Eriksen\", \"Rosa Lund\", \"Samira Nawa Amini\", \"Sandra Elisabeth Skalvig\", \"Sara Emil Baaring\", \"Sascha Faxe\", \"Signe Munk\", \"Sigurd Agersnap\", \"Simon Kollerup\", \"Sjúrður Skaale\", \"Sofie Carsten Nielsen\", \"Sofie Lippert\", \"Sophie Løhde\", \"Steffen Larsen\", \"Steffen W. Frølund\", \"Susie Jessen\", \"Sólbjørg Jakobsen\", \"Søren Egge Rasmussen\", \"Søren Espersen\", \"Søren Gade\", \"Søren Pape Poulsen\", \"Søren Søndergaard\", \"Theresa Berg Andersen\", \"Theresa Scavenius\", \"Thomas Danielsen\", \"Thomas Jensen\", \"Thomas Monberg\", \"Thomas Skriver Jensen\", \"Tobias Grotkjær Elmstrøm\", \"Torsten Gejl\", \"Torsten Schack Pedersen\", \"Trine Bramsen\", \"Trine Mach\", \"Troels Lund Poulsen\", \"Victoria Velásquez\", \"Zenia Stampe\"]\n",
    "navne_trans = {\"Fie Hækkerup\": \"Fie Thorsted Hækkerup\",\n",
    "\"Kim Edberg Andersen\": \"Kim Edberg\",\n",
    "\"Mike Villa Fonseca\": \"Mike Fonseca\",\n",
    "\"Samira Nawa Amini\": \"Samira Nawa\",\n",
    "\"Trine Mach\": \"Trine Pertou Mach\",\n",
    "\"Jens Henrik Thulesen Dahl\": \"Jens Henrik W. Thulesen Dahl\",\n",
    "\"Jette Gotliebb\": \"Jette Gottlieb\",\n",
    "\"Mikkel Bjørn Sørensen\": \"Mikkel Bjørn\",\n",
    "\"Peter Kofod Poulsen\": \"Peter Kofod\",\n",
    "\"Steffen W. Frølund\": \"Steffen Frølund\",\n",
    "\"Ida Auken\": \"Ida Margrete Meier Auken\",\n",
    "\"Jon Stephensen\": \"Jon Læssøe Stephensen\",\n",
    "\"Magnus Heunicke\": \"Magnus Johannes Heunicke\",}\n",
    "valgte_t = list(map(lambda x: navne_trans[x] if x in navne_trans else x, valgte))"
   ]
  },
  {
   "cell_type": "code",
   "execution_count": null,
   "id": "05c43928-5943-4f1c-a6c6-1c769377dc58",
   "metadata": {},
   "outputs": [],
   "source": []
  },
  {
   "cell_type": "code",
   "execution_count": 133,
   "id": "8ccd52b9-860f-4e25-92b4-c75c27994d5e",
   "metadata": {},
   "outputs": [],
   "source": [
    "svaret = {}\n",
    "for navn in valgte_t:\n",
    "    svar = {'dr':0, 'tv2':0, 'begge':0}\n",
    "    if dr_df.navn.str.contains(navn).any():\n",
    "        svar['dr'] = 1\n",
    "    if q.navn.str.contains(navn).any():\n",
    "        svar['tv2'] = 1\n",
    "    if df.navn.str.contains(navn).any():\n",
    "        svar['begge'] = 1\n",
    "    svaret[navn] = svar\n",
    "svaret = pd.DataFrame(svaret)"
   ]
  },
  {
   "cell_type": "code",
   "execution_count": 134,
   "id": "f428b1a6-972a-4a43-8b16-f11ae0669af1",
   "metadata": {},
   "outputs": [
    {
     "data": {
      "text/plain": [
       "<AxesSubplot: >"
      ]
     },
     "execution_count": 134,
     "metadata": {},
     "output_type": "execute_result"
    },
    {
     "data": {
      "image/png": "[encoded data removed]",
      "text/plain": [
       "<Figure size 2500x500 with 1 Axes>"
      ]
     },
     "metadata": {},
     "output_type": "display_data"
    }
   ],
   "source": [
    "svaret.T.plot(kind='bar', stacked=True, figsize=(25,5), rot=90)"
   ]
  },
  {
   "cell_type": "code",
   "execution_count": 135,
   "id": "045e24bb-edfc-4be3-8917-b3befa45f740",
   "metadata": {},
   "outputs": [
    {
     "data": {
      "text/plain": [
       "Index(['Aaja Chemnitz', 'Aki-Matilda Høegh-Dam', 'Anna Falkenberg',\n",
       "       'Lars Løkke Rasmussen', 'Mette Frederiksen', 'Sjúrður Skaale'],\n",
       "      dtype='object')"
      ]
     },
     "execution_count": 135,
     "metadata": {},
     "output_type": "execute_result"
    }
   ],
   "source": [
    "svaret.sum()[svaret.sum() == 0].index"
   ]
  },
  {
   "cell_type": "code",
   "execution_count": 136,
   "id": "2e0f2797-4714-438a-9b78-cf761a9be225",
   "metadata": {},
   "outputs": [
    {
     "data": {
      "text/html": [
       "<div>\n",
       "<style scoped>\n",
       "    .dataframe tbody tr th:only-of-type {\n",
       "        vertical-align: middle;\n",
       "    }\n",
       "\n",
       "    .dataframe tbody tr th {\n",
       "        vertical-align: top;\n",
       "    }\n",
       "\n",
       "    .dataframe thead th {\n",
       "        text-align: right;\n",
       "    }\n",
       "</style>\n",
       "<table border=\"1\" class=\"dataframe\">\n",
       "  <thead>\n",
       "    <tr style=\"text-align: right;\">\n",
       "      <th></th>\n",
       "      <th>dr</th>\n",
       "      <th>tv2</th>\n",
       "      <th>begge</th>\n",
       "    </tr>\n",
       "  </thead>\n",
       "  <tbody>\n",
       "    <tr>\n",
       "      <th>Aaja Chemnitz</th>\n",
       "      <td>0</td>\n",
       "      <td>0</td>\n",
       "      <td>0</td>\n",
       "    </tr>\n",
       "    <tr>\n",
       "      <th>Aki-Matilda Høegh-Dam</th>\n",
       "      <td>0</td>\n",
       "      <td>0</td>\n",
       "      <td>0</td>\n",
       "    </tr>\n",
       "    <tr>\n",
       "      <th>Anna Falkenberg</th>\n",
       "      <td>0</td>\n",
       "      <td>0</td>\n",
       "      <td>0</td>\n",
       "    </tr>\n",
       "    <tr>\n",
       "      <th>Lars Løkke Rasmussen</th>\n",
       "      <td>0</td>\n",
       "      <td>0</td>\n",
       "      <td>0</td>\n",
       "    </tr>\n",
       "    <tr>\n",
       "      <th>Mette Frederiksen</th>\n",
       "      <td>0</td>\n",
       "      <td>0</td>\n",
       "      <td>0</td>\n",
       "    </tr>\n",
       "    <tr>\n",
       "      <th>Sjúrður Skaale</th>\n",
       "      <td>0</td>\n",
       "      <td>0</td>\n",
       "      <td>0</td>\n",
       "    </tr>\n",
       "    <tr>\n",
       "      <th>Theresa Scavenius</th>\n",
       "      <td>0</td>\n",
       "      <td>1</td>\n",
       "      <td>0</td>\n",
       "    </tr>\n",
       "  </tbody>\n",
       "</table>\n",
       "</div>"
      ],
      "text/plain": [
       "                       dr  tv2  begge\n",
       "Aaja Chemnitz           0    0      0\n",
       "Aki-Matilda Høegh-Dam   0    0      0\n",
       "Anna Falkenberg         0    0      0\n",
       "Lars Løkke Rasmussen    0    0      0\n",
       "Mette Frederiksen       0    0      0\n",
       "Sjúrður Skaale          0    0      0\n",
       "Theresa Scavenius       0    1      0"
      ]
     },
     "execution_count": 136,
     "metadata": {},
     "output_type": "execute_result"
    }
   ],
   "source": [
    "svaret.T[svaret.T.begge == 0]"
   ]
  },
  {
   "cell_type": "code",
   "execution_count": 138,
   "id": "bf1b6325-6cd4-4a04-b4c3-ca49e5bd192d",
   "metadata": {},
   "outputs": [
    {
     "data": {
      "text/html": [
       "<div>\n",
       "<style scoped>\n",
       "    .dataframe tbody tr th:only-of-type {\n",
       "        vertical-align: middle;\n",
       "    }\n",
       "\n",
       "    .dataframe tbody tr th {\n",
       "        vertical-align: top;\n",
       "    }\n",
       "\n",
       "    .dataframe thead th {\n",
       "        text-align: right;\n",
       "    }\n",
       "</style>\n",
       "<table border=\"1\" class=\"dataframe\">\n",
       "  <thead>\n",
       "    <tr style=\"text-align: right;\">\n",
       "      <th></th>\n",
       "      <th>index</th>\n",
       "      <th>530</th>\n",
       "      <th>531</th>\n",
       "      <th>533</th>\n",
       "      <th>534</th>\n",
       "      <th>535</th>\n",
       "      <th>537</th>\n",
       "      <th>538</th>\n",
       "      <th>540</th>\n",
       "      <th>541</th>\n",
       "      <th>...</th>\n",
       "      <th>9a</th>\n",
       "      <th>9b</th>\n",
       "      <th>10a</th>\n",
       "      <th>10b</th>\n",
       "      <th>11a</th>\n",
       "      <th>11b</th>\n",
       "      <th>12a</th>\n",
       "      <th>12b</th>\n",
       "      <th>storkreds</th>\n",
       "      <th>alder</th>\n",
       "    </tr>\n",
       "  </thead>\n",
       "  <tbody>\n",
       "    <tr>\n",
       "      <th>1</th>\n",
       "      <td>1</td>\n",
       "      <td>1.00</td>\n",
       "      <td>1.00</td>\n",
       "      <td>0.25</td>\n",
       "      <td>0.00</td>\n",
       "      <td>0.25</td>\n",
       "      <td>0.00</td>\n",
       "      <td>0.75</td>\n",
       "      <td>0.00</td>\n",
       "      <td>1.00</td>\n",
       "      <td>...</td>\n",
       "      <td>0.00</td>\n",
       "      <td>0.50</td>\n",
       "      <td>0.25</td>\n",
       "      <td>1.00</td>\n",
       "      <td>0.75</td>\n",
       "      <td>0.00</td>\n",
       "      <td>0.50</td>\n",
       "      <td>0.50</td>\n",
       "      <td>Fyns Storkreds</td>\n",
       "      <td>64</td>\n",
       "    </tr>\n",
       "    <tr>\n",
       "      <th>17</th>\n",
       "      <td>17</td>\n",
       "      <td>1.00</td>\n",
       "      <td>1.00</td>\n",
       "      <td>0.00</td>\n",
       "      <td>0.00</td>\n",
       "      <td>0.00</td>\n",
       "      <td>0.00</td>\n",
       "      <td>1.00</td>\n",
       "      <td>1.00</td>\n",
       "      <td>1.00</td>\n",
       "      <td>...</td>\n",
       "      <td>0.00</td>\n",
       "      <td>0.50</td>\n",
       "      <td>0.00</td>\n",
       "      <td>1.00</td>\n",
       "      <td>0.75</td>\n",
       "      <td>0.75</td>\n",
       "      <td>0.50</td>\n",
       "      <td>0.00</td>\n",
       "      <td>Østjyllands Storkreds</td>\n",
       "      <td>58</td>\n",
       "    </tr>\n",
       "    <tr>\n",
       "      <th>25</th>\n",
       "      <td>25</td>\n",
       "      <td>1.00</td>\n",
       "      <td>1.00</td>\n",
       "      <td>0.00</td>\n",
       "      <td>0.25</td>\n",
       "      <td>0.25</td>\n",
       "      <td>0.25</td>\n",
       "      <td>0.75</td>\n",
       "      <td>0.00</td>\n",
       "      <td>1.00</td>\n",
       "      <td>...</td>\n",
       "      <td>0.00</td>\n",
       "      <td>0.50</td>\n",
       "      <td>0.25</td>\n",
       "      <td>1.00</td>\n",
       "      <td>0.50</td>\n",
       "      <td>0.00</td>\n",
       "      <td>0.25</td>\n",
       "      <td>0.75</td>\n",
       "      <td>Østjyllands Storkreds</td>\n",
       "      <td>30</td>\n",
       "    </tr>\n",
       "    <tr>\n",
       "      <th>29</th>\n",
       "      <td>29</td>\n",
       "      <td>0.25</td>\n",
       "      <td>0.25</td>\n",
       "      <td>1.00</td>\n",
       "      <td>0.25</td>\n",
       "      <td>1.00</td>\n",
       "      <td>0.25</td>\n",
       "      <td>0.00</td>\n",
       "      <td>0.75</td>\n",
       "      <td>0.00</td>\n",
       "      <td>...</td>\n",
       "      <td>0.25</td>\n",
       "      <td>0.25</td>\n",
       "      <td>0.50</td>\n",
       "      <td>1.00</td>\n",
       "      <td>0.00</td>\n",
       "      <td>1.00</td>\n",
       "      <td>0.50</td>\n",
       "      <td>0.50</td>\n",
       "      <td>Østjyllands Storkreds</td>\n",
       "      <td>53</td>\n",
       "    </tr>\n",
       "    <tr>\n",
       "      <th>33</th>\n",
       "      <td>33</td>\n",
       "      <td>0.25</td>\n",
       "      <td>0.25</td>\n",
       "      <td>0.75</td>\n",
       "      <td>0.00</td>\n",
       "      <td>1.00</td>\n",
       "      <td>0.75</td>\n",
       "      <td>0.00</td>\n",
       "      <td>0.75</td>\n",
       "      <td>0.00</td>\n",
       "      <td>...</td>\n",
       "      <td>0.25</td>\n",
       "      <td>0.50</td>\n",
       "      <td>0.75</td>\n",
       "      <td>0.75</td>\n",
       "      <td>0.00</td>\n",
       "      <td>1.00</td>\n",
       "      <td>0.75</td>\n",
       "      <td>0.25</td>\n",
       "      <td>Østjyllands Storkreds</td>\n",
       "      <td>46</td>\n",
       "    </tr>\n",
       "    <tr>\n",
       "      <th>...</th>\n",
       "      <td>...</td>\n",
       "      <td>...</td>\n",
       "      <td>...</td>\n",
       "      <td>...</td>\n",
       "      <td>...</td>\n",
       "      <td>...</td>\n",
       "      <td>...</td>\n",
       "      <td>...</td>\n",
       "      <td>...</td>\n",
       "      <td>...</td>\n",
       "      <td>...</td>\n",
       "      <td>...</td>\n",
       "      <td>...</td>\n",
       "      <td>...</td>\n",
       "      <td>...</td>\n",
       "      <td>...</td>\n",
       "      <td>...</td>\n",
       "      <td>...</td>\n",
       "      <td>...</td>\n",
       "      <td>...</td>\n",
       "      <td>...</td>\n",
       "    </tr>\n",
       "    <tr>\n",
       "      <th>865</th>\n",
       "      <td>865</td>\n",
       "      <td>0.75</td>\n",
       "      <td>0.75</td>\n",
       "      <td>1.00</td>\n",
       "      <td>0.00</td>\n",
       "      <td>1.00</td>\n",
       "      <td>0.25</td>\n",
       "      <td>0.75</td>\n",
       "      <td>0.25</td>\n",
       "      <td>0.25</td>\n",
       "      <td>...</td>\n",
       "      <td>0.50</td>\n",
       "      <td>0.25</td>\n",
       "      <td>0.75</td>\n",
       "      <td>1.00</td>\n",
       "      <td>0.75</td>\n",
       "      <td>0.00</td>\n",
       "      <td>0.75</td>\n",
       "      <td>0.50</td>\n",
       "      <td>Københavns Omegns Storkreds</td>\n",
       "      <td>41</td>\n",
       "    </tr>\n",
       "    <tr>\n",
       "      <th>866</th>\n",
       "      <td>866</td>\n",
       "      <td>0.75</td>\n",
       "      <td>0.75</td>\n",
       "      <td>0.75</td>\n",
       "      <td>0.00</td>\n",
       "      <td>1.00</td>\n",
       "      <td>0.25</td>\n",
       "      <td>0.75</td>\n",
       "      <td>0.25</td>\n",
       "      <td>0.25</td>\n",
       "      <td>...</td>\n",
       "      <td>0.25</td>\n",
       "      <td>0.50</td>\n",
       "      <td>0.25</td>\n",
       "      <td>1.00</td>\n",
       "      <td>0.75</td>\n",
       "      <td>0.00</td>\n",
       "      <td>0.75</td>\n",
       "      <td>0.75</td>\n",
       "      <td>Københavns Omegns Storkreds</td>\n",
       "      <td>33</td>\n",
       "    </tr>\n",
       "    <tr>\n",
       "      <th>868</th>\n",
       "      <td>868</td>\n",
       "      <td>0.75</td>\n",
       "      <td>0.00</td>\n",
       "      <td>0.00</td>\n",
       "      <td>0.00</td>\n",
       "      <td>0.75</td>\n",
       "      <td>0.00</td>\n",
       "      <td>0.25</td>\n",
       "      <td>0.00</td>\n",
       "      <td>0.00</td>\n",
       "      <td>...</td>\n",
       "      <td>0.25</td>\n",
       "      <td>0.50</td>\n",
       "      <td>0.25</td>\n",
       "      <td>1.00</td>\n",
       "      <td>1.00</td>\n",
       "      <td>0.00</td>\n",
       "      <td>0.50</td>\n",
       "      <td>0.50</td>\n",
       "      <td>Københavns Omegns Storkreds</td>\n",
       "      <td>45</td>\n",
       "    </tr>\n",
       "    <tr>\n",
       "      <th>869</th>\n",
       "      <td>869</td>\n",
       "      <td>0.75</td>\n",
       "      <td>0.75</td>\n",
       "      <td>0.75</td>\n",
       "      <td>0.00</td>\n",
       "      <td>1.00</td>\n",
       "      <td>0.25</td>\n",
       "      <td>0.75</td>\n",
       "      <td>0.25</td>\n",
       "      <td>0.25</td>\n",
       "      <td>...</td>\n",
       "      <td>0.25</td>\n",
       "      <td>0.50</td>\n",
       "      <td>0.25</td>\n",
       "      <td>1.00</td>\n",
       "      <td>1.00</td>\n",
       "      <td>0.00</td>\n",
       "      <td>0.50</td>\n",
       "      <td>0.75</td>\n",
       "      <td>Københavns Omegns Storkreds</td>\n",
       "      <td>52</td>\n",
       "    </tr>\n",
       "    <tr>\n",
       "      <th>870</th>\n",
       "      <td>870</td>\n",
       "      <td>0.75</td>\n",
       "      <td>0.25</td>\n",
       "      <td>0.75</td>\n",
       "      <td>0.00</td>\n",
       "      <td>0.75</td>\n",
       "      <td>0.25</td>\n",
       "      <td>0.25</td>\n",
       "      <td>0.25</td>\n",
       "      <td>0.25</td>\n",
       "      <td>...</td>\n",
       "      <td>0.50</td>\n",
       "      <td>0.50</td>\n",
       "      <td>0.50</td>\n",
       "      <td>1.00</td>\n",
       "      <td>0.75</td>\n",
       "      <td>0.00</td>\n",
       "      <td>0.75</td>\n",
       "      <td>0.50</td>\n",
       "      <td>Københavns Omegns Storkreds</td>\n",
       "      <td>44</td>\n",
       "    </tr>\n",
       "  </tbody>\n",
       "</table>\n",
       "<p>170 rows × 54 columns</p>\n",
       "</div>"
      ],
      "text/plain": [
       "     index   530   531   533   534   535   537   538   540   541  ...    9a  \\\n",
       "1        1  1.00  1.00  0.25  0.00  0.25  0.00  0.75  0.00  1.00  ...  0.00   \n",
       "17      17  1.00  1.00  0.00  0.00  0.00  0.00  1.00  1.00  1.00  ...  0.00   \n",
       "25      25  1.00  1.00  0.00  0.25  0.25  0.25  0.75  0.00  1.00  ...  0.00   \n",
       "29      29  0.25  0.25  1.00  0.25  1.00  0.25  0.00  0.75  0.00  ...  0.25   \n",
       "33      33  0.25  0.25  0.75  0.00  1.00  0.75  0.00  0.75  0.00  ...  0.25   \n",
       "..     ...   ...   ...   ...   ...   ...   ...   ...   ...   ...  ...   ...   \n",
       "865    865  0.75  0.75  1.00  0.00  1.00  0.25  0.75  0.25  0.25  ...  0.50   \n",
       "866    866  0.75  0.75  0.75  0.00  1.00  0.25  0.75  0.25  0.25  ...  0.25   \n",
       "868    868  0.75  0.00  0.00  0.00  0.75  0.00  0.25  0.00  0.00  ...  0.25   \n",
       "869    869  0.75  0.75  0.75  0.00  1.00  0.25  0.75  0.25  0.25  ...  0.25   \n",
       "870    870  0.75  0.25  0.75  0.00  0.75  0.25  0.25  0.25  0.25  ...  0.50   \n",
       "\n",
       "       9b   10a   10b   11a   11b   12a   12b                    storkreds  \\\n",
       "1    0.50  0.25  1.00  0.75  0.00  0.50  0.50               Fyns Storkreds   \n",
       "17   0.50  0.00  1.00  0.75  0.75  0.50  0.00        Østjyllands Storkreds   \n",
       "25   0.50  0.25  1.00  0.50  0.00  0.25  0.75        Østjyllands Storkreds   \n",
       "29   0.25  0.50  1.00  0.00  1.00  0.50  0.50        Østjyllands Storkreds   \n",
       "33   0.50  0.75  0.75  0.00  1.00  0.75  0.25        Østjyllands Storkreds   \n",
       "..    ...   ...   ...   ...   ...   ...   ...                          ...   \n",
       "865  0.25  0.75  1.00  0.75  0.00  0.75  0.50  Københavns Omegns Storkreds   \n",
       "866  0.50  0.25  1.00  0.75  0.00  0.75  0.75  Københavns Omegns Storkreds   \n",
       "868  0.50  0.25  1.00  1.00  0.00  0.50  0.50  Københavns Omegns Storkreds   \n",
       "869  0.50  0.25  1.00  1.00  0.00  0.50  0.75  Københavns Omegns Storkreds   \n",
       "870  0.50  0.50  1.00  0.75  0.00  0.75  0.50  Københavns Omegns Storkreds   \n",
       "\n",
       "     alder  \n",
       "1       64  \n",
       "17      58  \n",
       "25      30  \n",
       "29      53  \n",
       "33      46  \n",
       "..     ...  \n",
       "865     41  \n",
       "866     33  \n",
       "868     45  \n",
       "869     52  \n",
       "870     44  \n",
       "\n",
       "[170 rows x 54 columns]"
      ]
     },
     "execution_count": 138,
     "metadata": {},
     "output_type": "execute_result"
    }
   ],
   "source": [
    "df_v = df[df.navn.isin(valgte_t)]\n",
    "df_v"
   ]
  },
  {
   "cell_type": "code",
   "execution_count": 7,
   "id": "3ca7880e-b35c-482e-804a-a7af59d88af8",
   "metadata": {},
   "outputs": [],
   "source": []
  },
  {
   "cell_type": "code",
   "execution_count": 147,
   "id": "74c2408a-7193-43be-b00d-4f98ff9df2c1",
   "metadata": {},
   "outputs": [],
   "source": [
    "color_dict = pd.read_json(\"various.json\").set_index('bogstav_leg')['farver'].to_dict()\n",
    "dk_spg = ['530', '531', '533', '534', '535', '537', '538', '540', '541', '543','544', '545', '546', '547', '548', '550', '551', '552', '553', '555',\n",
    "       '556', '557', '559', '561', '563', '1a', '1b', '2a','2b', '3a', '3b', '4a', '4b', '5a', '5b', '6a', '6b', '7a', '7b', '8a',\n",
    "       '8b', '9a', '9b', '10a', '10b', '11a', '11b', '12a', '12b']\n"
   ]
  },
  {
   "cell_type": "code",
   "execution_count": 164,
   "id": "001047ac-73c4-44ac-9753-54f65d3931c0",
   "metadata": {},
   "outputs": [],
   "source": [
    "X = df_v[dk_spg]\n",
    "kmean = KMeans(n_clusters=2)\n",
    "y = df_v['parti']\n",
    "lda = LinearDiscriminantAnalysis(n_components=2).fit(X, y)"
   ]
  },
  {
   "cell_type": "code",
   "execution_count": 165,
   "id": "0208937e-2f1e-43b9-975b-f7c16a0dad1d",
   "metadata": {},
   "outputs": [],
   "source": [
    "q = pd.concat([\n",
    "    df_v,\n",
    "    pd.DataFrame(lda.transform(df_v[dk_spg]), columns=[\"X\", \"y\"]).set_index(df_v.index),\n",
    "    pd.DataFrame(kmean.fit_predict(X), columns=[\"clust\"]).set_index(df_v.index)\n",
    "],axis=1)"
   ]
  },
  {
   "cell_type": "code",
   "execution_count": 166,
   "id": "6908d5eb-709f-47fa-9405-e77d97abf10a",
   "metadata": {},
   "outputs": [],
   "source": [
    "q['bogstav'] = q.parti.map(pd.read_json(\"various.json\").reset_index().set_index('bogstav_leg')['index'])"
   ]
  },
  {
   "cell_type": "code",
   "execution_count": 167,
   "id": "8a991bf3-589c-4b70-99d7-58440b95348b",
   "metadata": {},
   "outputs": [
    {
     "data": {
      "application/vnd.plotly.v1+json": {
       "config": {
        "plotlyServerURL": "https://plot.ly"
       },
       "data": [
        {
         "customdata": [
          [
           1,
           "Karsten Hønge",
           "Fyns Storkreds",
           64,
           1
          ],
          [
           76,
           "Sofie Lippert",
           "Østjyllands Storkreds",
           26,
           1
          ],
          [
           77,
           "Charlotte Broman Mølbæk",
           "Østjyllands Storkreds",
           44,
           1
          ],
          [
           80,
           "Kirsten Normann Andersen",
           "Østjyllands Storkreds",
           60,
           1
          ],
          [
           186,
           "Pia Olsen Dyhr",
           "Københavns Storkreds",
           50,
           1
          ],
          [
           187,
           "Carl Valentin",
           "Københavns Storkreds",
           30,
           1
          ],
          [
           188,
           "Lisbeth Bech-Nielsen",
           "Københavns Storkreds",
           39,
           1
          ],
          [
           282,
           "Theresa Berg Andersen",
           "Nordjyllands Storkreds",
           42,
           1
          ],
          [
           460,
           "Signe Munk",
           "Vestjyllands Storkreds",
           32,
           1
          ],
          [
           556,
           "Karina Lorentzen Dehnhardt",
           "Sydjyllands Storkreds",
           49,
           1
          ],
          [
           671,
           "Anne Valentina Berthelsen",
           "Sjællands Storkreds",
           28,
           1
          ],
          [
           674,
           "Jacob Mark",
           "Sjællands Storkreds",
           31,
           1
          ],
          [
           759,
           "Marianne Bigum",
           "Nordsjællands Storkreds",
           39,
           1
          ],
          [
           840,
           "Sigurd Agersnap",
           "Københavns Omegns Storkreds",
           29,
           1
          ]
         ],
         "hovertemplate": "parti=Socialistisk Folkeparti<br>clust=%{customdata[4]}<br>X=%{x}<br>y=%{y}<br>navn=%{customdata[1]}<br>storkreds=%{customdata[2]}<br>alder=%{customdata[3]}<extra></extra>",
         "legendgroup": "Socialistisk Folkeparti, 1",
         "marker": {
          "color": "#e07ea8",
          "symbol": "circle"
         },
         "mode": "markers",
         "name": "Socialistisk Folkeparti, 1",
         "orientation": "v",
         "showlegend": true,
         "type": "scatter",
         "x": [
          -8.702470955062527,
          -6.065531170464242,
          -8.985253950846756,
          -8.15932160415638,
          -7.9533541584213605,
          -6.574400081776398,
          -8.439371433681746,
          -6.797470689673339,
          -8.364564676275009,
          -9.549480637814955,
          -9.266839770499006,
          -7.518978864138652,
          -6.998984871097152,
          -6.783055681929955
         ],
         "xaxis": "x",
         "y": [
          -1.2909072360813703,
          -1.2349306421208361,
          -1.405581060932341,
          -1.1945039222932272,
          -1.3990896209846808,
          -0.3839697762094969,
          -1.8085562427111004,
          -1.2111968007201663,
          -0.8560463519124367,
          -1.4141656483870793,
          -1.6690518748975345,
          -0.6931642118323948,
          -0.6870329505961935,
          -1.5488927499476737
         ],
         "yaxis": "y"
        },
        {
         "customdata": [
          [
           17,
           "Torsten Gejl",
           "Østjyllands Storkreds",
           58,
           1
          ],
          [
           122,
           "Christina Sade Olumeko",
           "Københavns Storkreds",
           25,
           1
          ],
          [
           125,
           "Franciska Rosenkilde",
           "Københavns Storkreds",
           46,
           1
          ],
          [
           609,
           "Sascha Faxe",
           "Sjællands Storkreds",
           51,
           1
          ],
          [
           718,
           "Helene Liliendahl Brydensholt",
           "Nordsjællands Storkreds",
           35,
           1
          ]
         ],
         "hovertemplate": "parti=Alternativet<br>clust=%{customdata[4]}<br>X=%{x}<br>y=%{y}<br>navn=%{customdata[1]}<br>storkreds=%{customdata[2]}<br>alder=%{customdata[3]}<extra></extra>",
         "legendgroup": "Alternativet, 1",
         "marker": {
          "color": "#2b8738",
          "symbol": "circle"
         },
         "mode": "markers",
         "name": "Alternativet, 1",
         "orientation": "v",
         "showlegend": true,
         "type": "scatter",
         "x": [
          -4.029135596809968,
          -1.6160899339024402,
          -2.38933492002837,
          -1.506052667338457,
          -2.7712066480740982
         ],
         "xaxis": "x",
         "y": [
          -0.26442477943773357,
          -2.741319151779994,
          -2.1392639113937517,
          -3.300087699437994,
          -2.6891965701243348
         ],
         "yaxis": "y"
        },
        {
         "customdata": [
          [
           25,
           "Mai Villadsen",
           "Østjyllands Storkreds",
           30,
           1
          ],
          [
           131,
           "Jette Gottlieb",
           "Københavns Storkreds",
           74,
           1
          ],
          [
           134,
           "Rosa Lund",
           "Københavns Storkreds",
           35,
           1
          ],
          [
           135,
           "Pelle Dragsted",
           "Københavns Storkreds",
           47,
           1
          ],
          [
           243,
           "Peder Hvelplund",
           "Nordjyllands Storkreds",
           55,
           1
          ],
          [
           342,
           "Victoria Velásquez",
           "Fyns Storkreds",
           31,
           1
          ],
          [
           504,
           "Søren Egge Rasmussen",
           "Sydjyllands Storkreds",
           61,
           1
          ],
          [
           613,
           "Trine Pertou Mach",
           "Sjællands Storkreds",
           0,
           1
          ],
          [
           797,
           "Søren Søndergaard",
           "Københavns Omegns Storkreds",
           67,
           1
          ]
         ],
         "hovertemplate": "parti=Enhedslisten<br>clust=%{customdata[4]}<br>X=%{x}<br>y=%{y}<br>navn=%{customdata[1]}<br>storkreds=%{customdata[2]}<br>alder=%{customdata[3]}<extra></extra>",
         "legendgroup": "Enhedslisten, 1",
         "marker": {
          "color": "#e6801a",
          "symbol": "circle"
         },
         "mode": "markers",
         "name": "Enhedslisten, 1",
         "orientation": "v",
         "showlegend": true,
         "type": "scatter",
         "x": [
          -9.400640197675894,
          -9.663875163665306,
          -8.652776445119022,
          -9.843209213440705,
          -10.402137043101737,
          -7.6700162269763545,
          -9.6528712229785,
          -9.356016138064295,
          -8.716464844318814
         ],
         "xaxis": "x",
         "y": [
          1.070545873668682,
          4.938223695564866,
          0.7944617419845191,
          1.1607243500341275,
          -0.17888531339528896,
          3.7360948092135886,
          0.7794701642471663,
          0.945097190308646,
          2.580925391337024
         ],
         "yaxis": "y"
        },
        {
         "customdata": [
          [
           29,
           "Hans Kristian Skibby",
           "Østjyllands Storkreds",
           53,
           0
          ],
          [
           246,
           "Lise Bech",
           "Nordjyllands Storkreds",
           61,
           0
          ],
          [
           248,
           "Inger Støjberg",
           "Nordjyllands Storkreds",
           49,
           0
          ],
          [
           249,
           "Kristian Bøgsted",
           "Nordjyllands Storkreds",
           39,
           0
          ],
          [
           347,
           "Jens Henrik W. Thulesen Dahl",
           "Fyns Storkreds",
           61,
           0
          ],
          [
           420,
           "Dennis Flydtkjær",
           "Vestjyllands Storkreds",
           44,
           0
          ],
          [
           422,
           "Betina Kastbjerg",
           "Vestjyllands Storkreds",
           50,
           0
          ],
          [
           507,
           "Kenneth Fredslund Petersen",
           "Sydjyllands Storkreds",
           57,
           0
          ],
          [
           508,
           "Karina Adsbøl",
           "Sydjyllands Storkreds",
           45,
           0
          ],
          [
           512,
           "Søren Espersen",
           "Sydjyllands Storkreds",
           69,
           0
          ],
          [
           617,
           "Peter Skaarup",
           "Sjællands Storkreds",
           58,
           0
          ],
          [
           618,
           "Susie Jessen",
           "Sjællands Storkreds",
           37,
           0
          ],
          [
           727,
           "Marlene Harpsøe",
           "Nordsjællands Storkreds",
           39,
           0
          ],
          [
           800,
           "Charlotte Munch",
           "Københavns Omegns Storkreds",
           55,
           0
          ]
         ],
         "hovertemplate": "parti=Danmarksdemokraterne<br>clust=%{customdata[4]}<br>X=%{x}<br>y=%{y}<br>navn=%{customdata[1]}<br>storkreds=%{customdata[2]}<br>alder=%{customdata[3]}<extra></extra>",
         "legendgroup": "Danmarksdemokraterne, 0",
         "marker": {
          "color": "#7896d2",
          "symbol": "diamond"
         },
         "mode": "markers",
         "name": "Danmarksdemokraterne, 0",
         "orientation": "v",
         "showlegend": true,
         "type": "scatter",
         "x": [
          2.7293276427090642,
          3.4487248158818953,
          2.390825133423897,
          3.027200825526421,
          3.71410986522943,
          4.269070832771022,
          2.146393448494732,
          3.0026773656022385,
          2.2178556995334375,
          1.4711473287361818,
          1.9675585570535317,
          2.3063504045589083,
          2.0292312450429395,
          3.5996361137791775
         ],
         "xaxis": "x",
         "y": [
          5.223292555866362,
          6.037992969699018,
          7.432369274607276,
          4.831137105808019,
          6.838606116400208,
          6.54025259273781,
          8.12583313174888,
          5.673877866340501,
          4.7398373722708325,
          8.769379906157758,
          5.7470372908446805,
          6.609188057557983,
          6.214900116280083,
          5.666085969721928
         ],
         "yaxis": "y"
        },
        {
         "customdata": [
          [
           33,
           "Troels Lund Poulsen",
           "Østjyllands Storkreds",
           46,
           0
          ],
          [
           37,
           "Michael Aastrup Jensen",
           "Østjyllands Storkreds",
           46,
           0
          ],
          [
           39,
           "Jakob Ellemann-Jensen",
           "Østjyllands Storkreds",
           49,
           0
          ],
          [
           140,
           "Linea Søgaard-Lidell",
           "Københavns Storkreds",
           35,
           0
          ],
          [
           144,
           "Jan E. Jørgensen",
           "Københavns Storkreds",
           57,
           0
          ],
          [
           253,
           "Marie Bjerre",
           "Nordjyllands Storkreds",
           36,
           0
          ],
          [
           254,
           "Preben Bang Henriksen",
           "Nordjyllands Storkreds",
           68,
           0
          ],
          [
           257,
           "Torsten Schack Pedersen",
           "Nordjyllands Storkreds",
           46,
           0
          ],
          [
           317,
           "Peter Juel-Jensen",
           "Bornholms Storkreds",
           56,
           0
          ],
          [
           352,
           "Lars Christian Lilleholt",
           "Fyns Storkreds",
           57,
           0
          ],
          [
           356,
           "Erling Bonnesen",
           "Fyns Storkreds",
           67,
           0
          ],
          [
           428,
           "Søren Gade",
           "Vestjyllands Storkreds",
           59,
           0
          ],
          [
           429,
           "Mads Fuglede",
           "Vestjyllands Storkreds",
           51,
           0
          ],
          [
           431,
           "Thomas Danielsen",
           "Vestjyllands Storkreds",
           39,
           0
          ],
          [
           514,
           "Hans Christian Schmidt",
           "Sydjyllands Storkreds",
           69,
           0
          ],
          [
           516,
           "Anni Matthiesen",
           "Sydjyllands Storkreds",
           58,
           0
          ],
          [
           517,
           "Christoffer Aagaard Melson",
           "Sydjyllands Storkreds",
           38,
           0
          ],
          [
           626,
           "Jacob Jensen",
           "Sjællands Storkreds",
           49,
           0
          ],
          [
           629,
           "Louise Schack Elholm",
           "Sjællands Storkreds",
           45,
           0
          ],
          [
           632,
           "Morten Dahlin",
           "Sjællands Storkreds",
           33,
           0
          ],
          [
           728,
           "Sophie Løhde",
           "Nordsjællands Storkreds",
           39,
           0
          ],
          [
           732,
           "Hans Andersen",
           "Nordsjællands Storkreds",
           48,
           0
          ],
          [
           808,
           "Karen Ellemann",
           "Københavns Omegns Storkreds",
           53,
           0
          ]
         ],
         "hovertemplate": "parti=Venstre<br>clust=%{customdata[4]}<br>X=%{x}<br>y=%{y}<br>navn=%{customdata[1]}<br>storkreds=%{customdata[2]}<br>alder=%{customdata[3]}<extra></extra>",
         "legendgroup": "Venstre, 0",
         "marker": {
          "color": "#254264",
          "symbol": "diamond"
         },
         "mode": "markers",
         "name": "Venstre, 0",
         "orientation": "v",
         "showlegend": true,
         "type": "scatter",
         "x": [
          5.529923496973575,
          3.7018642701896716,
          7.256225885999273,
          7.341618257728793,
          6.902097530110883,
          7.048088369181276,
          6.701452001981227,
          6.6671995410676645,
          6.273842648844396,
          8.342415897473831,
          4.777818156537948,
          5.441098765745947,
          5.651447258530316,
          6.752188767282019,
          6.829490735086295,
          7.020384218010144,
          6.054239704427425,
          7.04166420850342,
          6.742985375792405,
          4.729037550491483,
          7.010690128693033,
          6.224240188042377,
          6.73769680942184
         ],
         "xaxis": "x",
         "y": [
          -0.8727600740365329,
          0.18232183331918905,
          -0.8828233726697539,
          -3.3658914046081945,
          -2.4578540157983984,
          -1.079006729399919,
          -2.5241075335755094,
          0.16092355696637792,
          -0.8624609896250846,
          0.043542510985992086,
          -0.7646530389924124,
          -1.5157364586364404,
          -0.5373653444505825,
          -1.989273112610493,
          -0.964752055886239,
          -1.0521629680049802,
          -0.06090397051404584,
          -1.951261996159072,
          -1.5630469379750531,
          -1.240387994248647,
          -2.3069032661430957,
          -1.059737381115366,
          -1.5877611605296211
         ],
         "yaxis": "y"
        },
        {
         "customdata": [
          [
           46,
           "Nick Zimmermann",
           "Østjyllands Storkreds",
           28,
           0
          ],
          [
           362,
           "Alex Ahrendtsen",
           "Fyns Storkreds",
           55,
           0
          ],
          [
           529,
           "Peter Kofod",
           "Sydjyllands Storkreds",
           32,
           0
          ],
          [
           637,
           "Pia Kjærsgaard",
           "Sjællands Storkreds",
           75,
           0
          ],
          [
           817,
           "Morten Messerschmidt",
           "Københavns Omegns Storkreds",
           41,
           0
          ]
         ],
         "hovertemplate": "parti=Dansk Folkeparti<br>clust=%{customdata[4]}<br>X=%{x}<br>y=%{y}<br>navn=%{customdata[1]}<br>storkreds=%{customdata[2]}<br>alder=%{customdata[3]}<extra></extra>",
         "legendgroup": "Dansk Folkeparti, 0",
         "marker": {
          "color": "#eac73e",
          "symbol": "diamond"
         },
         "mode": "markers",
         "name": "Dansk Folkeparti, 0",
         "orientation": "v",
         "showlegend": true,
         "type": "scatter",
         "x": [
          0.5262969271141261,
          -1.463937135534112,
          0.47043490807703514,
          1.8647314035111342,
          0.1914054015144942
         ],
         "xaxis": "x",
         "y": [
          11.078774487682155,
          9.428764472224932,
          7.070926900186873,
          10.58145691266718,
          8.533894222082974
         ],
         "yaxis": "y"
        },
        {
         "customdata": [
          [
           164,
           "Jon Læssøe Stephensen",
           "Københavns Storkreds",
           62,
           1
          ]
         ],
         "hovertemplate": "parti=Moderaterne<br>clust=%{customdata[4]}<br>X=%{x}<br>y=%{y}<br>navn=%{customdata[1]}<br>storkreds=%{customdata[2]}<br>alder=%{customdata[3]}<extra></extra>",
         "legendgroup": "Moderaterne, 1",
         "marker": {
          "color": "#b48cd2",
          "symbol": "circle"
         },
         "mode": "markers",
         "name": "Moderaterne, 1",
         "orientation": "v",
         "showlegend": true,
         "type": "scatter",
         "x": [
          -1.1143530168605829
         ],
         "xaxis": "x",
         "y": [
          -4.932089217854754
         ],
         "yaxis": "y"
        },
        {
         "customdata": [
          [
           54,
           "Karin Liltorp",
           "Østjyllands Storkreds",
           50,
           0
          ],
          [
           55,
           "Peter Have",
           "Østjyllands Storkreds",
           59,
           0
          ],
          [
           57,
           "Tobias Grotkjær Elmstrøm",
           "Østjyllands Storkreds",
           40,
           0
          ],
          [
           163,
           "Nanna W. Gotfredsen",
           "Københavns Storkreds",
           53,
           0
          ],
          [
           265,
           "Kristian Klarskov",
           "Nordjyllands Storkreds",
           47,
           0
          ],
          [
           363,
           "Rosa Eriksen",
           "Fyns Storkreds",
           32,
           0
          ],
          [
           407,
           "Jeppe Søe",
           "Vestjyllands Storkreds",
           51,
           0
          ],
          [
           531,
           "Mette Kierkgaard",
           "Sydjyllands Storkreds",
           50,
           0
          ],
          [
           532,
           "Henrik Frandsen",
           "Sydjyllands Storkreds",
           61,
           0
          ],
          [
           649,
           "Mike Fonseca",
           "Sjællands Storkreds",
           27,
           0
          ],
          [
           652,
           "Charlotte Bagge Hansen",
           "Sjællands Storkreds",
           53,
           0
          ],
          [
           743,
           "Jakob Engel-Schmidt",
           "Nordsjællands Storkreds",
           39,
           0
          ],
          [
           822,
           "Rasmus Lund-Nielsen",
           "Københavns Omegns Storkreds",
           34,
           0
          ],
          [
           824,
           "Monika Rubin",
           "Københavns Omegns Storkreds",
           34,
           0
          ]
         ],
         "hovertemplate": "parti=Moderaterne<br>clust=%{customdata[4]}<br>X=%{x}<br>y=%{y}<br>navn=%{customdata[1]}<br>storkreds=%{customdata[2]}<br>alder=%{customdata[3]}<extra></extra>",
         "legendgroup": "Moderaterne, 0",
         "marker": {
          "color": "#b48cd2",
          "symbol": "diamond"
         },
         "mode": "markers",
         "name": "Moderaterne, 0",
         "orientation": "v",
         "showlegend": true,
         "type": "scatter",
         "x": [
          1.3830798560435187,
          2.2914027939103336,
          3.9542164598289857,
          3.223804007579791,
          3.61436032576266,
          3.83772671647134,
          2.7801225085282537,
          3.1244024211430967,
          2.954020432254569,
          2.644046820795581,
          4.239289512752847,
          2.339817530287298,
          4.808282469955254,
          2.2483834460105188
         ],
         "xaxis": "x",
         "y": [
          -5.588177986660457,
          -3.575243165969345,
          -5.10954094959859,
          -5.575424455965698,
          -6.582862054311694,
          -4.24445830764169,
          -2.916267719696455,
          -5.997345167496939,
          -5.08566215540944,
          -5.7319011843360625,
          -7.102045615097384,
          -4.60062469561957,
          -4.557220804544134,
          -6.766668807466804
         ],
         "yaxis": "y"
        },
        {
         "customdata": [
          [
           69,
           "Louise Brown",
           "Østjyllands Storkreds",
           42,
           0
          ],
          [
           70,
           "Jens Meilvang",
           "Østjyllands Storkreds",
           41,
           0
          ],
          [
           72,
           "Alex Vanopslagh",
           "Østjyllands Storkreds",
           31,
           0
          ],
          [
           176,
           "Alexander Ryle",
           "Københavns Storkreds",
           32,
           0
          ],
          [
           178,
           "Ole Birk Olesen",
           "Københavns Storkreds",
           49,
           0
          ],
          [
           275,
           "Sólbjørg Jakobsen",
           "Nordjyllands Storkreds",
           31,
           0
          ],
          [
           373,
           "Katrine Daugaard",
           "Fyns Storkreds",
           41,
           0
          ],
          [
           454,
           "Carsten Bach",
           "Vestjyllands Storkreds",
           46,
           0
          ],
          [
           543,
           "Helena Artmann Andresen",
           "Sydjyllands Storkreds",
           21,
           0
          ],
          [
           546,
           "Henrik Dahl",
           "Sydjyllands Storkreds",
           62,
           0
          ],
          [
           664,
           "Lars-Christian Brask",
           "Sjællands Storkreds",
           59,
           0
          ],
          [
           665,
           "Sandra Elisabeth Skalvig",
           "Sjællands Storkreds",
           32,
           0
          ],
          [
           753,
           "Steffen Frølund",
           "Nordsjællands Storkreds",
           38,
           0
          ],
          [
           837,
           "Steffen Larsen",
           "Københavns Omegns Storkreds",
           38,
           0
          ]
         ],
         "hovertemplate": "parti=Liberal Alliance<br>clust=%{customdata[4]}<br>X=%{x}<br>y=%{y}<br>navn=%{customdata[1]}<br>storkreds=%{customdata[2]}<br>alder=%{customdata[3]}<extra></extra>",
         "legendgroup": "Liberal Alliance, 0",
         "marker": {
          "color": "#3fb2be",
          "symbol": "diamond"
         },
         "mode": "markers",
         "name": "Liberal Alliance, 0",
         "orientation": "v",
         "showlegend": true,
         "type": "scatter",
         "x": [
          11.472397567634655,
          10.420330120386103,
          10.181317556741426,
          9.103090074943143,
          11.823937651396871,
          11.057053469828428,
          10.982648418428735,
          11.223603789735566,
          10.394988158765784,
          10.768943241306665,
          11.231494672124226,
          10.362274114223098,
          10.269843090981961,
          11.333826410036568
         ],
         "xaxis": "x",
         "y": [
          -0.3916928764016472,
          -1.1030500321540133,
          -1.6158651973806208,
          -4.43312489203642,
          -1.31302442989833,
          -0.30338375449541477,
          -1.1971157284029894,
          -2.4810039582648176,
          0.1986255872010838,
          0.24682548289310538,
          -1.6958265935835497,
          -1.2660448915130145,
          -0.3694577363006749,
          -1.2431687516738257
         ],
         "yaxis": "y"
        },
        {
         "customdata": [
          [
           86,
           "Lars Boje Mathiesen",
           "Østjyllands Storkreds",
           47,
           0
          ],
          [
           286,
           "Kim Edberg",
           "Nordjyllands Storkreds",
           49,
           0
          ],
          [
           383,
           "Mikkel Bjørn",
           "Fyns Storkreds",
           27,
           0
          ],
          [
           565,
           "Pernille Vermund",
           "Sydjyllands Storkreds",
           46,
           0
          ],
          [
           678,
           "Peter Seier Christensen",
           "Sjællands Storkreds",
           54,
           0
          ],
          [
           762,
           "Mette Thiesen",
           "Nordsjællands Storkreds",
           40,
           0
          ]
         ],
         "hovertemplate": "parti=Nye Borgerlige<br>clust=%{customdata[4]}<br>X=%{x}<br>y=%{y}<br>navn=%{customdata[1]}<br>storkreds=%{customdata[2]}<br>alder=%{customdata[3]}<extra></extra>",
         "legendgroup": "Nye Borgerlige, 0",
         "marker": {
          "color": "#127b7f",
          "symbol": "diamond"
         },
         "mode": "markers",
         "name": "Nye Borgerlige, 0",
         "orientation": "v",
         "showlegend": true,
         "type": "scatter",
         "x": [
          3.5487600849616188,
          4.434679213241767,
          4.027668860291062,
          4.185919523548704,
          4.019997312661573,
          4.463912011386747
         ],
         "xaxis": "x",
         "y": [
          11.691591574433557,
          11.674586710430981,
          11.164350324552396,
          11.653846718555537,
          11.999199820382882,
          10.113491321721765
         ],
         "yaxis": "y"
        },
        {
         "customdata": [
          [
           98,
           "Mona Juul",
           "Østjyllands Storkreds",
           55,
           0
          ],
          [
           202,
           "Helle Bonnesen",
           "Københavns Storkreds",
           0,
           0
          ],
          [
           293,
           "Per Larsen",
           "Nordjyllands Storkreds",
           57,
           0
          ],
          [
           393,
           "Mai Mercado",
           "Fyns Storkreds",
           42,
           0
          ],
          [
           475,
           "Lise Bertelsen",
           "Vestjyllands Storkreds",
           47,
           0
          ],
          [
           477,
           "Søren Pape Poulsen",
           "Vestjyllands Storkreds",
           50,
           0
          ],
          [
           581,
           "Niels Flemming Hansen",
           "Sydjyllands Storkreds",
           48,
           0
          ],
          [
           689,
           "Brigitte Klintskov Jerkel",
           "Sjællands Storkreds",
           53,
           0
          ],
          [
           770,
           "Mette Abildgaard",
           "Nordsjællands Storkreds",
           34,
           0
          ],
          [
           848,
           "Rasmus Jarlov",
           "Københavns Omegns Storkreds",
           45,
           0
          ]
         ],
         "hovertemplate": "parti=Det Konservative Folkeparti<br>clust=%{customdata[4]}<br>X=%{x}<br>y=%{y}<br>navn=%{customdata[1]}<br>storkreds=%{customdata[2]}<br>alder=%{customdata[3]}<extra></extra>",
         "legendgroup": "Det Konservative Folkeparti, 0",
         "marker": {
          "color": "#96b226",
          "symbol": "diamond"
         },
         "mode": "markers",
         "name": "Det Konservative Folkeparti, 0",
         "orientation": "v",
         "showlegend": true,
         "type": "scatter",
         "x": [
          7.630756684096467,
          7.961767742896628,
          8.592513213703825,
          7.722471741592332,
          6.06377397098888,
          9.11353371872387,
          8.626298692392032,
          8.96309795586532,
          8.515199112167322,
          10.192746489272782
         ],
         "xaxis": "x",
         "y": [
          -1.9045285430076513,
          -2.3768578571672077,
          -1.379846846716752,
          -2.2658049947391707,
          -1.1878559939942355,
          -2.549551197760317,
          -0.527546097414008,
          -0.9879015573344052,
          -1.7970636650951703,
          -3.3468039630008777
         ],
         "yaxis": "y"
        },
        {
         "customdata": [
          [
           100,
           "Katrine Robsøe",
           "Østjyllands Storkreds",
           31,
           1
          ],
          [
           214,
           "Samira Nawa",
           "Københavns Storkreds",
           34,
           1
          ],
          [
           300,
           "Christian Friis Bach",
           "Nordjyllands Storkreds",
           56,
           1
          ],
          [
           589,
           "Lotte Rod",
           "Sydjyllands Storkreds",
           37,
           1
          ],
          [
           698,
           "Zenia Stampe",
           "Sjællands Storkreds",
           43,
           1
          ],
          [
           776,
           "Martin Lidegaard",
           "Nordsjællands Storkreds",
           55,
           1
          ],
          [
           861,
           "Sofie Carsten Nielsen",
           "Københavns Omegns Storkreds",
           47,
           1
          ]
         ],
         "hovertemplate": "parti=Radikale Venstre<br>clust=%{customdata[4]}<br>X=%{x}<br>y=%{y}<br>navn=%{customdata[1]}<br>storkreds=%{customdata[2]}<br>alder=%{customdata[3]}<extra></extra>",
         "legendgroup": "Radikale Venstre, 1",
         "marker": {
          "color": "#733280",
          "symbol": "circle"
         },
         "mode": "markers",
         "name": "Radikale Venstre, 1",
         "orientation": "v",
         "showlegend": true,
         "type": "scatter",
         "x": [
          -3.5610045724019455,
          -2.5460974627979205,
          -1.1475184130096792,
          -3.131808259410564,
          -3.3804490820751543,
          -2.1618136274440425,
          -3.054724485858504
         ],
         "xaxis": "x",
         "y": [
          -4.480349742545349,
          -2.902992259339299,
          -5.465062410927927,
          -3.5557984477434834,
          -4.426598761421035,
          -4.490496846107365,
          -5.352271948641492
         ],
         "yaxis": "y"
        },
        {
         "customdata": [
          [
           107,
           "Nicolai Wammen",
           "Østjyllands Storkreds",
           51,
           1
          ],
          [
           110,
           "Thomas Monberg",
           "Østjyllands Storkreds",
           46,
           1
          ],
          [
           112,
           "Malte Larsen",
           "Østjyllands Storkreds",
           53,
           1
          ],
          [
           115,
           "Camilla Fabricius",
           "Østjyllands Storkreds",
           51,
           1
          ],
          [
           116,
           "Jens Joel",
           "Østjyllands Storkreds",
           44,
           1
          ],
          [
           221,
           "Pernille Rosenkrantz-Theil",
           "Københavns Storkreds",
           45,
           1
          ],
          [
           222,
           "Peter Hummelgaard",
           "Københavns Storkreds",
           39,
           1
          ],
          [
           225,
           "Mette Reissmann",
           "Københavns Storkreds",
           59,
           1
          ],
          [
           226,
           "Ida Margrete Meier Auken",
           "Københavns Storkreds",
           44,
           1
          ],
          [
           305,
           "Rasmus Prehn",
           "Nordjyllands Storkreds",
           49,
           1
          ],
          [
           306,
           "Flemming Møller Mortensen",
           "Nordjyllands Storkreds",
           59,
           1
          ],
          [
           307,
           "Per Husted",
           "Nordjyllands Storkreds",
           56,
           1
          ],
          [
           310,
           "Ane Halsboe-Jørgensen",
           "Nordjyllands Storkreds",
           39,
           1
          ],
          [
           311,
           "Bjarne Laustsen",
           "Nordjyllands Storkreds",
           68,
           1
          ],
          [
           331,
           "Lea Wermelin",
           "Bornholms Storkreds",
           37,
           1
          ],
          [
           399,
           "Kim Aas",
           "Fyns Storkreds",
           52,
           1
          ],
          [
           401,
           "Thomas Skriver Jensen",
           "Fyns Storkreds",
           26,
           1
          ],
          [
           402,
           "Dan Jørgensen",
           "Fyns Storkreds",
           47,
           1
          ],
          [
           405,
           "Sara Emil Baaring",
           "Fyns Storkreds",
           36,
           1
          ],
          [
           406,
           "Trine Bramsen",
           "Fyns Storkreds",
           41,
           1
          ],
          [
           482,
           "Anne Paulin",
           "Vestjyllands Storkreds",
           34,
           1
          ],
          [
           484,
           "Annette Lind",
           "Vestjyllands Storkreds",
           53,
           1
          ],
          [
           485,
           "Thomas Jensen",
           "Vestjyllands Storkreds",
           52,
           1
          ],
          [
           486,
           "Mogens Jensen",
           "Vestjyllands Storkreds",
           59,
           1
          ],
          [
           590,
           "Kris Jensen Skriver",
           "Sydjyllands Storkreds",
           33,
           1
          ],
          [
           591,
           "Birgitte Vind",
           "Sydjyllands Storkreds",
           57,
           1
          ],
          [
           593,
           "Jesper Petersen",
           "Sydjyllands Storkreds",
           41,
           1
          ],
          [
           594,
           "Christian Rabjerg Madsen",
           "Sydjyllands Storkreds",
           36,
           1
          ],
          [
           596,
           "Anders Kronborg",
           "Sydjyllands Storkreds",
           40,
           1
          ],
          [
           703,
           "Kasper Roug",
           "Sjællands Storkreds",
           43,
           1
          ],
          [
           705,
           "Rasmus Horn Langhoff",
           "Sjællands Storkreds",
           42,
           1
          ],
          [
           707,
           "Astrid Krag",
           "Sjællands Storkreds",
           39,
           1
          ],
          [
           709,
           "Magnus Johannes Heunicke",
           "Sjællands Storkreds",
           47,
           1
          ],
          [
           711,
           "Mette Gjerskov",
           "Sjællands Storkreds",
           56,
           1
          ],
          [
           712,
           "Kaare Dybvad Bek",
           "Sjællands Storkreds",
           38,
           1
          ],
          [
           779,
           "Rasmus Stoklund",
           "Nordsjællands Storkreds",
           38,
           1
          ],
          [
           780,
           "Matilde Powers",
           "Nordsjællands Storkreds",
           40,
           1
          ],
          [
           782,
           "Henrik Møller",
           "Nordsjællands Storkreds",
           56,
           1
          ],
          [
           783,
           "Fie Thorsted Hækkerup",
           "Nordsjællands Storkreds",
           28,
           1
          ],
          [
           865,
           "Mattias Tesfaye",
           "Københavns Omegns Storkreds",
           41,
           1
          ],
          [
           866,
           "Kasper Sand Kjær",
           "Københavns Omegns Storkreds",
           33,
           1
          ],
          [
           868,
           "Maria Durhuus",
           "Københavns Omegns Storkreds",
           45,
           1
          ],
          [
           869,
           "Morten Bødskov",
           "Københavns Omegns Storkreds",
           52,
           1
          ],
          [
           870,
           "Jeppe Bruus",
           "Københavns Omegns Storkreds",
           44,
           1
          ]
         ],
         "hovertemplate": "parti=Socialdemokratiet<br>clust=%{customdata[4]}<br>X=%{x}<br>y=%{y}<br>navn=%{customdata[1]}<br>storkreds=%{customdata[2]}<br>alder=%{customdata[3]}<extra></extra>",
         "legendgroup": "Socialdemokratiet, 1",
         "marker": {
          "color": "#a82721",
          "symbol": "circle"
         },
         "mode": "markers",
         "name": "Socialdemokratiet, 1",
         "orientation": "v",
         "showlegend": true,
         "type": "scatter",
         "x": [
          -5.612037867290538,
          -5.731434774163748,
          -5.979234064856863,
          -6.351056518026087,
          -5.262037346175014,
          -5.9802920831655495,
          -5.245402222196403,
          -5.80447658471839,
          -6.269599770122551,
          -5.7340005700804415,
          -5.607060375778036,
          -6.352062594865312,
          -5.776588941450829,
          -5.464414608834042,
          -5.306906065501641,
          -5.525104224937457,
          -5.933461982766344,
          -6.111940935228643,
          -6.553149744966278,
          -5.6462865400597,
          -4.727371422094324,
          -5.981224226209454,
          -5.3380181375347515,
          -5.340184394274469,
          -5.865381898143684,
          -5.927830941818547,
          -4.9945382092965,
          -4.954925675924664,
          -5.180495197045573,
          -2.8547597384662935,
          -5.571901868026408,
          -5.380086810522781,
          -5.272923690036974,
          -8.43529835466334,
          -5.459262804512698,
          -5.398475967333359,
          -4.520970857842464,
          -5.680356551531412,
          -6.920688013308574,
          -4.846738071522153,
          -5.437558498153093,
          -4.901712315255335,
          -6.8060351527328695,
          -4.869883541615551
         ],
         "xaxis": "x",
         "y": [
          0.14759455379043662,
          -0.440904656606074,
          0.35535468190695285,
          -0.7577577283857654,
          -0.9925071991172612,
          -0.35759820323373237,
          -0.7968099686722194,
          -0.2809663020177039,
          -1.3308711323090556,
          -1.474926167092865,
          -2.2966927795421768,
          -0.6224140673511855,
          -0.6604004614895812,
          -0.2359665811853356,
          -0.3869951118449665,
          -1.431313841706751,
          -0.8718078134032416,
          -0.2155718011867949,
          -0.5710369728813042,
          -0.35438687007604186,
          -1.575588242636791,
          1.4500744336907427,
          0.037569630794307196,
          0.5770269662482854,
          -0.31142654924429714,
          -0.16567148366472673,
          -0.1680113778549638,
          -0.021067382780643046,
          -1.008815288331696,
          -0.49269710344812684,
          0.24351936166907523,
          -0.738497946765054,
          -0.10268721540811745,
          -1.6021874237324654,
          -0.5358582152332545,
          -0.3973373948075968,
          -1.7671203676989506,
          -0.041308690082942745,
          -1.323014955066108,
          -0.5383899025041263,
          0.6906129535578049,
          0.3710161258926907,
          -1.0841502785065071,
          1.0969521754405969
         ],
         "yaxis": "y"
        },
        {
         "customdata": [
          [
           308,
           "Simon Kollerup",
           "Nordjyllands Storkreds",
           36,
           0
          ],
          [
           403,
           "Bjørn Brandenborg",
           "Fyns Storkreds",
           0,
           0
          ],
          [
           600,
           "Benny Engelbrecht",
           "Sydjyllands Storkreds",
           52,
           0
          ],
          [
           702,
           "Frederik Vad",
           "Sjællands Storkreds",
           28,
           0
          ]
         ],
         "hovertemplate": "parti=Socialdemokratiet<br>clust=%{customdata[4]}<br>X=%{x}<br>y=%{y}<br>navn=%{customdata[1]}<br>storkreds=%{customdata[2]}<br>alder=%{customdata[3]}<extra></extra>",
         "legendgroup": "Socialdemokratiet, 0",
         "marker": {
          "color": "#a82721",
          "symbol": "diamond"
         },
         "mode": "markers",
         "name": "Socialdemokratiet, 0",
         "orientation": "v",
         "showlegend": true,
         "type": "scatter",
         "x": [
          -3.7455488535021684,
          -4.461528635082806,
          -1.7452233631279754,
          -6.0264057828370134
         ],
         "xaxis": "x",
         "y": [
          -0.5033943420439078,
          0.5966830317024724,
          0.6046165835913524,
          1.5314139238458133
         ],
         "yaxis": "y"
        }
       ],
       "layout": {
        "autosize": true,
        "legend": {
         "title": {
          "text": "parti, clust"
         },
         "tracegroupgap": 0
        },
        "margin": {
         "t": 60
        },
        "template": {
         "data": {
          "bar": [
           {
            "error_x": {
             "color": "#2a3f5f"
            },
            "error_y": {
             "color": "#2a3f5f"
            },
            "marker": {
             "line": {
              "color": "#E5ECF6",
              "width": 0.5
             },
             "pattern": {
              "fillmode": "overlay",
              "size": 10,
              "solidity": 0.2
             }
            },
            "type": "bar"
           }
          ],
          "barpolar": [
           {
            "marker": {
             "line": {
              "color": "#E5ECF6",
              "width": 0.5
             },
             "pattern": {
              "fillmode": "overlay",
              "size": 10,
              "solidity": 0.2
             }
            },
            "type": "barpolar"
           }
          ],
          "carpet": [
           {
            "aaxis": {
             "endlinecolor": "#2a3f5f",
             "gridcolor": "white",
             "linecolor": "white",
             "minorgridcolor": "white",
             "startlinecolor": "#2a3f5f"
            },
            "baxis": {
             "endlinecolor": "#2a3f5f",
             "gridcolor": "white",
             "linecolor": "white",
             "minorgridcolor": "white",
             "startlinecolor": "#2a3f5f"
            },
            "type": "carpet"
           }
          ],
          "choropleth": [
           {
            "colorbar": {
             "outlinewidth": 0,
             "ticks": ""
            },
            "type": "choropleth"
           }
          ],
          "contour": [
           {
            "colorbar": {
             "outlinewidth": 0,
             "ticks": ""
            },
            "colorscale": [
             [
              0,
              "#0d0887"
             ],
             [
              0.1111111111111111,
              "#46039f"
             ],
             [
              0.2222222222222222,
              "#7201a8"
             ],
             [
              0.3333333333333333,
              "#9c179e"
             ],
             [
              0.4444444444444444,
              "#bd3786"
             ],
             [
              0.5555555555555556,
              "#d8576b"
             ],
             [
              0.6666666666666666,
              "#ed7953"
             ],
             [
              0.7777777777777778,
              "#fb9f3a"
             ],
             [
              0.8888888888888888,
              "#fdca26"
             ],
             [
              1,
              "#f0f921"
             ]
            ],
            "type": "contour"
           }
          ],
          "contourcarpet": [
           {
            "colorbar": {
             "outlinewidth": 0,
             "ticks": ""
            },
            "type": "contourcarpet"
           }
          ],
          "heatmap": [
           {
            "colorbar": {
             "outlinewidth": 0,
             "ticks": ""
            },
            "colorscale": [
             [
              0,
              "#0d0887"
             ],
             [
              0.1111111111111111,
              "#46039f"
             ],
             [
              0.2222222222222222,
              "#7201a8"
             ],
             [
              0.3333333333333333,
              "#9c179e"
             ],
             [
              0.4444444444444444,
              "#bd3786"
             ],
             [
              0.5555555555555556,
              "#d8576b"
             ],
             [
              0.6666666666666666,
              "#ed7953"
             ],
             [
              0.7777777777777778,
              "#fb9f3a"
             ],
             [
              0.8888888888888888,
              "#fdca26"
             ],
             [
              1,
              "#f0f921"
             ]
            ],
            "type": "heatmap"
           }
          ],
          "heatmapgl": [
           {
            "colorbar": {
             "outlinewidth": 0,
             "ticks": ""
            },
            "colorscale": [
             [
              0,
              "#0d0887"
             ],
             [
              0.1111111111111111,
              "#46039f"
             ],
             [
              0.2222222222222222,
              "#7201a8"
             ],
             [
              0.3333333333333333,
              "#9c179e"
             ],
             [
              0.4444444444444444,
              "#bd3786"
             ],
             [
              0.5555555555555556,
              "#d8576b"
             ],
             [
              0.6666666666666666,
              "#ed7953"
             ],
             [
              0.7777777777777778,
              "#fb9f3a"
             ],
             [
              0.8888888888888888,
              "#fdca26"
             ],
             [
              1,
              "#f0f921"
             ]
            ],
            "type": "heatmapgl"
           }
          ],
          "histogram": [
           {
            "marker": {
             "pattern": {
              "fillmode": "overlay",
              "size": 10,
              "solidity": 0.2
             }
            },
            "type": "histogram"
           }
          ],
          "histogram2d": [
           {
            "colorbar": {
             "outlinewidth": 0,
             "ticks": ""
            },
            "colorscale": [
             [
              0,
              "#0d0887"
             ],
             [
              0.1111111111111111,
              "#46039f"
             ],
             [
              0.2222222222222222,
              "#7201a8"
             ],
             [
              0.3333333333333333,
              "#9c179e"
             ],
             [
              0.4444444444444444,
              "#bd3786"
             ],
             [
              0.5555555555555556,
              "#d8576b"
             ],
             [
              0.6666666666666666,
              "#ed7953"
             ],
             [
              0.7777777777777778,
              "#fb9f3a"
             ],
             [
              0.8888888888888888,
              "#fdca26"
             ],
             [
              1,
              "#f0f921"
             ]
            ],
            "type": "histogram2d"
           }
          ],
          "histogram2dcontour": [
           {
            "colorbar": {
             "outlinewidth": 0,
             "ticks": ""
            },
            "colorscale": [
             [
              0,
              "#0d0887"
             ],
             [
              0.1111111111111111,
              "#46039f"
             ],
             [
              0.2222222222222222,
              "#7201a8"
             ],
             [
              0.3333333333333333,
              "#9c179e"
             ],
             [
              0.4444444444444444,
              "#bd3786"
             ],
             [
              0.5555555555555556,
              "#d8576b"
             ],
             [
              0.6666666666666666,
              "#ed7953"
             ],
             [
              0.7777777777777778,
              "#fb9f3a"
             ],
             [
              0.8888888888888888,
              "#fdca26"
             ],
             [
              1,
              "#f0f921"
             ]
            ],
            "type": "histogram2dcontour"
           }
          ],
          "mesh3d": [
           {
            "colorbar": {
             "outlinewidth": 0,
             "ticks": ""
            },
            "type": "mesh3d"
           }
          ],
          "parcoords": [
           {
            "line": {
             "colorbar": {
              "outlinewidth": 0,
              "ticks": ""
             }
            },
            "type": "parcoords"
           }
          ],
          "pie": [
           {
            "automargin": true,
            "type": "pie"
           }
          ],
          "scatter": [
           {
            "fillpattern": {
             "fillmode": "overlay",
             "size": 10,
             "solidity": 0.2
            },
            "type": "scatter"
           }
          ],
          "scatter3d": [
           {
            "line": {
             "colorbar": {
              "outlinewidth": 0,
              "ticks": ""
             }
            },
            "marker": {
             "colorbar": {
              "outlinewidth": 0,
              "ticks": ""
             }
            },
            "type": "scatter3d"
           }
          ],
          "scattercarpet": [
           {
            "marker": {
             "colorbar": {
              "outlinewidth": 0,
              "ticks": ""
             }
            },
            "type": "scattercarpet"
           }
          ],
          "scattergeo": [
           {
            "marker": {
             "colorbar": {
              "outlinewidth": 0,
              "ticks": ""
             }
            },
            "type": "scattergeo"
           }
          ],
          "scattergl": [
           {
            "marker": {
             "colorbar": {
              "outlinewidth": 0,
              "ticks": ""
             }
            },
            "type": "scattergl"
           }
          ],
          "scattermapbox": [
           {
            "marker": {
             "colorbar": {
              "outlinewidth": 0,
              "ticks": ""
             }
            },
            "type": "scattermapbox"
           }
          ],
          "scatterpolar": [
           {
            "marker": {
             "colorbar": {
              "outlinewidth": 0,
              "ticks": ""
             }
            },
            "type": "scatterpolar"
           }
          ],
          "scatterpolargl": [
           {
            "marker": {
             "colorbar": {
              "outlinewidth": 0,
              "ticks": ""
             }
            },
            "type": "scatterpolargl"
           }
          ],
          "scatterternary": [
           {
            "marker": {
             "colorbar": {
              "outlinewidth": 0,
              "ticks": ""
             }
            },
            "type": "scatterternary"
           }
          ],
          "surface": [
           {
            "colorbar": {
             "outlinewidth": 0,
             "ticks": ""
            },
            "colorscale": [
             [
              0,
              "#0d0887"
             ],
             [
              0.1111111111111111,
              "#46039f"
             ],
             [
              0.2222222222222222,
              "#7201a8"
             ],
             [
              0.3333333333333333,
              "#9c179e"
             ],
             [
              0.4444444444444444,
              "#bd3786"
             ],
             [
              0.5555555555555556,
              "#d8576b"
             ],
             [
              0.6666666666666666,
              "#ed7953"
             ],
             [
              0.7777777777777778,
              "#fb9f3a"
             ],
             [
              0.8888888888888888,
              "#fdca26"
             ],
             [
              1,
              "#f0f921"
             ]
            ],
            "type": "surface"
           }
          ],
          "table": [
           {
            "cells": {
             "fill": {
              "color": "#EBF0F8"
             },
             "line": {
              "color": "white"
             }
            },
            "header": {
             "fill": {
              "color": "#C8D4E3"
             },
             "line": {
              "color": "white"
             }
            },
            "type": "table"
           }
          ]
         },
         "layout": {
          "annotationdefaults": {
           "arrowcolor": "#2a3f5f",
           "arrowhead": 0,
           "arrowwidth": 1
          },
          "autotypenumbers": "strict",
          "coloraxis": {
           "colorbar": {
            "outlinewidth": 0,
            "ticks": ""
           }
          },
          "colorscale": {
           "diverging": [
            [
             0,
             "#8e0152"
            ],
            [
             0.1,
             "#c51b7d"
            ],
            [
             0.2,
             "#de77ae"
            ],
            [
             0.3,
             "#f1b6da"
            ],
            [
             0.4,
             "#fde0ef"
            ],
            [
             0.5,
             "#f7f7f7"
            ],
            [
             0.6,
             "#e6f5d0"
            ],
            [
             0.7,
             "#b8e186"
            ],
            [
             0.8,
             "#7fbc41"
            ],
            [
             0.9,
             "#4d9221"
            ],
            [
             1,
             "#276419"
            ]
           ],
           "sequential": [
            [
             0,
             "#0d0887"
            ],
            [
             0.1111111111111111,
             "#46039f"
            ],
            [
             0.2222222222222222,
             "#7201a8"
            ],
            [
             0.3333333333333333,
             "#9c179e"
            ],
            [
             0.4444444444444444,
             "#bd3786"
            ],
            [
             0.5555555555555556,
             "#d8576b"
            ],
            [
             0.6666666666666666,
             "#ed7953"
            ],
            [
             0.7777777777777778,
             "#fb9f3a"
            ],
            [
             0.8888888888888888,
             "#fdca26"
            ],
            [
             1,
             "#f0f921"
            ]
           ],
           "sequentialminus": [
            [
             0,
             "#0d0887"
            ],
            [
             0.1111111111111111,
             "#46039f"
            ],
            [
             0.2222222222222222,
             "#7201a8"
            ],
            [
             0.3333333333333333,
             "#9c179e"
            ],
            [
             0.4444444444444444,
             "#bd3786"
            ],
            [
             0.5555555555555556,
             "#d8576b"
            ],
            [
             0.6666666666666666,
             "#ed7953"
            ],
            [
             0.7777777777777778,
             "#fb9f3a"
            ],
            [
             0.8888888888888888,
             "#fdca26"
            ],
            [
             1,
             "#f0f921"
            ]
           ]
          },
          "colorway": [
           "#636efa",
           "#EF553B",
           "#00cc96",
           "#ab63fa",
           "#FFA15A",
           "#19d3f3",
           "#FF6692",
           "#B6E880",
           "#FF97FF",
           "#FECB52"
          ],
          "font": {
           "color": "#2a3f5f"
          },
          "geo": {
           "bgcolor": "white",
           "lakecolor": "white",
           "landcolor": "#E5ECF6",
           "showlakes": true,
           "showland": true,
           "subunitcolor": "white"
          },
          "hoverlabel": {
           "align": "left"
          },
          "hovermode": "closest",
          "mapbox": {
           "style": "light"
          },
          "paper_bgcolor": "white",
          "plot_bgcolor": "#E5ECF6",
          "polar": {
           "angularaxis": {
            "gridcolor": "white",
            "linecolor": "white",
            "ticks": ""
           },
           "bgcolor": "#E5ECF6",
           "radialaxis": {
            "gridcolor": "white",
            "linecolor": "white",
            "ticks": ""
           }
          },
          "scene": {
           "xaxis": {
            "backgroundcolor": "#E5ECF6",
            "gridcolor": "white",
            "gridwidth": 2,
            "linecolor": "white",
            "showbackground": true,
            "ticks": "",
            "zerolinecolor": "white"
           },
           "yaxis": {
            "backgroundcolor": "#E5ECF6",
            "gridcolor": "white",
            "gridwidth": 2,
            "linecolor": "white",
            "showbackground": true,
            "ticks": "",
            "zerolinecolor": "white"
           },
           "zaxis": {
            "backgroundcolor": "#E5ECF6",
            "gridcolor": "white",
            "gridwidth": 2,
            "linecolor": "white",
            "showbackground": true,
            "ticks": "",
            "zerolinecolor": "white"
           }
          },
          "shapedefaults": {
           "line": {
            "color": "#2a3f5f"
           }
          },
          "ternary": {
           "aaxis": {
            "gridcolor": "white",
            "linecolor": "white",
            "ticks": ""
           },
           "baxis": {
            "gridcolor": "white",
            "linecolor": "white",
            "ticks": ""
           },
           "bgcolor": "#E5ECF6",
           "caxis": {
            "gridcolor": "white",
            "linecolor": "white",
            "ticks": ""
           }
          },
          "title": {
           "x": 0.05
          },
          "xaxis": {
           "automargin": true,
           "gridcolor": "white",
           "linecolor": "white",
           "ticks": "",
           "title": {
            "standoff": 15
           },
           "zerolinecolor": "white",
           "zerolinewidth": 2
          },
          "yaxis": {
           "automargin": true,
           "gridcolor": "white",
           "linecolor": "white",
           "ticks": "",
           "title": {
            "standoff": 15
           },
           "zerolinecolor": "white",
           "zerolinewidth": 2
          }
         }
        },
        "xaxis": {
         "anchor": "y",
         "autorange": true,
         "domain": [
          0,
          1
         ],
         "range": [
          -11.739441548411158,
          13.161242156706292
         ],
         "title": {
          "text": "X"
         },
         "type": "linear"
        },
        "yaxis": {
         "anchor": "x",
         "autorange": true,
         "domain": [
          0,
          1
         ],
         "range": [
          -8.581013437529583,
          13.478167642815082
         ],
         "title": {
          "text": "y"
         },
         "type": "linear"
        }
       }
      },
      "image/png": "[encoded data removed]",
      "text/html": [
       "<div>                            <div id=\"14b82815-5229-41ed-866a-2445493abce1\" class=\"plotly-graph-div\" style=\"height:525px; width:100%;\"></div>            <script type=\"text/javascript\">                require([\"plotly\"], function(Plotly) {                    window.PLOTLYENV=window.PLOTLYENV || {};                                    if (document.getElementById(\"14b82815-5229-41ed-866a-2445493abce1\")) {                    Plotly.newPlot(                        \"14b82815-5229-41ed-866a-2445493abce1\",                        [{\"customdata\":[[1,\"Karsten H\\u00f8nge\",\"Fyns Storkreds\",64,1],[76,\"Sofie Lippert\",\"\\u00d8stjyllands Storkreds\",26,1],[77,\"Charlotte Broman M\\u00f8lb\\u00e6k\",\"\\u00d8stjyllands Storkreds\",44,1],[80,\"Kirsten Normann Andersen\",\"\\u00d8stjyllands Storkreds\",60,1],[186,\"Pia Olsen Dyhr\",\"K\\u00f8benhavns Storkreds\",50,1],[187,\"Carl Valentin\",\"K\\u00f8benhavns Storkreds\",30,1],[188,\"Lisbeth Bech-Nielsen\",\"K\\u00f8benhavns Storkreds\",39,1],[282,\"Theresa Berg Andersen\",\"Nordjyllands Storkreds\",42,1],[460,\"Signe Munk\",\"Vestjyllands Storkreds\",32,1],[556,\"Karina Lorentzen Dehnhardt\",\"Sydjyllands Storkreds\",49,1],[671,\"Anne Valentina Berthelsen\",\"Sj\\u00e6llands Storkreds\",28,1],[674,\"Jacob Mark\",\"Sj\\u00e6llands Storkreds\",31,1],[759,\"Marianne Bigum\",\"Nordsj\\u00e6llands Storkreds\",39,1],[840,\"Sigurd Agersnap\",\"K\\u00f8benhavns Omegns Storkreds\",29,1]],\"hovertemplate\":\"parti=Socialistisk Folkeparti<br>clust=%{customdata[4]}<br>X=%{x}<br>y=%{y}<br>navn=%{customdata[1]}<br>storkreds=%{customdata[2]}<br>alder=%{customdata[3]}<extra></extra>\",\"legendgroup\":\"Socialistisk Folkeparti, 1\",\"marker\":{\"color\":\"#e07ea8\",\"symbol\":\"circle\"},\"mode\":\"markers\",\"name\":\"Socialistisk Folkeparti, 1\",\"orientation\":\"v\",\"showlegend\":true,\"x\":[-8.702470955062527,-6.065531170464242,-8.985253950846756,-8.15932160415638,-7.9533541584213605,-6.574400081776398,-8.439371433681746,-6.797470689673339,-8.364564676275009,-9.549480637814955,-9.266839770499006,-7.518978864138652,-6.998984871097152,-6.783055681929955],\"xaxis\":\"x\",\"y\":[-1.2909072360813703,-1.2349306421208361,-1.405581060932341,-1.1945039222932272,-1.3990896209846808,-0.3839697762094969,-1.8085562427111004,-1.2111968007201663,-0.8560463519124367,-1.4141656483870793,-1.6690518748975345,-0.6931642118323948,-0.6870329505961935,-1.5488927499476737],\"yaxis\":\"y\",\"type\":\"scatter\"},{\"customdata\":[[17,\"Torsten Gejl\",\"\\u00d8stjyllands Storkreds\",58,1],[122,\"Christina Sade Olumeko\",\"K\\u00f8benhavns Storkreds\",25,1],[125,\"Franciska Rosenkilde\",\"K\\u00f8benhavns Storkreds\",46,1],[609,\"Sascha Faxe\",\"Sj\\u00e6llands Storkreds\",51,1],[718,\"Helene Liliendahl Brydensholt\",\"Nordsj\\u00e6llands Storkreds\",35,1]],\"hovertemplate\":\"parti=Alternativet<br>clust=%{customdata[4]}<br>X=%{x}<br>y=%{y}<br>navn=%{customdata[1]}<br>storkreds=%{customdata[2]}<br>alder=%{customdata[3]}<extra></extra>\",\"legendgroup\":\"Alternativet, 1\",\"marker\":{\"color\":\"#2b8738\",\"symbol\":\"circle\"},\"mode\":\"markers\",\"name\":\"Alternativet, 1\",\"orientation\":\"v\",\"showlegend\":true,\"x\":[-4.029135596809968,-1.6160899339024402,-2.38933492002837,-1.506052667338457,-2.7712066480740982],\"xaxis\":\"x\",\"y\":[-0.26442477943773357,-2.741319151779994,-2.1392639113937517,-3.300087699437994,-2.6891965701243348],\"yaxis\":\"y\",\"type\":\"scatter\"},{\"customdata\":[[25,\"Mai Villadsen\",\"\\u00d8stjyllands Storkreds\",30,1],[131,\"Jette Gottlieb\",\"K\\u00f8benhavns Storkreds\",74,1],[134,\"Rosa Lund\",\"K\\u00f8benhavns Storkreds\",35,1],[135,\"Pelle Dragsted\",\"K\\u00f8benhavns Storkreds\",47,1],[243,\"Peder Hvelplund\",\"Nordjyllands Storkreds\",55,1],[342,\"Victoria Vel\\u00e1squez\",\"Fyns Storkreds\",31,1],[504,\"S\\u00f8ren Egge Rasmussen\",\"Sydjyllands Storkreds\",61,1],[613,\"Trine Pertou Mach\",\"Sj\\u00e6llands Storkreds\",0,1],[797,\"S\\u00f8ren S\\u00f8ndergaard\",\"K\\u00f8benhavns Omegns Storkreds\",67,1]],\"hovertemplate\":\"parti=Enhedslisten<br>clust=%{customdata[4]}<br>X=%{x}<br>y=%{y}<br>navn=%{customdata[1]}<br>storkreds=%{customdata[2]}<br>alder=%{customdata[3]}<extra></extra>\",\"legendgroup\":\"Enhedslisten, 1\",\"marker\":{\"color\":\"#e6801a\",\"symbol\":\"circle\"},\"mode\":\"markers\",\"name\":\"Enhedslisten, 1\",\"orientation\":\"v\",\"showlegend\":true,\"x\":[-9.400640197675894,-9.663875163665306,-8.652776445119022,-9.843209213440705,-10.402137043101737,-7.6700162269763545,-9.6528712229785,-9.356016138064295,-8.716464844318814],\"xaxis\":\"x\",\"y\":[1.070545873668682,4.938223695564866,0.7944617419845191,1.1607243500341275,-0.17888531339528896,3.7360948092135886,0.7794701642471663,0.945097190308646,2.580925391337024],\"yaxis\":\"y\",\"type\":\"scatter\"},{\"customdata\":[[29,\"Hans Kristian Skibby\",\"\\u00d8stjyllands Storkreds\",53,0],[246,\"Lise Bech\",\"Nordjyllands Storkreds\",61,0],[248,\"Inger St\\u00f8jberg\",\"Nordjyllands Storkreds\",49,0],[249,\"Kristian B\\u00f8gsted\",\"Nordjyllands Storkreds\",39,0],[347,\"Jens Henrik W. Thulesen Dahl\",\"Fyns Storkreds\",61,0],[420,\"Dennis Flydtkj\\u00e6r\",\"Vestjyllands Storkreds\",44,0],[422,\"Betina Kastbjerg\",\"Vestjyllands Storkreds\",50,0],[507,\"Kenneth Fredslund Petersen\",\"Sydjyllands Storkreds\",57,0],[508,\"Karina Adsb\\u00f8l\",\"Sydjyllands Storkreds\",45,0],[512,\"S\\u00f8ren Espersen\",\"Sydjyllands Storkreds\",69,0],[617,\"Peter Skaarup\",\"Sj\\u00e6llands Storkreds\",58,0],[618,\"Susie Jessen\",\"Sj\\u00e6llands Storkreds\",37,0],[727,\"Marlene Harps\\u00f8e\",\"Nordsj\\u00e6llands Storkreds\",39,0],[800,\"Charlotte Munch\",\"K\\u00f8benhavns Omegns Storkreds\",55,0]],\"hovertemplate\":\"parti=Danmarksdemokraterne<br>clust=%{customdata[4]}<br>X=%{x}<br>y=%{y}<br>navn=%{customdata[1]}<br>storkreds=%{customdata[2]}<br>alder=%{customdata[3]}<extra></extra>\",\"legendgroup\":\"Danmarksdemokraterne, 0\",\"marker\":{\"color\":\"#7896d2\",\"symbol\":\"diamond\"},\"mode\":\"markers\",\"name\":\"Danmarksdemokraterne, 0\",\"orientation\":\"v\",\"showlegend\":true,\"x\":[2.7293276427090642,3.4487248158818953,2.390825133423897,3.027200825526421,3.71410986522943,4.269070832771022,2.146393448494732,3.0026773656022385,2.2178556995334375,1.4711473287361818,1.9675585570535317,2.3063504045589083,2.0292312450429395,3.5996361137791775],\"xaxis\":\"x\",\"y\":[5.223292555866362,6.037992969699018,7.432369274607276,4.831137105808019,6.838606116400208,6.54025259273781,8.12583313174888,5.673877866340501,4.7398373722708325,8.769379906157758,5.7470372908446805,6.609188057557983,6.214900116280083,5.666085969721928],\"yaxis\":\"y\",\"type\":\"scatter\"},{\"customdata\":[[33,\"Troels Lund Poulsen\",\"\\u00d8stjyllands Storkreds\",46,0],[37,\"Michael Aastrup Jensen\",\"\\u00d8stjyllands Storkreds\",46,0],[39,\"Jakob Ellemann-Jensen\",\"\\u00d8stjyllands Storkreds\",49,0],[140,\"Linea S\\u00f8gaard-Lidell\",\"K\\u00f8benhavns Storkreds\",35,0],[144,\"Jan E. J\\u00f8rgensen\",\"K\\u00f8benhavns Storkreds\",57,0],[253,\"Marie Bjerre\",\"Nordjyllands Storkreds\",36,0],[254,\"Preben Bang Henriksen\",\"Nordjyllands Storkreds\",68,0],[257,\"Torsten Schack Pedersen\",\"Nordjyllands Storkreds\",46,0],[317,\"Peter Juel-Jensen\",\"Bornholms Storkreds\",56,0],[352,\"Lars Christian Lilleholt\",\"Fyns Storkreds\",57,0],[356,\"Erling Bonnesen\",\"Fyns Storkreds\",67,0],[428,\"S\\u00f8ren Gade\",\"Vestjyllands Storkreds\",59,0],[429,\"Mads Fuglede\",\"Vestjyllands Storkreds\",51,0],[431,\"Thomas Danielsen\",\"Vestjyllands Storkreds\",39,0],[514,\"Hans Christian Schmidt\",\"Sydjyllands Storkreds\",69,0],[516,\"Anni Matthiesen\",\"Sydjyllands Storkreds\",58,0],[517,\"Christoffer Aagaard Melson\",\"Sydjyllands Storkreds\",38,0],[626,\"Jacob Jensen\",\"Sj\\u00e6llands Storkreds\",49,0],[629,\"Louise Schack Elholm\",\"Sj\\u00e6llands Storkreds\",45,0],[632,\"Morten Dahlin\",\"Sj\\u00e6llands Storkreds\",33,0],[728,\"Sophie L\\u00f8hde\",\"Nordsj\\u00e6llands Storkreds\",39,0],[732,\"Hans Andersen\",\"Nordsj\\u00e6llands Storkreds\",48,0],[808,\"Karen Ellemann\",\"K\\u00f8benhavns Omegns Storkreds\",53,0]],\"hovertemplate\":\"parti=Venstre<br>clust=%{customdata[4]}<br>X=%{x}<br>y=%{y}<br>navn=%{customdata[1]}<br>storkreds=%{customdata[2]}<br>alder=%{customdata[3]}<extra></extra>\",\"legendgroup\":\"Venstre, 0\",\"marker\":{\"color\":\"#254264\",\"symbol\":\"diamond\"},\"mode\":\"markers\",\"name\":\"Venstre, 0\",\"orientation\":\"v\",\"showlegend\":true,\"x\":[5.529923496973575,3.7018642701896716,7.256225885999273,7.341618257728793,6.902097530110883,7.048088369181276,6.701452001981227,6.6671995410676645,6.273842648844396,8.342415897473831,4.777818156537948,5.441098765745947,5.651447258530316,6.752188767282019,6.829490735086295,7.020384218010144,6.054239704427425,7.04166420850342,6.742985375792405,4.729037550491483,7.010690128693033,6.224240188042377,6.73769680942184],\"xaxis\":\"x\",\"y\":[-0.8727600740365329,0.18232183331918905,-0.8828233726697539,-3.3658914046081945,-2.4578540157983984,-1.079006729399919,-2.5241075335755094,0.16092355696637792,-0.8624609896250846,0.043542510985992086,-0.7646530389924124,-1.5157364586364404,-0.5373653444505825,-1.989273112610493,-0.964752055886239,-1.0521629680049802,-0.06090397051404584,-1.951261996159072,-1.5630469379750531,-1.240387994248647,-2.3069032661430957,-1.059737381115366,-1.5877611605296211],\"yaxis\":\"y\",\"type\":\"scatter\"},{\"customdata\":[[46,\"Nick Zimmermann\",\"\\u00d8stjyllands Storkreds\",28,0],[362,\"Alex Ahrendtsen\",\"Fyns Storkreds\",55,0],[529,\"Peter Kofod\",\"Sydjyllands Storkreds\",32,0],[637,\"Pia Kj\\u00e6rsgaard\",\"Sj\\u00e6llands Storkreds\",75,0],[817,\"Morten Messerschmidt\",\"K\\u00f8benhavns Omegns Storkreds\",41,0]],\"hovertemplate\":\"parti=Dansk Folkeparti<br>clust=%{customdata[4]}<br>X=%{x}<br>y=%{y}<br>navn=%{customdata[1]}<br>storkreds=%{customdata[2]}<br>alder=%{customdata[3]}<extra></extra>\",\"legendgroup\":\"Dansk Folkeparti, 0\",\"marker\":{\"color\":\"#eac73e\",\"symbol\":\"diamond\"},\"mode\":\"markers\",\"name\":\"Dansk Folkeparti, 0\",\"orientation\":\"v\",\"showlegend\":true,\"x\":[0.5262969271141261,-1.463937135534112,0.47043490807703514,1.8647314035111342,0.1914054015144942],\"xaxis\":\"x\",\"y\":[11.078774487682155,9.428764472224932,7.070926900186873,10.58145691266718,8.533894222082974],\"yaxis\":\"y\",\"type\":\"scatter\"},{\"customdata\":[[164,\"Jon L\\u00e6ss\\u00f8e Stephensen\",\"K\\u00f8benhavns Storkreds\",62,1]],\"hovertemplate\":\"parti=Moderaterne<br>clust=%{customdata[4]}<br>X=%{x}<br>y=%{y}<br>navn=%{customdata[1]}<br>storkreds=%{customdata[2]}<br>alder=%{customdata[3]}<extra></extra>\",\"legendgroup\":\"Moderaterne, 1\",\"marker\":{\"color\":\"#b48cd2\",\"symbol\":\"circle\"},\"mode\":\"markers\",\"name\":\"Moderaterne, 1\",\"orientation\":\"v\",\"showlegend\":true,\"x\":[-1.1143530168605829],\"xaxis\":\"x\",\"y\":[-4.932089217854754],\"yaxis\":\"y\",\"type\":\"scatter\"},{\"customdata\":[[54,\"Karin Liltorp\",\"\\u00d8stjyllands Storkreds\",50,0],[55,\"Peter Have\",\"\\u00d8stjyllands Storkreds\",59,0],[57,\"Tobias Grotkj\\u00e6r Elmstr\\u00f8m\",\"\\u00d8stjyllands Storkreds\",40,0],[163,\"Nanna W. Gotfredsen\",\"K\\u00f8benhavns Storkreds\",53,0],[265,\"Kristian Klarskov\",\"Nordjyllands Storkreds\",47,0],[363,\"Rosa Eriksen\",\"Fyns Storkreds\",32,0],[407,\"Jeppe S\\u00f8e\",\"Vestjyllands Storkreds\",51,0],[531,\"Mette Kierkgaard\",\"Sydjyllands Storkreds\",50,0],[532,\"Henrik Frandsen\",\"Sydjyllands Storkreds\",61,0],[649,\"Mike Fonseca\",\"Sj\\u00e6llands Storkreds\",27,0],[652,\"Charlotte Bagge Hansen\",\"Sj\\u00e6llands Storkreds\",53,0],[743,\"Jakob Engel-Schmidt\",\"Nordsj\\u00e6llands Storkreds\",39,0],[822,\"Rasmus Lund-Nielsen\",\"K\\u00f8benhavns Omegns Storkreds\",34,0],[824,\"Monika Rubin\",\"K\\u00f8benhavns Omegns Storkreds\",34,0]],\"hovertemplate\":\"parti=Moderaterne<br>clust=%{customdata[4]}<br>X=%{x}<br>y=%{y}<br>navn=%{customdata[1]}<br>storkreds=%{customdata[2]}<br>alder=%{customdata[3]}<extra></extra>\",\"legendgroup\":\"Moderaterne, 0\",\"marker\":{\"color\":\"#b48cd2\",\"symbol\":\"diamond\"},\"mode\":\"markers\",\"name\":\"Moderaterne, 0\",\"orientation\":\"v\",\"showlegend\":true,\"x\":[1.3830798560435187,2.2914027939103336,3.9542164598289857,3.223804007579791,3.61436032576266,3.83772671647134,2.7801225085282537,3.1244024211430967,2.954020432254569,2.644046820795581,4.239289512752847,2.339817530287298,4.808282469955254,2.2483834460105188],\"xaxis\":\"x\",\"y\":[-5.588177986660457,-3.575243165969345,-5.10954094959859,-5.575424455965698,-6.582862054311694,-4.24445830764169,-2.916267719696455,-5.997345167496939,-5.08566215540944,-5.7319011843360625,-7.102045615097384,-4.60062469561957,-4.557220804544134,-6.766668807466804],\"yaxis\":\"y\",\"type\":\"scatter\"},{\"customdata\":[[69,\"Louise Brown\",\"\\u00d8stjyllands Storkreds\",42,0],[70,\"Jens Meilvang\",\"\\u00d8stjyllands Storkreds\",41,0],[72,\"Alex Vanopslagh\",\"\\u00d8stjyllands Storkreds\",31,0],[176,\"Alexander Ryle\",\"K\\u00f8benhavns Storkreds\",32,0],[178,\"Ole Birk Olesen\",\"K\\u00f8benhavns Storkreds\",49,0],[275,\"S\\u00f3lbj\\u00f8rg Jakobsen\",\"Nordjyllands Storkreds\",31,0],[373,\"Katrine Daugaard\",\"Fyns Storkreds\",41,0],[454,\"Carsten Bach\",\"Vestjyllands Storkreds\",46,0],[543,\"Helena Artmann Andresen\",\"Sydjyllands Storkreds\",21,0],[546,\"Henrik Dahl\",\"Sydjyllands Storkreds\",62,0],[664,\"Lars-Christian Brask\",\"Sj\\u00e6llands Storkreds\",59,0],[665,\"Sandra Elisabeth Skalvig\",\"Sj\\u00e6llands Storkreds\",32,0],[753,\"Steffen Fr\\u00f8lund\",\"Nordsj\\u00e6llands Storkreds\",38,0],[837,\"Steffen Larsen\",\"K\\u00f8benhavns Omegns Storkreds\",38,0]],\"hovertemplate\":\"parti=Liberal Alliance<br>clust=%{customdata[4]}<br>X=%{x}<br>y=%{y}<br>navn=%{customdata[1]}<br>storkreds=%{customdata[2]}<br>alder=%{customdata[3]}<extra></extra>\",\"legendgroup\":\"Liberal Alliance, 0\",\"marker\":{\"color\":\"#3fb2be\",\"symbol\":\"diamond\"},\"mode\":\"markers\",\"name\":\"Liberal Alliance, 0\",\"orientation\":\"v\",\"showlegend\":true,\"x\":[11.472397567634655,10.420330120386103,10.181317556741426,9.103090074943143,11.823937651396871,11.057053469828428,10.982648418428735,11.223603789735566,10.394988158765784,10.768943241306665,11.231494672124226,10.362274114223098,10.269843090981961,11.333826410036568],\"xaxis\":\"x\",\"y\":[-0.3916928764016472,-1.1030500321540133,-1.6158651973806208,-4.43312489203642,-1.31302442989833,-0.30338375449541477,-1.1971157284029894,-2.4810039582648176,0.1986255872010838,0.24682548289310538,-1.6958265935835497,-1.2660448915130145,-0.3694577363006749,-1.2431687516738257],\"yaxis\":\"y\",\"type\":\"scatter\"},{\"customdata\":[[86,\"Lars Boje Mathiesen\",\"\\u00d8stjyllands Storkreds\",47,0],[286,\"Kim Edberg\",\"Nordjyllands Storkreds\",49,0],[383,\"Mikkel Bj\\u00f8rn\",\"Fyns Storkreds\",27,0],[565,\"Pernille Vermund\",\"Sydjyllands Storkreds\",46,0],[678,\"Peter Seier Christensen\",\"Sj\\u00e6llands Storkreds\",54,0],[762,\"Mette Thiesen\",\"Nordsj\\u00e6llands Storkreds\",40,0]],\"hovertemplate\":\"parti=Nye Borgerlige<br>clust=%{customdata[4]}<br>X=%{x}<br>y=%{y}<br>navn=%{customdata[1]}<br>storkreds=%{customdata[2]}<br>alder=%{customdata[3]}<extra></extra>\",\"legendgroup\":\"Nye Borgerlige, 0\",\"marker\":{\"color\":\"#127b7f\",\"symbol\":\"diamond\"},\"mode\":\"markers\",\"name\":\"Nye Borgerlige, 0\",\"orientation\":\"v\",\"showlegend\":true,\"x\":[3.5487600849616188,4.434679213241767,4.027668860291062,4.185919523548704,4.019997312661573,4.463912011386747],\"xaxis\":\"x\",\"y\":[11.691591574433557,11.674586710430981,11.164350324552396,11.653846718555537,11.999199820382882,10.113491321721765],\"yaxis\":\"y\",\"type\":\"scatter\"},{\"customdata\":[[98,\"Mona Juul\",\"\\u00d8stjyllands Storkreds\",55,0],[202,\"Helle Bonnesen\",\"K\\u00f8benhavns Storkreds\",0,0],[293,\"Per Larsen\",\"Nordjyllands Storkreds\",57,0],[393,\"Mai Mercado\",\"Fyns Storkreds\",42,0],[475,\"Lise Bertelsen\",\"Vestjyllands Storkreds\",47,0],[477,\"S\\u00f8ren Pape Poulsen\",\"Vestjyllands Storkreds\",50,0],[581,\"Niels Flemming Hansen\",\"Sydjyllands Storkreds\",48,0],[689,\"Brigitte Klintskov Jerkel\",\"Sj\\u00e6llands Storkreds\",53,0],[770,\"Mette Abildgaard\",\"Nordsj\\u00e6llands Storkreds\",34,0],[848,\"Rasmus Jarlov\",\"K\\u00f8benhavns Omegns Storkreds\",45,0]],\"hovertemplate\":\"parti=Det Konservative Folkeparti<br>clust=%{customdata[4]}<br>X=%{x}<br>y=%{y}<br>navn=%{customdata[1]}<br>storkreds=%{customdata[2]}<br>alder=%{customdata[3]}<extra></extra>\",\"legendgroup\":\"Det Konservative Folkeparti, 0\",\"marker\":{\"color\":\"#96b226\",\"symbol\":\"diamond\"},\"mode\":\"markers\",\"name\":\"Det Konservative Folkeparti, 0\",\"orientation\":\"v\",\"showlegend\":true,\"x\":[7.630756684096467,7.961767742896628,8.592513213703825,7.722471741592332,6.06377397098888,9.11353371872387,8.626298692392032,8.96309795586532,8.515199112167322,10.192746489272782],\"xaxis\":\"x\",\"y\":[-1.9045285430076513,-2.3768578571672077,-1.379846846716752,-2.2658049947391707,-1.1878559939942355,-2.549551197760317,-0.527546097414008,-0.9879015573344052,-1.7970636650951703,-3.3468039630008777],\"yaxis\":\"y\",\"type\":\"scatter\"},{\"customdata\":[[100,\"Katrine Robs\\u00f8e\",\"\\u00d8stjyllands Storkreds\",31,1],[214,\"Samira Nawa\",\"K\\u00f8benhavns Storkreds\",34,1],[300,\"Christian Friis Bach\",\"Nordjyllands Storkreds\",56,1],[589,\"Lotte Rod\",\"Sydjyllands Storkreds\",37,1],[698,\"Zenia Stampe\",\"Sj\\u00e6llands Storkreds\",43,1],[776,\"Martin Lidegaard\",\"Nordsj\\u00e6llands Storkreds\",55,1],[861,\"Sofie Carsten Nielsen\",\"K\\u00f8benhavns Omegns Storkreds\",47,1]],\"hovertemplate\":\"parti=Radikale Venstre<br>clust=%{customdata[4]}<br>X=%{x}<br>y=%{y}<br>navn=%{customdata[1]}<br>storkreds=%{customdata[2]}<br>alder=%{customdata[3]}<extra></extra>\",\"legendgroup\":\"Radikale Venstre, 1\",\"marker\":{\"color\":\"#733280\",\"symbol\":\"circle\"},\"mode\":\"markers\",\"name\":\"Radikale Venstre, 1\",\"orientation\":\"v\",\"showlegend\":true,\"x\":[-3.5610045724019455,-2.5460974627979205,-1.1475184130096792,-3.131808259410564,-3.3804490820751543,-2.1618136274440425,-3.054724485858504],\"xaxis\":\"x\",\"y\":[-4.480349742545349,-2.902992259339299,-5.465062410927927,-3.5557984477434834,-4.426598761421035,-4.490496846107365,-5.352271948641492],\"yaxis\":\"y\",\"type\":\"scatter\"},{\"customdata\":[[107,\"Nicolai Wammen\",\"\\u00d8stjyllands Storkreds\",51,1],[110,\"Thomas Monberg\",\"\\u00d8stjyllands Storkreds\",46,1],[112,\"Malte Larsen\",\"\\u00d8stjyllands Storkreds\",53,1],[115,\"Camilla Fabricius\",\"\\u00d8stjyllands Storkreds\",51,1],[116,\"Jens Joel\",\"\\u00d8stjyllands Storkreds\",44,1],[221,\"Pernille Rosenkrantz-Theil\",\"K\\u00f8benhavns Storkreds\",45,1],[222,\"Peter Hummelgaard\",\"K\\u00f8benhavns Storkreds\",39,1],[225,\"Mette Reissmann\",\"K\\u00f8benhavns Storkreds\",59,1],[226,\"Ida Margrete Meier Auken\",\"K\\u00f8benhavns Storkreds\",44,1],[305,\"Rasmus Prehn\",\"Nordjyllands Storkreds\",49,1],[306,\"Flemming M\\u00f8ller Mortensen\",\"Nordjyllands Storkreds\",59,1],[307,\"Per Husted\",\"Nordjyllands Storkreds\",56,1],[310,\"Ane Halsboe-J\\u00f8rgensen\",\"Nordjyllands Storkreds\",39,1],[311,\"Bjarne Laustsen\",\"Nordjyllands Storkreds\",68,1],[331,\"Lea Wermelin\",\"Bornholms Storkreds\",37,1],[399,\"Kim Aas\",\"Fyns Storkreds\",52,1],[401,\"Thomas Skriver Jensen\",\"Fyns Storkreds\",26,1],[402,\"Dan J\\u00f8rgensen\",\"Fyns Storkreds\",47,1],[405,\"Sara Emil Baaring\",\"Fyns Storkreds\",36,1],[406,\"Trine Bramsen\",\"Fyns Storkreds\",41,1],[482,\"Anne Paulin\",\"Vestjyllands Storkreds\",34,1],[484,\"Annette Lind\",\"Vestjyllands Storkreds\",53,1],[485,\"Thomas Jensen\",\"Vestjyllands Storkreds\",52,1],[486,\"Mogens Jensen\",\"Vestjyllands Storkreds\",59,1],[590,\"Kris Jensen Skriver\",\"Sydjyllands Storkreds\",33,1],[591,\"Birgitte Vind\",\"Sydjyllands Storkreds\",57,1],[593,\"Jesper Petersen\",\"Sydjyllands Storkreds\",41,1],[594,\"Christian Rabjerg Madsen\",\"Sydjyllands Storkreds\",36,1],[596,\"Anders Kronborg\",\"Sydjyllands Storkreds\",40,1],[703,\"Kasper Roug\",\"Sj\\u00e6llands Storkreds\",43,1],[705,\"Rasmus Horn Langhoff\",\"Sj\\u00e6llands Storkreds\",42,1],[707,\"Astrid Krag\",\"Sj\\u00e6llands Storkreds\",39,1],[709,\"Magnus Johannes Heunicke\",\"Sj\\u00e6llands Storkreds\",47,1],[711,\"Mette Gjerskov\",\"Sj\\u00e6llands Storkreds\",56,1],[712,\"Kaare Dybvad Bek\",\"Sj\\u00e6llands Storkreds\",38,1],[779,\"Rasmus Stoklund\",\"Nordsj\\u00e6llands Storkreds\",38,1],[780,\"Matilde Powers\",\"Nordsj\\u00e6llands Storkreds\",40,1],[782,\"Henrik M\\u00f8ller\",\"Nordsj\\u00e6llands Storkreds\",56,1],[783,\"Fie Thorsted H\\u00e6kkerup\",\"Nordsj\\u00e6llands Storkreds\",28,1],[865,\"Mattias Tesfaye\",\"K\\u00f8benhavns Omegns Storkreds\",41,1],[866,\"Kasper Sand Kj\\u00e6r\",\"K\\u00f8benhavns Omegns Storkreds\",33,1],[868,\"Maria Durhuus\",\"K\\u00f8benhavns Omegns Storkreds\",45,1],[869,\"Morten B\\u00f8dskov\",\"K\\u00f8benhavns Omegns Storkreds\",52,1],[870,\"Jeppe Bruus\",\"K\\u00f8benhavns Omegns Storkreds\",44,1]],\"hovertemplate\":\"parti=Socialdemokratiet<br>clust=%{customdata[4]}<br>X=%{x}<br>y=%{y}<br>navn=%{customdata[1]}<br>storkreds=%{customdata[2]}<br>alder=%{customdata[3]}<extra></extra>\",\"legendgroup\":\"Socialdemokratiet, 1\",\"marker\":{\"color\":\"#a82721\",\"symbol\":\"circle\"},\"mode\":\"markers\",\"name\":\"Socialdemokratiet, 1\",\"orientation\":\"v\",\"showlegend\":true,\"x\":[-5.612037867290538,-5.731434774163748,-5.979234064856863,-6.351056518026087,-5.262037346175014,-5.9802920831655495,-5.245402222196403,-5.80447658471839,-6.269599770122551,-5.7340005700804415,-5.607060375778036,-6.352062594865312,-5.776588941450829,-5.464414608834042,-5.306906065501641,-5.525104224937457,-5.933461982766344,-6.111940935228643,-6.553149744966278,-5.6462865400597,-4.727371422094324,-5.981224226209454,-5.3380181375347515,-5.340184394274469,-5.865381898143684,-5.927830941818547,-4.9945382092965,-4.954925675924664,-5.180495197045573,-2.8547597384662935,-5.571901868026408,-5.380086810522781,-5.272923690036974,-8.43529835466334,-5.459262804512698,-5.398475967333359,-4.520970857842464,-5.680356551531412,-6.920688013308574,-4.846738071522153,-5.437558498153093,-4.901712315255335,-6.8060351527328695,-4.869883541615551],\"xaxis\":\"x\",\"y\":[0.14759455379043662,-0.440904656606074,0.35535468190695285,-0.7577577283857654,-0.9925071991172612,-0.35759820323373237,-0.7968099686722194,-0.2809663020177039,-1.3308711323090556,-1.474926167092865,-2.2966927795421768,-0.6224140673511855,-0.6604004614895812,-0.2359665811853356,-0.3869951118449665,-1.431313841706751,-0.8718078134032416,-0.2155718011867949,-0.5710369728813042,-0.35438687007604186,-1.575588242636791,1.4500744336907427,0.037569630794307196,0.5770269662482854,-0.31142654924429714,-0.16567148366472673,-0.1680113778549638,-0.021067382780643046,-1.008815288331696,-0.49269710344812684,0.24351936166907523,-0.738497946765054,-0.10268721540811745,-1.6021874237324654,-0.5358582152332545,-0.3973373948075968,-1.7671203676989506,-0.041308690082942745,-1.323014955066108,-0.5383899025041263,0.6906129535578049,0.3710161258926907,-1.0841502785065071,1.0969521754405969],\"yaxis\":\"y\",\"type\":\"scatter\"},{\"customdata\":[[308,\"Simon Kollerup\",\"Nordjyllands Storkreds\",36,0],[403,\"Bj\\u00f8rn Brandenborg\",\"Fyns Storkreds\",0,0],[600,\"Benny Engelbrecht\",\"Sydjyllands Storkreds\",52,0],[702,\"Frederik Vad\",\"Sj\\u00e6llands Storkreds\",28,0]],\"hovertemplate\":\"parti=Socialdemokratiet<br>clust=%{customdata[4]}<br>X=%{x}<br>y=%{y}<br>navn=%{customdata[1]}<br>storkreds=%{customdata[2]}<br>alder=%{customdata[3]}<extra></extra>\",\"legendgroup\":\"Socialdemokratiet, 0\",\"marker\":{\"color\":\"#a82721\",\"symbol\":\"diamond\"},\"mode\":\"markers\",\"name\":\"Socialdemokratiet, 0\",\"orientation\":\"v\",\"showlegend\":true,\"x\":[-3.7455488535021684,-4.461528635082806,-1.7452233631279754,-6.0264057828370134],\"xaxis\":\"x\",\"y\":[-0.5033943420439078,0.5966830317024724,0.6046165835913524,1.5314139238458133],\"yaxis\":\"y\",\"type\":\"scatter\"}],                        {\"template\":{\"data\":{\"histogram2dcontour\":[{\"type\":\"histogram2dcontour\",\"colorbar\":{\"outlinewidth\":0,\"ticks\":\"\"},\"colorscale\":[[0.0,\"#0d0887\"],[0.1111111111111111,\"#46039f\"],[0.2222222222222222,\"#7201a8\"],[0.3333333333333333,\"#9c179e\"],[0.4444444444444444,\"#bd3786\"],[0.5555555555555556,\"#d8576b\"],[0.6666666666666666,\"#ed7953\"],[0.7777777777777778,\"#fb9f3a\"],[0.8888888888888888,\"#fdca26\"],[1.0,\"#f0f921\"]]}],\"choropleth\":[{\"type\":\"choropleth\",\"colorbar\":{\"outlinewidth\":0,\"ticks\":\"\"}}],\"histogram2d\":[{\"type\":\"histogram2d\",\"colorbar\":{\"outlinewidth\":0,\"ticks\":\"\"},\"colorscale\":[[0.0,\"#0d0887\"],[0.1111111111111111,\"#46039f\"],[0.2222222222222222,\"#7201a8\"],[0.3333333333333333,\"#9c179e\"],[0.4444444444444444,\"#bd3786\"],[0.5555555555555556,\"#d8576b\"],[0.6666666666666666,\"#ed7953\"],[0.7777777777777778,\"#fb9f3a\"],[0.8888888888888888,\"#fdca26\"],[1.0,\"#f0f921\"]]}],\"heatmap\":[{\"type\":\"heatmap\",\"colorbar\":{\"outlinewidth\":0,\"ticks\":\"\"},\"colorscale\":[[0.0,\"#0d0887\"],[0.1111111111111111,\"#46039f\"],[0.2222222222222222,\"#7201a8\"],[0.3333333333333333,\"#9c179e\"],[0.4444444444444444,\"#bd3786\"],[0.5555555555555556,\"#d8576b\"],[0.6666666666666666,\"#ed7953\"],[0.7777777777777778,\"#fb9f3a\"],[0.8888888888888888,\"#fdca26\"],[1.0,\"#f0f921\"]]}],\"heatmapgl\":[{\"type\":\"heatmapgl\",\"colorbar\":{\"outlinewidth\":0,\"ticks\":\"\"},\"colorscale\":[[0.0,\"#0d0887\"],[0.1111111111111111,\"#46039f\"],[0.2222222222222222,\"#7201a8\"],[0.3333333333333333,\"#9c179e\"],[0.4444444444444444,\"#bd3786\"],[0.5555555555555556,\"#d8576b\"],[0.6666666666666666,\"#ed7953\"],[0.7777777777777778,\"#fb9f3a\"],[0.8888888888888888,\"#fdca26\"],[1.0,\"#f0f921\"]]}],\"contourcarpet\":[{\"type\":\"contourcarpet\",\"colorbar\":{\"outlinewidth\":0,\"ticks\":\"\"}}],\"contour\":[{\"type\":\"contour\",\"colorbar\":{\"outlinewidth\":0,\"ticks\":\"\"},\"colorscale\":[[0.0,\"#0d0887\"],[0.1111111111111111,\"#46039f\"],[0.2222222222222222,\"#7201a8\"],[0.3333333333333333,\"#9c179e\"],[0.4444444444444444,\"#bd3786\"],[0.5555555555555556,\"#d8576b\"],[0.6666666666666666,\"#ed7953\"],[0.7777777777777778,\"#fb9f3a\"],[0.8888888888888888,\"#fdca26\"],[1.0,\"#f0f921\"]]}],\"surface\":[{\"type\":\"surface\",\"colorbar\":{\"outlinewidth\":0,\"ticks\":\"\"},\"colorscale\":[[0.0,\"#0d0887\"],[0.1111111111111111,\"#46039f\"],[0.2222222222222222,\"#7201a8\"],[0.3333333333333333,\"#9c179e\"],[0.4444444444444444,\"#bd3786\"],[0.5555555555555556,\"#d8576b\"],[0.6666666666666666,\"#ed7953\"],[0.7777777777777778,\"#fb9f3a\"],[0.8888888888888888,\"#fdca26\"],[1.0,\"#f0f921\"]]}],\"mesh3d\":[{\"type\":\"mesh3d\",\"colorbar\":{\"outlinewidth\":0,\"ticks\":\"\"}}],\"scatter\":[{\"fillpattern\":{\"fillmode\":\"overlay\",\"size\":10,\"solidity\":0.2},\"type\":\"scatter\"}],\"parcoords\":[{\"type\":\"parcoords\",\"line\":{\"colorbar\":{\"outlinewidth\":0,\"ticks\":\"\"}}}],\"scatterpolargl\":[{\"type\":\"scatterpolargl\",\"marker\":{\"colorbar\":{\"outlinewidth\":0,\"ticks\":\"\"}}}],\"bar\":[{\"error_x\":{\"color\":\"#2a3f5f\"},\"error_y\":{\"color\":\"#2a3f5f\"},\"marker\":{\"line\":{\"color\":\"#E5ECF6\",\"width\":0.5},\"pattern\":{\"fillmode\":\"overlay\",\"size\":10,\"solidity\":0.2}},\"type\":\"bar\"}],\"scattergeo\":[{\"type\":\"scattergeo\",\"marker\":{\"colorbar\":{\"outlinewidth\":0,\"ticks\":\"\"}}}],\"scatterpolar\":[{\"type\":\"scatterpolar\",\"marker\":{\"colorbar\":{\"outlinewidth\":0,\"ticks\":\"\"}}}],\"histogram\":[{\"marker\":{\"pattern\":{\"fillmode\":\"overlay\",\"size\":10,\"solidity\":0.2}},\"type\":\"histogram\"}],\"scattergl\":[{\"type\":\"scattergl\",\"marker\":{\"colorbar\":{\"outlinewidth\":0,\"ticks\":\"\"}}}],\"scatter3d\":[{\"type\":\"scatter3d\",\"line\":{\"colorbar\":{\"outlinewidth\":0,\"ticks\":\"\"}},\"marker\":{\"colorbar\":{\"outlinewidth\":0,\"ticks\":\"\"}}}],\"scattermapbox\":[{\"type\":\"scattermapbox\",\"marker\":{\"colorbar\":{\"outlinewidth\":0,\"ticks\":\"\"}}}],\"scatterternary\":[{\"type\":\"scatterternary\",\"marker\":{\"colorbar\":{\"outlinewidth\":0,\"ticks\":\"\"}}}],\"scattercarpet\":[{\"type\":\"scattercarpet\",\"marker\":{\"colorbar\":{\"outlinewidth\":0,\"ticks\":\"\"}}}],\"carpet\":[{\"aaxis\":{\"endlinecolor\":\"#2a3f5f\",\"gridcolor\":\"white\",\"linecolor\":\"white\",\"minorgridcolor\":\"white\",\"startlinecolor\":\"#2a3f5f\"},\"baxis\":{\"endlinecolor\":\"#2a3f5f\",\"gridcolor\":\"white\",\"linecolor\":\"white\",\"minorgridcolor\":\"white\",\"startlinecolor\":\"#2a3f5f\"},\"type\":\"carpet\"}],\"table\":[{\"cells\":{\"fill\":{\"color\":\"#EBF0F8\"},\"line\":{\"color\":\"white\"}},\"header\":{\"fill\":{\"color\":\"#C8D4E3\"},\"line\":{\"color\":\"white\"}},\"type\":\"table\"}],\"barpolar\":[{\"marker\":{\"line\":{\"color\":\"#E5ECF6\",\"width\":0.5},\"pattern\":{\"fillmode\":\"overlay\",\"size\":10,\"solidity\":0.2}},\"type\":\"barpolar\"}],\"pie\":[{\"automargin\":true,\"type\":\"pie\"}]},\"layout\":{\"autotypenumbers\":\"strict\",\"colorway\":[\"#636efa\",\"#EF553B\",\"#00cc96\",\"#ab63fa\",\"#FFA15A\",\"#19d3f3\",\"#FF6692\",\"#B6E880\",\"#FF97FF\",\"#FECB52\"],\"font\":{\"color\":\"#2a3f5f\"},\"hovermode\":\"closest\",\"hoverlabel\":{\"align\":\"left\"},\"paper_bgcolor\":\"white\",\"plot_bgcolor\":\"#E5ECF6\",\"polar\":{\"bgcolor\":\"#E5ECF6\",\"angularaxis\":{\"gridcolor\":\"white\",\"linecolor\":\"white\",\"ticks\":\"\"},\"radialaxis\":{\"gridcolor\":\"white\",\"linecolor\":\"white\",\"ticks\":\"\"}},\"ternary\":{\"bgcolor\":\"#E5ECF6\",\"aaxis\":{\"gridcolor\":\"white\",\"linecolor\":\"white\",\"ticks\":\"\"},\"baxis\":{\"gridcolor\":\"white\",\"linecolor\":\"white\",\"ticks\":\"\"},\"caxis\":{\"gridcolor\":\"white\",\"linecolor\":\"white\",\"ticks\":\"\"}},\"coloraxis\":{\"colorbar\":{\"outlinewidth\":0,\"ticks\":\"\"}},\"colorscale\":{\"sequential\":[[0.0,\"#0d0887\"],[0.1111111111111111,\"#46039f\"],[0.2222222222222222,\"#7201a8\"],[0.3333333333333333,\"#9c179e\"],[0.4444444444444444,\"#bd3786\"],[0.5555555555555556,\"#d8576b\"],[0.6666666666666666,\"#ed7953\"],[0.7777777777777778,\"#fb9f3a\"],[0.8888888888888888,\"#fdca26\"],[1.0,\"#f0f921\"]],\"sequentialminus\":[[0.0,\"#0d0887\"],[0.1111111111111111,\"#46039f\"],[0.2222222222222222,\"#7201a8\"],[0.3333333333333333,\"#9c179e\"],[0.4444444444444444,\"#bd3786\"],[0.5555555555555556,\"#d8576b\"],[0.6666666666666666,\"#ed7953\"],[0.7777777777777778,\"#fb9f3a\"],[0.8888888888888888,\"#fdca26\"],[1.0,\"#f0f921\"]],\"diverging\":[[0,\"#8e0152\"],[0.1,\"#c51b7d\"],[0.2,\"#de77ae\"],[0.3,\"#f1b6da\"],[0.4,\"#fde0ef\"],[0.5,\"#f7f7f7\"],[0.6,\"#e6f5d0\"],[0.7,\"#b8e186\"],[0.8,\"#7fbc41\"],[0.9,\"#4d9221\"],[1,\"#276419\"]]},\"xaxis\":{\"gridcolor\":\"white\",\"linecolor\":\"white\",\"ticks\":\"\",\"title\":{\"standoff\":15},\"zerolinecolor\":\"white\",\"automargin\":true,\"zerolinewidth\":2},\"yaxis\":{\"gridcolor\":\"white\",\"linecolor\":\"white\",\"ticks\":\"\",\"title\":{\"standoff\":15},\"zerolinecolor\":\"white\",\"automargin\":true,\"zerolinewidth\":2},\"scene\":{\"xaxis\":{\"backgroundcolor\":\"#E5ECF6\",\"gridcolor\":\"white\",\"linecolor\":\"white\",\"showbackground\":true,\"ticks\":\"\",\"zerolinecolor\":\"white\",\"gridwidth\":2},\"yaxis\":{\"backgroundcolor\":\"#E5ECF6\",\"gridcolor\":\"white\",\"linecolor\":\"white\",\"showbackground\":true,\"ticks\":\"\",\"zerolinecolor\":\"white\",\"gridwidth\":2},\"zaxis\":{\"backgroundcolor\":\"#E5ECF6\",\"gridcolor\":\"white\",\"linecolor\":\"white\",\"showbackground\":true,\"ticks\":\"\",\"zerolinecolor\":\"white\",\"gridwidth\":2}},\"shapedefaults\":{\"line\":{\"color\":\"#2a3f5f\"}},\"annotationdefaults\":{\"arrowcolor\":\"#2a3f5f\",\"arrowhead\":0,\"arrowwidth\":1},\"geo\":{\"bgcolor\":\"white\",\"landcolor\":\"#E5ECF6\",\"subunitcolor\":\"white\",\"showland\":true,\"showlakes\":true,\"lakecolor\":\"white\"},\"title\":{\"x\":0.05},\"mapbox\":{\"style\":\"light\"}}},\"xaxis\":{\"anchor\":\"y\",\"domain\":[0.0,1.0],\"title\":{\"text\":\"X\"}},\"yaxis\":{\"anchor\":\"x\",\"domain\":[0.0,1.0],\"title\":{\"text\":\"y\"}},\"legend\":{\"title\":{\"text\":\"parti, clust\"},\"tracegroupgap\":0},\"margin\":{\"t\":60}},                        {\"responsive\": true}                    ).then(function(){\n",
       "                            \n",
       "var gd = document.getElementById('14b82815-5229-41ed-866a-2445493abce1');\n",
       "var x = new MutationObserver(function (mutations, observer) {{\n",
       "        var display = window.getComputedStyle(gd).display;\n",
       "        if (!display || display === 'none') {{\n",
       "            console.log([gd, 'removed!']);\n",
       "            Plotly.purge(gd);\n",
       "            observer.disconnect();\n",
       "        }}\n",
       "}});\n",
       "\n",
       "// Listen for the removal of the full notebook cells\n",
       "var notebookContainer = gd.closest('#notebook-container');\n",
       "if (notebookContainer) {{\n",
       "    x.observe(notebookContainer, {childList: true});\n",
       "}}\n",
       "\n",
       "// Listen for the clearing of the current output cell\n",
       "var outputEl = gd.closest('.output');\n",
       "if (outputEl) {{\n",
       "    x.observe(outputEl, {childList: true});\n",
       "}}\n",
       "\n",
       "                        })                };                });            </script>        </div>"
      ]
     },
     "metadata": {},
     "output_type": "display_data"
    }
   ],
   "source": [
    "px.scatter(q, x='X',y='y', color='parti', symbol='clust', color_discrete_map=color_dict, hover_data=['navn', 'storkreds', 'alder', 'clust'], custom_data=['index'])"
   ]
  },
  {
   "cell_type": "code",
   "execution_count": 180,
   "id": "b697f790-dedc-4789-837a-a43b16f0e219",
   "metadata": {},
   "outputs": [],
   "source": [
    "a = kmean.fit_transform(X)"
   ]
  },
  {
   "cell_type": "code",
   "execution_count": 196,
   "id": "edf295e1-c577-44bf-80f3-008552eab2d9",
   "metadata": {},
   "outputs": [
    {
     "name": "stdout",
     "output_type": "stream",
     "text": [
      "                              navn                    parti     clust\n",
      "116                      Jens Joel        Socialdemokratiet  0.926398\n",
      "711                 Mette Gjerskov        Socialdemokratiet  0.927241\n",
      "305                   Rasmus Prehn        Socialdemokratiet  0.998637\n",
      "226       Ida Margrete Meier Auken        Socialdemokratiet  1.138294\n",
      "482                    Anne Paulin        Socialdemokratiet  1.153972\n",
      "593                Jesper Petersen        Socialdemokratiet  1.184045\n",
      "222              Peter Hummelgaard        Socialdemokratiet  1.197169\n",
      "674                     Jacob Mark  Socialistisk Folkeparti  1.243267\n",
      "110                 Thomas Monberg        Socialdemokratiet  1.312950\n",
      "705           Rasmus Horn Langhoff        Socialdemokratiet  1.325976\n",
      "703                    Kasper Roug        Socialdemokratiet  1.348759\n",
      "591                  Birgitte Vind        Socialdemokratiet  1.357995\n",
      "460                     Signe Munk  Socialistisk Folkeparti  1.362016\n",
      "282          Theresa Berg Andersen  Socialistisk Folkeparti  1.407711\n",
      "866               Kasper Sand Kjær        Socialdemokratiet  1.412697\n",
      "759                 Marianne Bigum  Socialistisk Folkeparti  1.418216\n",
      "709       Magnus Johannes Heunicke        Socialdemokratiet  1.419318\n",
      "115              Camilla Fabricius        Socialdemokratiet  1.447658\n",
      "402                  Dan Jørgensen        Socialdemokratiet  1.449276\n",
      "112                   Malte Larsen        Socialdemokratiet  1.462156\n",
      "80        Kirsten Normann Andersen  Socialistisk Folkeparti  1.484428\n",
      "671      Anne Valentina Berthelsen  Socialistisk Folkeparti  1.505851\n",
      "306      Flemming Møller Mortensen        Socialdemokratiet  1.512064\n",
      "406                  Trine Bramsen        Socialdemokratiet  1.512581\n",
      "405              Sara Emil Baaring        Socialdemokratiet  1.522876\n",
      "221     Pernille Rosenkrantz-Theil        Socialdemokratiet  1.527486\n",
      "1                    Karsten Hønge  Socialistisk Folkeparti  1.536156\n",
      "331                   Lea Wermelin        Socialdemokratiet  1.566872\n",
      "779                Rasmus Stoklund        Socialdemokratiet  1.572844\n",
      "782                  Henrik Møller        Socialdemokratiet  1.582747\n",
      "840                Sigurd Agersnap  Socialistisk Folkeparti  1.590134\n",
      "310          Ane Halsboe-Jørgensen        Socialdemokratiet  1.602369\n",
      "590            Kris Jensen Skriver        Socialdemokratiet  1.613544\n",
      "188           Lisbeth Bech-Nielsen  Socialistisk Folkeparti  1.627045\n",
      "556     Karina Lorentzen Dehnhardt  Socialistisk Folkeparti  1.629923\n",
      "589                      Lotte Rod         Radikale Venstre  1.629923\n",
      "870                    Jeppe Bruus        Socialdemokratiet  1.649458\n",
      "307                     Per Husted        Socialdemokratiet  1.656076\n",
      "399                        Kim Aas        Socialdemokratiet  1.674373\n",
      "186                 Pia Olsen Dyhr  Socialistisk Folkeparti  1.680893\n",
      "698                   Zenia Stampe         Radikale Venstre  1.690163\n",
      "77         Charlotte Broman Mølbæk  Socialistisk Folkeparti  1.710837\n",
      "311                Bjarne Laustsen        Socialdemokratiet  1.719491\n",
      "712               Kaare Dybvad Bek        Socialdemokratiet  1.720400\n",
      "869                 Morten Bødskov        Socialdemokratiet  1.734870\n",
      "780                 Matilde Powers        Socialdemokratiet  1.761683\n",
      "485                  Thomas Jensen        Socialdemokratiet  1.794634\n",
      "797              Søren Søndergaard             Enhedslisten  1.803753\n",
      "707                    Astrid Krag        Socialdemokratiet  1.827420\n",
      "25                   Mai Villadsen             Enhedslisten  1.849517\n",
      "135                 Pelle Dragsted             Enhedslisten  1.870936\n",
      "504           Søren Egge Rasmussen             Enhedslisten  1.888806\n",
      "225                Mette Reissmann        Socialdemokratiet  1.895000\n",
      "401          Thomas Skriver Jensen        Socialdemokratiet  1.898295\n",
      "484                   Annette Lind        Socialdemokratiet  1.898707\n",
      "776               Martin Lidegaard         Radikale Venstre  1.904869\n",
      "596                Anders Kronborg        Socialdemokratiet  1.907328\n",
      "718  Helene Liliendahl Brydensholt             Alternativet  1.917133\n",
      "187                  Carl Valentin  Socialistisk Folkeparti  1.919577\n",
      "214                    Samira Nawa         Radikale Venstre  1.932961\n",
      "100                 Katrine Robsøe         Radikale Venstre  1.940625\n",
      "76                   Sofie Lippert  Socialistisk Folkeparti  1.941832\n",
      "865                Mattias Tesfaye        Socialdemokratiet  1.945851\n",
      "783          Fie Thorsted Hækkerup        Socialdemokratiet  1.966221\n",
      "594       Christian Rabjerg Madsen        Socialdemokratiet  1.978895\n",
      "868                  Maria Durhuus        Socialdemokratiet  1.980474\n",
      "131                 Jette Gottlieb             Enhedslisten  2.040702\n",
      "613              Trine Pertou Mach             Enhedslisten  2.057477\n",
      "134                      Rosa Lund             Enhedslisten  2.094732\n",
      "107                 Nicolai Wammen        Socialdemokratiet  2.102921\n",
      "164          Jon Læssøe Stephensen              Moderaterne  2.115883\n",
      "243                Peder Hvelplund             Enhedslisten  2.116253\n",
      "861          Sofie Carsten Nielsen         Radikale Venstre  2.116622\n",
      "609                    Sascha Faxe             Alternativet  2.130602\n",
      "342             Victoria Velásquez             Enhedslisten  2.170562\n",
      "486                  Mogens Jensen        Socialdemokratiet  2.180616\n",
      "17                    Torsten Gejl             Alternativet  2.327571\n",
      "125           Franciska Rosenkilde             Alternativet  2.331596\n",
      "122         Christina Sade Olumeko             Alternativet  2.495388\n",
      "300           Christian Friis Bach         Radikale Venstre  2.512860\n",
      "363                   Rosa Eriksen              Moderaterne  2.526193\n",
      "308                 Simon Kollerup        Socialdemokratiet  2.529284\n",
      "54                   Karin Liltorp              Moderaterne  2.559985\n",
      "163            Nanna W. Gotfredsen              Moderaterne  2.580654\n",
      "822            Rasmus Lund-Nielsen              Moderaterne  2.581562\n"
     ]
    }
   ],
   "source": [
    "b = q[['navn', 'parti']].copy()\n",
    "b['clust'] = a[:,0]\n",
    "print(b.sort_values(by='clust').iloc[:85].to_string())"
   ]
  },
  {
   "cell_type": "code",
   "execution_count": 198,
   "id": "9e49f604-5e8b-4912-9ff8-edc81f03bf2c",
   "metadata": {},
   "outputs": [
    {
     "name": "stdout",
     "output_type": "stream",
     "text": [
      "                             navn                        parti     clust\n",
      "702                  Frederik Vad            Socialdemokratiet  2.583680\n",
      "55                     Peter Have                  Moderaterne  2.639027\n",
      "600             Benny Engelbrecht            Socialdemokratiet  2.671977\n",
      "403             Bjørn Brandenborg            Socialdemokratiet  2.672854\n",
      "728                  Sophie Løhde                      Venstre  2.695557\n",
      "431              Thomas Danielsen                      Venstre  2.763392\n",
      "356               Erling Bonnesen                      Venstre  2.765653\n",
      "57       Tobias Grotkjær Elmstrøm                  Moderaterne  2.775804\n",
      "808                Karen Ellemann                      Venstre  2.776648\n",
      "743           Jakob Engel-Schmidt                  Moderaterne  2.783954\n",
      "649                  Mike Fonseca                  Moderaterne  2.805201\n",
      "317             Peter Juel-Jensen                      Venstre  2.813266\n",
      "428                    Søren Gade                      Venstre  2.848315\n",
      "33            Troels Lund Poulsen                      Venstre  2.856806\n",
      "39          Jakob Ellemann-Jensen                      Venstre  2.875070\n",
      "824                  Monika Rubin                  Moderaterne  2.884023\n",
      "532               Henrik Frandsen                  Moderaterne  2.887001\n",
      "732                 Hans Andersen                      Venstre  2.901308\n",
      "429                  Mads Fuglede                      Venstre  2.908032\n",
      "531              Mette Kierkgaard                  Moderaterne  2.939562\n",
      "253                  Marie Bjerre                      Venstre  2.940359\n",
      "632                 Morten Dahlin                      Venstre  2.974174\n",
      "517    Christoffer Aagaard Melson                      Venstre  2.978374\n",
      "629          Louise Schack Elholm                      Venstre  2.985186\n",
      "817          Morten Messerschmidt             Dansk Folkeparti  2.990155\n",
      "140          Linea Søgaard-Lidell                      Venstre  3.018499\n",
      "475                Lise Bertelsen  Det Konservative Folkeparti  3.019017\n",
      "508                 Karina Adsbøl         Danmarksdemokraterne  3.027802\n",
      "727               Marlene Harpsøe         Danmarksdemokraterne  3.035533\n",
      "652        Charlotte Bagge Hansen                  Moderaterne  3.061928\n",
      "529                   Peter Kofod             Dansk Folkeparti  3.089361\n",
      "514        Hans Christian Schmidt                      Venstre  3.096433\n",
      "407                     Jeppe Søe                  Moderaterne  3.104748\n",
      "202                Helle Bonnesen  Det Konservative Folkeparti  3.119559\n",
      "29           Hans Kristian Skibby         Danmarksdemokraterne  3.142266\n",
      "512                Søren Espersen         Danmarksdemokraterne  3.143758\n",
      "254         Preben Bang Henriksen                      Venstre  3.170729\n",
      "617                 Peter Skaarup         Danmarksdemokraterne  3.178850\n",
      "37         Michael Aastrup Jensen                      Venstre  3.191604\n",
      "347  Jens Henrik W. Thulesen Dahl         Danmarksdemokraterne  3.232708\n",
      "362               Alex Ahrendtsen             Dansk Folkeparti  3.235365\n",
      "144              Jan E. Jørgensen                      Venstre  3.242360\n",
      "618                  Susie Jessen         Danmarksdemokraterne  3.253185\n",
      "507    Kenneth Fredslund Petersen         Danmarksdemokraterne  3.263016\n",
      "249              Kristian Bøgsted         Danmarksdemokraterne  3.318804\n",
      "420              Dennis Flydtkjær         Danmarksdemokraterne  3.329146\n",
      "246                     Lise Bech         Danmarksdemokraterne  3.345766\n",
      "770              Mette Abildgaard  Det Konservative Folkeparti  3.356956\n",
      "248                Inger Støjberg         Danmarksdemokraterne  3.363466\n",
      "422              Betina Kastbjerg         Danmarksdemokraterne  3.365091\n",
      "516               Anni Matthiesen                      Venstre  3.378067\n",
      "265             Kristian Klarskov                  Moderaterne  3.399967\n",
      "257       Torsten Schack Pedersen                      Venstre  3.425378\n",
      "98                      Mona Juul  Det Konservative Folkeparti  3.431530\n",
      "800               Charlotte Munch         Danmarksdemokraterne  3.557619\n",
      "352      Lars Christian Lilleholt                      Venstre  3.567268\n",
      "626                  Jacob Jensen                      Venstre  3.572520\n",
      "176                Alexander Ryle             Liberal Alliance  3.580602\n",
      "637                Pia Kjærsgaard             Dansk Folkeparti  3.593235\n",
      "46                Nick Zimmermann             Dansk Folkeparti  3.623762\n",
      "848                 Rasmus Jarlov  Det Konservative Folkeparti  3.752761\n",
      "69                   Louise Brown             Liberal Alliance  3.821660\n",
      "86            Lars Boje Mathiesen               Nye Borgerlige  3.878276\n",
      "689     Brigitte Klintskov Jerkel  Det Konservative Folkeparti  3.881498\n",
      "664          Lars-Christian Brask             Liberal Alliance  3.883309\n",
      "477            Søren Pape Poulsen  Det Konservative Folkeparti  3.896364\n",
      "70                  Jens Meilvang             Liberal Alliance  3.912371\n",
      "581         Niels Flemming Hansen  Det Konservative Folkeparti  3.919554\n",
      "72                Alex Vanopslagh             Liberal Alliance  3.919554\n",
      "293                    Per Larsen  Det Konservative Folkeparti  3.928712\n",
      "543       Helena Artmann Andresen             Liberal Alliance  3.956651\n",
      "454                  Carsten Bach             Liberal Alliance  3.970252\n",
      "762                 Mette Thiesen               Nye Borgerlige  3.979293\n",
      "546                   Henrik Dahl             Liberal Alliance  3.980471\n",
      "383                  Mikkel Bjørn               Nye Borgerlige  3.987139\n",
      "286                    Kim Edberg               Nye Borgerlige  4.026719\n",
      "393                   Mai Mercado  Det Konservative Folkeparti  4.053404\n",
      "373              Katrine Daugaard             Liberal Alliance  4.056680\n",
      "678       Peter Seier Christensen               Nye Borgerlige  4.064952\n",
      "275             Sólbjørg Jakobsen             Liberal Alliance  4.076084\n",
      "565              Pernille Vermund               Nye Borgerlige  4.089861\n",
      "178               Ole Birk Olesen             Liberal Alliance  4.174749\n",
      "837                Steffen Larsen             Liberal Alliance  4.224789\n",
      "753               Steffen Frølund             Liberal Alliance  4.268390\n",
      "665      Sandra Elisabeth Skalvig             Liberal Alliance  4.324938\n"
     ]
    }
   ],
   "source": [
    "print(b.sort_values(by='clust').iloc[85:].to_string())"
   ]
  },
  {
   "cell_type": "code",
   "execution_count": null,
   "id": "34bab823-62ea-445e-9c65-1dbe0fd1b3c7",
   "metadata": {},
   "outputs": [],
   "source": []
  }
 ],
 "metadata": {
  "kernelspec": {
   "display_name": "Python 3 (ipykernel)",
   "language": "python",
   "name": "python3"
  },
  "language_info": {
   "codemirror_mode": {
    "name": "ipython",
    "version": 3
   },
   "file_extension": ".py",
   "mimetype": "text/x-python",
   "name": "python",
   "nbconvert_exporter": "python",
   "pygments_lexer": "ipython3",
   "version": "3.10.7"
  }
 },
 "nbformat": 4,
 "nbformat_minor": 5
}
