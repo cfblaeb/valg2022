{
 "cells": [
  {
   "cell_type": "code",
   "execution_count": 1,
   "metadata": {},
   "outputs": [],
   "source": [
    "from jupyter_dash import JupyterDash\n",
    "from dash import dcc, html, exceptions, callback_context\n",
    "from dash.dependencies import Input, Output\n",
    "import dash_daq as daq\n",
    "import plotly.express as px\n",
    "import plotly.graph_objects as go\n",
    "import pandas as pd\n",
    "from sklearn.discriminant_analysis import LinearDiscriminantAnalysis\n",
    "from sklearn.decomposition import PCA\n",
    "import numpy as np\n",
    "from json import load"
   ]
  },
  {
   "cell_type": "code",
   "execution_count": 2,
   "metadata": {},
   "outputs": [],
   "source": [
    "df = pd.read_feather(\"2022_Lasse_data.feather\")"
   ]
  },
  {
   "cell_type": "code",
   "execution_count": 3,
   "metadata": {},
   "outputs": [],
   "source": [
    "color_dict = {parti: px.colors.qualitative.Dark24[i] for i, parti in enumerate(df.parti.unique())}\n",
    "dk_spg = df.columns[1:-4]\n",
    "\n",
    "X = df[dk_spg]\n",
    "y = df['parti']\n",
    "\n",
    "lda = LinearDiscriminantAnalysis(n_components=2).fit(X, y)\n",
    "\n",
    "q = pd.concat([\n",
    "    df,\n",
    "    #pd.DataFrame(lda.transform(df[dk_spg]), columns=[\"X\", \"y\"]).set_index(df.index)],\n",
    "    pd.DataFrame(PCA(n_components=2).fit_transform(X), columns=[\"X\", \"y\"]).set_index(df.index)],\n",
    "    axis=1)"
   ]
  },
  {
   "cell_type": "code",
   "execution_count": 4,
   "metadata": {},
   "outputs": [],
   "source": [
    "fv2022 = load(open('raw_data/TV2/fv2022.json'))\n",
    "spgs = [spg for spg in fv2022 if spg['id'] in dk_spg]\n",
    "svar_muligheder = ['helt uenig','uenig','neutral','enig','helt enig']"
   ]
  },
  {
   "cell_type": "code",
   "execution_count": 5,
   "metadata": {},
   "outputs": [],
   "source": [
    "def confidence_ellipse(x, y, n_std=1.96, size=100):\n",
    "    if x.size != y.size:\n",
    "        raise ValueError(\"x and y must be the same size\")\n",
    "\n",
    "    cov = np.cov(x, y)\n",
    "    pearson = cov[0, 1]/np.sqrt(cov[0, 0] * cov[1, 1])\n",
    "    ell_radius_x = np.sqrt(1 + pearson)\n",
    "    ell_radius_y = np.sqrt(1 - pearson)\n",
    "    theta = np.linspace(0, 2 * np.pi, size)\n",
    "    ellipse_coords = np.column_stack([ell_radius_x * np.cos(theta), ell_radius_y * np.sin(theta)])\n",
    "    x_scale = np.sqrt(cov[0, 0]) * n_std\n",
    "    x_mean = np.mean(x)\n",
    "    y_scale = np.sqrt(cov[1, 1]) * n_std\n",
    "    y_mean = np.mean(y)  \n",
    "    translation_matrix = np.tile([x_mean, y_mean], (ellipse_coords.shape[0], 1))\n",
    "    rotation_matrix = np.array([[np.cos(np.pi / 4), np.sin(np.pi / 4)], [-np.sin(np.pi / 4), np.cos(np.pi / 4)]])\n",
    "    scale_matrix = np.array([[x_scale, 0], [0, y_scale]])\n",
    "    ellipse_coords = ellipse_coords.dot(rotation_matrix).dot(scale_matrix) + translation_matrix\n",
    "    \n",
    "    path = f'M {ellipse_coords[0, 0]}, {ellipse_coords[0, 1]}'\n",
    "    for k in range(1, len(ellipse_coords)):\n",
    "        path += f'L{ellipse_coords[k, 0]}, {ellipse_coords[k, 1]}'\n",
    "    path += ' Z'\n",
    "    return path"
   ]
  },
  {
   "cell_type": "code",
   "execution_count": 6,
   "metadata": {},
   "outputs": [],
   "source": [
    "app = JupyterDash()\n",
    "server = app.server\n",
    "\n",
    "app.layout = html.Div([\n",
    "    html.Label([\n",
    "        \"storkreds filter:\",\n",
    "        dcc.Dropdown(id='storkreds_valg', options=[{'value':'alle', 'label':'alle'}, *[{'value': x, 'label': x} for x in df.storkreds.unique()]], value=['alle',], multi=True)\n",
    "    ]),\n",
    "    daq.BooleanSwitch(\n",
    "        id='parti_shadow',\n",
    "        on=True,\n",
    "        label=\"Tegn skygge af parti områderne:\",\n",
    "        labelPosition=\"top\"\n",
    "    ),\n",
    "    dcc.Graph(id='viz'),\n",
    "    html.Div(id=\"svar_res\", children=[\"(her kommer forudsigelser om hvilket parti en 'klikket' politiker burde være i)\"]),\n",
    "    dcc.Markdown('''\n",
    "        # SVAR\n",
    "        ### Tryk på politiker for at se hans svar eller svar selv for at se hvor DU ligger\n",
    "        helt uenig  --  uenig  --  neutral  --  enig  --  helt enig\n",
    "        '''),\n",
    "    html.Div([\n",
    "        dcc.RadioItems(id=spg['id'], options=[{'label': '' if x<4 else spg['question'], 'value': x-2} for x in range(5)],value=0,labelStyle={'display': 'inline-block'}) for spg in spgs\n",
    "    ]),\n",
    "])"
   ]
  },
  {
   "cell_type": "code",
   "execution_count": 7,
   "metadata": {},
   "outputs": [],
   "source": [
    "@app.callback(Output('viz', 'figure'), [Input('storkreds_valg', 'value'), Input('parti_shadow', 'on')])\n",
    "def update_graph(storkreds_filter, shadow):                            \n",
    "    if 'alle' in storkreds_filter:\n",
    "        a = q\n",
    "    else:\n",
    "        a = q[q.storkreds.isin(storkreds_filter)]\n",
    "    \n",
    "    f1 = px.scatter(a, x='X',y='y', color='parti', color_discrete_map=color_dict, hover_data=['navn', 'storkreds', 'alder'], custom_data=['index'], height=800, width=1200)\n",
    "    if shadow:\n",
    "        for ii, (i, data) in enumerate(q.groupby('parti')):\n",
    "            f1.add_shape(\n",
    "                type='path',\n",
    "                path=confidence_ellipse(data.X, data.y),\n",
    "                line_color='rgb(0,0,0,1)',\n",
    "                fillcolor=color_dict[i],\n",
    "                opacity=.2,\n",
    "                )\n",
    "    return f1\n",
    "\n",
    "@app.callback([*[Output(x, 'value') for x in dk_spg], Output('svar_res', 'children')], {'clickData': Input('viz', 'clickData'), 'spg_in': [Input(x, 'value') for x in dk_spg]})\n",
    "def display_click_data(clickData, spg_in):\n",
    "    ctx = callback_context\n",
    "    trigger_id = ctx.triggered[0][\"prop_id\"].split(\".\")[0]\n",
    "    if trigger_id == 'viz':\n",
    "        if clickData and len(clickData['points']) != 0:\n",
    "            idx = clickData['points'][0]['customdata'][0]\n",
    "            navn = clickData['points'][0]['customdata'][1]\n",
    "        else:\n",
    "            idx = 1350\n",
    "            navn = \"(klik på nogen)\"\n",
    "        row = q[q['index'] == idx]\n",
    "        parti = row['parti'].iloc[0]\n",
    "        nyt_parti = lda.predict(row[dk_spg])[0]\n",
    "        return [*[row[x].iloc[0] for x in dk_spg], f\"Du har klikket på {navn}, {parti}. Vedkomne burde overveje {nyt_parti}\"]\n",
    "    else:\n",
    "        print(spg_in)\n",
    "        a = np.array(spg_in).reshape(1,-1)\n",
    "        b = lda.transform(a)[0]\n",
    "        return [*[x for x in spg_in], f\"Dine koordinater er {b[0]:.1f}, {b[1]:.1f}. Du burde overveje {lda.predict(a)[0]}\"]\n",
    "#@app.callback(Output(), [Input(x, 'value') for x in dk_spg])"
   ]
  },
  {
   "cell_type": "code",
   "execution_count": 8,
   "metadata": {},
   "outputs": [
    {
     "name": "stdout",
     "output_type": "stream",
     "text": [
      "[0, 0, 0, 0, 0, 0, 0, 0, 0, 0, 0, 0, 0, 0, 0, 0, 0, 0, 0, 0, 0, 0, 0, 0]\n"
     ]
    },
    {
     "name": "stderr",
     "output_type": "stream",
     "text": [
      "/home/laeb/PycharmProjects/valg2022/venv/lib/python3.10/site-packages/sklearn/base.py:450: UserWarning:\n",
      "\n",
      "X does not have valid feature names, but LinearDiscriminantAnalysis was fitted with feature names\n",
      "\n",
      "/home/laeb/PycharmProjects/valg2022/venv/lib/python3.10/site-packages/sklearn/base.py:450: UserWarning:\n",
      "\n",
      "X does not have valid feature names, but LinearDiscriminantAnalysis was fitted with feature names\n",
      "\n"
     ]
    }
   ],
   "source": [
    "app.run_server(mode=\"jupyterlab\")"
   ]
  },
  {
   "cell_type": "code",
   "execution_count": null,
   "metadata": {},
   "outputs": [],
   "source": []
  }
 ],
 "metadata": {
  "jupytext": {
   "formats": "ipynb,py:percent"
  },
  "kernelspec": {
   "display_name": "Python 3 (ipykernel)",
   "language": "python",
   "name": "python3"
  },
  "language_info": {
   "codemirror_mode": {
    "name": "ipython",
    "version": 3
   },
   "file_extension": ".py",
   "mimetype": "text/x-python",
   "name": "python",
   "nbconvert_exporter": "python",
   "pygments_lexer": "ipython3",
   "version": "3.10.6"
  }
 },
 "nbformat": 4,
 "nbformat_minor": 4
}
