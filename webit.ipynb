{
 "cells": [
  {
   "cell_type": "code",
   "execution_count": 1,
   "metadata": {},
   "outputs": [],
   "source": [
    "from jupyter_dash import JupyterDash\n",
    "from dash import dcc, html, exceptions, callback_context\n",
    "from dash.dependencies import Input, Output\n",
    "import dash_daq as daq\n",
    "import plotly.express as px\n",
    "import plotly.graph_objects as go\n",
    "import pandas as pd\n",
    "from sklearn.discriminant_analysis import LinearDiscriminantAnalysis\n",
    "from sklearn.decomposition import PCA\n",
    "import numpy as np\n",
    "from json import load\n",
    "import dash_bootstrap_components as dbc"
   ]
  },
  {
   "cell_type": "code",
   "execution_count": 2,
   "metadata": {},
   "outputs": [],
   "source": [
    "df = pd.read_feather(\"2022_Lasse_data.feather\").reset_index()"
   ]
  },
  {
   "cell_type": "code",
   "execution_count": 3,
   "metadata": {},
   "outputs": [],
   "source": [
    "dk_spg = ['530', '531', '533', '534', '535', '537', '538', '540', '541', '543','544', '545', '546', '547', '548', '550', '551', '552', '553', '555',\n",
    "       '556', '557', '559', '561', '563', '1a', '1b', '2a','2b', '3a', '3b', '4a', '4b', '5a', '5b', '6a', '6b', '7a', '7b', '8a',\n",
    "       '8b', '9a', '9b', '10a', '10b', '11a', '11b', '12a', '12b']"
   ]
  },
  {
   "cell_type": "code",
   "execution_count": 4,
   "metadata": {},
   "outputs": [],
   "source": [
    "color_dict = pd.read_json(\"various.json\").set_index('bogstav_leg')['farver'].to_dict()\n",
    "\n",
    "X = df[dk_spg]\n",
    "y = df['parti']\n",
    "\n",
    "lda = LinearDiscriminantAnalysis(n_components=2).fit(X, y)\n",
    "\n",
    "q = pd.concat([\n",
    "    df,\n",
    "    pd.DataFrame(lda.transform(df[dk_spg]), columns=[\"X\", \"y\"]).set_index(df.index)],\n",
    "    #pd.DataFrame(PCA(n_components=2).fit_transform(X), columns=[\"X\", \"y\"]).set_index(df.index)],\n",
    "    axis=1)"
   ]
  },
  {
   "cell_type": "code",
   "execution_count": 18,
   "metadata": {},
   "outputs": [],
   "source": [
    "q['bogstav'] = q.parti.map(pd.read_json(\"various.json\").reset_index().set_index('bogstav_leg')['index'])"
   ]
  },
  {
   "cell_type": "code",
   "execution_count": null,
   "metadata": {},
   "outputs": [],
   "source": [
    "# De vigtigste spørgsmål"
   ]
  },
  {
   "cell_type": "code",
   "execution_count": 44,
   "metadata": {},
   "outputs": [
    {
     "data": {
      "text/html": [
       "<div>\n",
       "<style scoped>\n",
       "    .dataframe tbody tr th:only-of-type {\n",
       "        vertical-align: middle;\n",
       "    }\n",
       "\n",
       "    .dataframe tbody tr th {\n",
       "        vertical-align: top;\n",
       "    }\n",
       "\n",
       "    .dataframe thead th {\n",
       "        text-align: right;\n",
       "    }\n",
       "</style>\n",
       "<table border=\"1\" class=\"dataframe\">\n",
       "  <thead>\n",
       "    <tr style=\"text-align: right;\">\n",
       "      <th></th>\n",
       "      <th>sprg</th>\n",
       "      <th>dx</th>\n",
       "      <th>dy</th>\n",
       "    </tr>\n",
       "    <tr>\n",
       "      <th>id</th>\n",
       "      <th></th>\n",
       "      <th></th>\n",
       "      <th></th>\n",
       "    </tr>\n",
       "  </thead>\n",
       "  <tbody>\n",
       "    <tr>\n",
       "      <th>531</th>\n",
       "      <td>Der skal indføres en særlig skat på de allerhø...</td>\n",
       "      <td>-1.327419</td>\n",
       "      <td>0.166609</td>\n",
       "    </tr>\n",
       "    <tr>\n",
       "      <th>547</th>\n",
       "      <td>Der bør dannes en regering hen over midten</td>\n",
       "      <td>-0.815000</td>\n",
       "      <td>-2.903898</td>\n",
       "    </tr>\n",
       "    <tr>\n",
       "      <th>11a</th>\n",
       "      <td>Der har været alt for meget fokus på Mette Fre...</td>\n",
       "      <td>-0.812201</td>\n",
       "      <td>-0.377508</td>\n",
       "    </tr>\n",
       "    <tr>\n",
       "      <th>537</th>\n",
       "      <td>Det er okay, at den økonomiske ulighed stiger,...</td>\n",
       "      <td>0.945803</td>\n",
       "      <td>-0.058189</td>\n",
       "    </tr>\n",
       "    <tr>\n",
       "      <th>11b</th>\n",
       "      <td>Det bør undersøges, om Mette Frederiksen kan s...</td>\n",
       "      <td>1.073388</td>\n",
       "      <td>0.142369</td>\n",
       "    </tr>\n",
       "    <tr>\n",
       "      <th>540</th>\n",
       "      <td>Det skal være muligt at tjene penge på at driv...</td>\n",
       "      <td>1.249106</td>\n",
       "      <td>-0.635696</td>\n",
       "    </tr>\n",
       "  </tbody>\n",
       "</table>\n",
       "</div>"
      ],
      "text/plain": [
       "                                                  sprg        dx        dy\n",
       "id                                                                        \n",
       "531  Der skal indføres en særlig skat på de allerhø... -1.327419  0.166609\n",
       "547         Der bør dannes en regering hen over midten -0.815000 -2.903898\n",
       "11a  Der har været alt for meget fokus på Mette Fre... -0.812201 -0.377508\n",
       "537  Det er okay, at den økonomiske ulighed stiger,...  0.945803 -0.058189\n",
       "11b  Det bør undersøges, om Mette Frederiksen kan s...  1.073388  0.142369\n",
       "540  Det skal være muligt at tjene penge på at driv...  1.249106 -0.635696"
      ]
     },
     "execution_count": 44,
     "metadata": {},
     "output_type": "execute_result"
    }
   ],
   "source": [
    "sca = pd.DataFrame({'sprg': sprgs.question, 'dx': lda.scalings_[:,0], 'dy': lda.scalings_[:,1]})\n",
    "# på x aksen ved ja svar\n",
    "sca.sort_values('dx')[sca.sort_values('dx')['dx'].abs()>0.8]"
   ]
  },
  {
   "cell_type": "code",
   "execution_count": 46,
   "metadata": {},
   "outputs": [
    {
     "data": {
      "text/html": [
       "<div>\n",
       "<style scoped>\n",
       "    .dataframe tbody tr th:only-of-type {\n",
       "        vertical-align: middle;\n",
       "    }\n",
       "\n",
       "    .dataframe tbody tr th {\n",
       "        vertical-align: top;\n",
       "    }\n",
       "\n",
       "    .dataframe thead th {\n",
       "        text-align: right;\n",
       "    }\n",
       "</style>\n",
       "<table border=\"1\" class=\"dataframe\">\n",
       "  <thead>\n",
       "    <tr style=\"text-align: right;\">\n",
       "      <th></th>\n",
       "      <th>sprg</th>\n",
       "      <th>dx</th>\n",
       "      <th>dy</th>\n",
       "    </tr>\n",
       "    <tr>\n",
       "      <th>id</th>\n",
       "      <th></th>\n",
       "      <th></th>\n",
       "      <th></th>\n",
       "    </tr>\n",
       "  </thead>\n",
       "  <tbody>\n",
       "    <tr>\n",
       "      <th>547</th>\n",
       "      <td>Der bør dannes en regering hen over midten</td>\n",
       "      <td>-0.815000</td>\n",
       "      <td>-2.903898</td>\n",
       "    </tr>\n",
       "    <tr>\n",
       "      <th>556</th>\n",
       "      <td>Den såkaldte Arne-pension skal afskaffes</td>\n",
       "      <td>0.412395</td>\n",
       "      <td>-1.153663</td>\n",
       "    </tr>\n",
       "    <tr>\n",
       "      <th>545</th>\n",
       "      <td>Pensionsalderen skal fortsætte med at stige i ...</td>\n",
       "      <td>0.115407</td>\n",
       "      <td>-0.835194</td>\n",
       "    </tr>\n",
       "    <tr>\n",
       "      <th>551</th>\n",
       "      <td>Der skal være permanent grænsekontrol mellem D...</td>\n",
       "      <td>0.216894</td>\n",
       "      <td>1.110911</td>\n",
       "    </tr>\n",
       "    <tr>\n",
       "      <th>10b</th>\n",
       "      <td>Den såkaldte Arne-pension, der giver mulighed ...</td>\n",
       "      <td>-0.430006</td>\n",
       "      <td>1.294234</td>\n",
       "    </tr>\n",
       "    <tr>\n",
       "      <th>534</th>\n",
       "      <td>På sigt skal Danmark meldes ud af EU</td>\n",
       "      <td>0.652761</td>\n",
       "      <td>2.723880</td>\n",
       "    </tr>\n",
       "  </tbody>\n",
       "</table>\n",
       "</div>"
      ],
      "text/plain": [
       "                                                  sprg        dx        dy\n",
       "id                                                                        \n",
       "547         Der bør dannes en regering hen over midten -0.815000 -2.903898\n",
       "556           Den såkaldte Arne-pension skal afskaffes  0.412395 -1.153663\n",
       "545  Pensionsalderen skal fortsætte med at stige i ...  0.115407 -0.835194\n",
       "551  Der skal være permanent grænsekontrol mellem D...  0.216894  1.110911\n",
       "10b  Den såkaldte Arne-pension, der giver mulighed ... -0.430006  1.294234\n",
       "534               På sigt skal Danmark meldes ud af EU  0.652761  2.723880"
      ]
     },
     "execution_count": 46,
     "metadata": {},
     "output_type": "execute_result"
    }
   ],
   "source": [
    "# på y aksen ved ja svar\n",
    "sca.sort_values('dy')[sca.sort_values('dy')['dy'].abs()>0.8]"
   ]
  },
  {
   "cell_type": "code",
   "execution_count": 54,
   "metadata": {},
   "outputs": [
    {
     "data": {
      "text/html": [
       "<div>\n",
       "<style scoped>\n",
       "    .dataframe tbody tr th:only-of-type {\n",
       "        vertical-align: middle;\n",
       "    }\n",
       "\n",
       "    .dataframe tbody tr th {\n",
       "        vertical-align: top;\n",
       "    }\n",
       "\n",
       "    .dataframe thead th {\n",
       "        text-align: right;\n",
       "    }\n",
       "</style>\n",
       "<table border=\"1\" class=\"dataframe\">\n",
       "  <thead>\n",
       "    <tr style=\"text-align: right;\">\n",
       "      <th></th>\n",
       "      <th>sprg</th>\n",
       "      <th>dx</th>\n",
       "      <th>dy</th>\n",
       "    </tr>\n",
       "    <tr>\n",
       "      <th>id</th>\n",
       "      <th></th>\n",
       "      <th></th>\n",
       "      <th></th>\n",
       "    </tr>\n",
       "  </thead>\n",
       "  <tbody>\n",
       "    <tr>\n",
       "      <th>5b</th>\n",
       "      <td>Der bør tilføres ekstra ressourcer til ældrepl...</td>\n",
       "      <td>-0.089541</td>\n",
       "      <td>-0.105209</td>\n",
       "    </tr>\n",
       "  </tbody>\n",
       "</table>\n",
       "</div>"
      ],
      "text/plain": [
       "                                                 sprg        dx        dy\n",
       "id                                                                       \n",
       "5b  Der bør tilføres ekstra ressourcer til ældrepl... -0.089541 -0.105209"
      ]
     },
     "execution_count": 54,
     "metadata": {},
     "output_type": "execute_result"
    }
   ],
   "source": [
    "# det mindst vigtige spørgsmål (eller alle er enige)\n",
    "sca[sca[['dx', 'dy']].abs().T.sum()<0.2]"
   ]
  },
  {
   "cell_type": "code",
   "execution_count": 21,
   "metadata": {},
   "outputs": [],
   "source": [
    "fv2022 = pd.read_json('raw_data/TV2/fv2022.json')\n",
    "dr_sprgs = pd.read_json('raw_data/DR/questions.json')\n",
    "dr_sprgs.columns = dr_sprgs.columns.str.lower()"
   ]
  },
  {
   "cell_type": "code",
   "execution_count": 22,
   "metadata": {},
   "outputs": [],
   "source": [
    "sprgs = pd.concat([fv2022, dr_sprgs])[['id', 'question']].set_index('id')\n",
    "sprgs.index = sprgs.index.astype('str')"
   ]
  },
  {
   "cell_type": "code",
   "execution_count": 23,
   "metadata": {},
   "outputs": [],
   "source": [
    "sprgs = sprgs.loc[dk_spg]\n",
    "svar_muligheder = ['helt uenig','uenig','neutral','enig','helt enig']"
   ]
  },
  {
   "cell_type": "code",
   "execution_count": null,
   "metadata": {},
   "outputs": [],
   "source": []
  },
  {
   "cell_type": "code",
   "execution_count": 8,
   "metadata": {},
   "outputs": [],
   "source": [
    "def confidence_ellipse(x, y, n_std=1.96, size=100):\n",
    "    if x.size != y.size:\n",
    "        raise ValueError(\"x and y must be the same size\")\n",
    "\n",
    "    cov = np.cov(x, y)\n",
    "    pearson = cov[0, 1]/np.sqrt(cov[0, 0] * cov[1, 1])\n",
    "    ell_radius_x = np.sqrt(1 + pearson)\n",
    "    ell_radius_y = np.sqrt(1 - pearson)\n",
    "    theta = np.linspace(0, 2 * np.pi, size)\n",
    "    ellipse_coords = np.column_stack([ell_radius_x * np.cos(theta), ell_radius_y * np.sin(theta)])\n",
    "    x_scale = np.sqrt(cov[0, 0]) * n_std\n",
    "    x_mean = np.mean(x)\n",
    "    y_scale = np.sqrt(cov[1, 1]) * n_std\n",
    "    y_mean = np.mean(y)  \n",
    "    translation_matrix = np.tile([x_mean, y_mean], (ellipse_coords.shape[0], 1))\n",
    "    rotation_matrix = np.array([[np.cos(np.pi / 4), np.sin(np.pi / 4)], [-np.sin(np.pi / 4), np.cos(np.pi / 4)]])\n",
    "    scale_matrix = np.array([[x_scale, 0], [0, y_scale]])\n",
    "    ellipse_coords = ellipse_coords.dot(rotation_matrix).dot(scale_matrix) + translation_matrix\n",
    "    \n",
    "    path = f'M {ellipse_coords[0, 0]}, {ellipse_coords[0, 1]}'\n",
    "    for k in range(1, len(ellipse_coords)):\n",
    "        path += f'L{ellipse_coords[k, 0]}, {ellipse_coords[k, 1]}'\n",
    "    path += ' Z'\n",
    "    return path"
   ]
  },
  {
   "cell_type": "code",
   "execution_count": 9,
   "metadata": {},
   "outputs": [],
   "source": [
    "#app = JupyterDash(__name__)\n",
    "app = JupyterDash(\n",
    "    external_stylesheets=[dbc.themes.SOLAR, dbc.icons.BOOTSTRAP],\n",
    "    meta_tags=[{\"name\": \"viewport\", \"content\": \"width=device-width, initial-scale=1\"},],\n",
    ")\n",
    "server = app.server\n",
    "\n",
    "app.layout = dbc.Container([\n",
    "    dbc.Alert([\n",
    "        html.I(className=\"bi bi-check-circle-fill me-2\"),\n",
    "        \"An example success alert with an icon\",\n",
    "    ], color=\"success\"),\n",
    "    html.Label([\n",
    "        \"storkreds filter:\",\n",
    "        dcc.Dropdown(id='storkreds_valg', options=[{'value':'alle', 'label':'alle'}, *[{'value': x, 'label': x} for x in df.storkreds.unique()]], value=['alle',], multi=True)\n",
    "    ]),\n",
    "    daq.BooleanSwitch(\n",
    "        id='parti_shadow',\n",
    "        on=False,\n",
    "        label=\"Tegn skygge af parti områderne:\",\n",
    "        labelPosition=\"top\"\n",
    "    ),\n",
    "    dcc.Graph(id='viz'),\n",
    "    html.Div(id=\"svar_res\", children=[\"(her kommer forudsigelser om hvilket parti en 'klikket' politiker burde være i)\"]),\n",
    "    dcc.Markdown('''\n",
    "        # SVAR\n",
    "        ### Tryk på politiker for at se hans svar eller svar selv for at se hvor DU ligger\n",
    "        helt uenig  --  uenig  --  neutral  --  enig  --  helt enig\n",
    "        '''),\n",
    "    html.Div([\n",
    "        dcc.RadioItems(id=sprgs.loc[spg].name, options=[{'label': '' if x<4 else sprgs.loc[spg]['question'], 'value': x/4} for x in range(5)],value=0,labelStyle={'display': 'inline-block'}) for spg in dk_spg\n",
    "    ]),\n",
    "], className=\"p-5\",)"
   ]
  },
  {
   "cell_type": "code",
   "execution_count": 10,
   "metadata": {},
   "outputs": [],
   "source": [
    "@app.callback(Output('viz', 'figure'), [Input('storkreds_valg', 'value'), Input('parti_shadow', 'on')])\n",
    "def update_graph(storkreds_filter, shadow):                            \n",
    "    if 'alle' in storkreds_filter:\n",
    "        a = q\n",
    "    else:\n",
    "        a = q[q.storkreds.isin(storkreds_filter)]\n",
    "    \n",
    "    f1 = px.scatter(a, x='X',y='y', color='parti', color_discrete_map=color_dict, hover_data=['navn', 'storkreds', 'alder'], \n",
    "                    custom_data=['index'])\n",
    "    if shadow:\n",
    "        for ii, (i, data) in enumerate(q.groupby('parti')):\n",
    "            f1.add_shape(\n",
    "                type='path',\n",
    "                path=confidence_ellipse(data.X, data.y),\n",
    "                line_color='rgb(0,0,0,1)',\n",
    "                fillcolor=color_dict[i],\n",
    "                opacity=.2,\n",
    "                )\n",
    "    return f1\n",
    "@app.callback([*[Output(x, 'value') for x in dk_spg], Output('svar_res', 'children')], {'clickData': Input('viz', 'clickData'), 'spg_in': [Input(x, 'value') for x in dk_spg]})\n",
    "def display_click_data(clickData, spg_in):\n",
    "    ctx = callback_context\n",
    "    trigger_id = ctx.triggered[0][\"prop_id\"].split(\".\")[0]\n",
    "    if trigger_id == 'viz':\n",
    "        if clickData and len(clickData['points']) != 0:\n",
    "            idx = clickData['points'][0]['customdata'][0]\n",
    "            navn = clickData['points'][0]['customdata'][1]\n",
    "        else:\n",
    "            idx = 1350\n",
    "            navn = \"(klik på nogen)\"\n",
    "        row = q[q['index'] == idx]\n",
    "        parti = row['parti'].iloc[0]\n",
    "        nyt_parti = lda.predict(row[dk_spg])[0]\n",
    "        return [*[row[x].iloc[0] for x in dk_spg], f\"Du har klikket på {navn}, {parti}. Vedkomne burde overveje {nyt_parti}\"]\n",
    "    else:\n",
    "        a = pd.DataFrame(spg_in, index=dk_spg).T\n",
    "        b = lda.transform(a)[0]\n",
    "        return [*[x for x in spg_in], f\"Dine koordinater er {b[0]:.1f}, {b[1]:.1f}. Du burde overveje {lda.predict(a)[0]}\"]\n",
    "#@app.callback(Output(), [Input(x, 'value') for x in dk_spg])"
   ]
  },
  {
   "cell_type": "code",
   "execution_count": 11,
   "metadata": {},
   "outputs": [],
   "source": [
    "app.run_server(mode='jupyterlab')\n",
    "#app.run_server(mode='external')"
   ]
  },
  {
   "cell_type": "code",
   "execution_count": null,
   "metadata": {},
   "outputs": [],
   "source": []
  },
  {
   "cell_type": "code",
   "execution_count": null,
   "metadata": {},
   "outputs": [],
   "source": []
  },
  {
   "cell_type": "code",
   "execution_count": null,
   "metadata": {},
   "outputs": [],
   "source": []
  }
 ],
 "metadata": {
  "jupytext": {
   "formats": "ipynb,py:percent"
  },
  "kernelspec": {
   "display_name": "Python 3 (ipykernel)",
   "language": "python",
   "name": "python3"
  },
  "language_info": {
   "codemirror_mode": {
    "name": "ipython",
    "version": 3
   },
   "file_extension": ".py",
   "mimetype": "text/x-python",
   "name": "python",
   "nbconvert_exporter": "python",
   "pygments_lexer": "ipython3",
   "version": "3.10.7"
  }
 },
 "nbformat": 4,
 "nbformat_minor": 4
}
