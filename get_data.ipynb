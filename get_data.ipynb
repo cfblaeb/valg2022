{
 "cells": [
  {
   "cell_type": "code",
   "execution_count": 43,
   "id": "d56c7a79-c97d-435f-87ae-b7deaa466a9d",
   "metadata": {},
   "outputs": [],
   "source": [
    "from requests import get\n",
    "import json\n",
    "import pandas as pd"
   ]
  },
  {
   "cell_type": "code",
   "execution_count": 44,
   "id": "03f4fd65-d9c5-4855-867f-394b4e958894",
   "metadata": {
    "scrolled": true,
    "tags": []
   },
   "outputs": [],
   "source": [
    "# hev rå data ud af tv2s og konverterede manuelt til en json\n",
    "storkredse = json.load(open(\"raw_data/TV2/greaterConstituencies.json\"))"
   ]
  },
  {
   "cell_type": "code",
   "execution_count": 45,
   "id": "72622cf8-7f37-4c40-9315-62bc6dcd2ad3",
   "metadata": {
    "scrolled": true,
    "tags": []
   },
   "outputs": [
    {
     "name": "stdout",
     "output_type": "stream",
     "text": [
      "9000400 Bornholms Storkreds\n",
      "9000600 Fyns Storkreds\n",
      "9000200 Københavns Omegns Storkreds\n",
      "9000100 Københavns Storkreds\n",
      "9001000 Nordjyllands Storkreds\n",
      "9000300 Nordsjællands Storkreds\n",
      "9000500 Sjællands Storkreds\n",
      "9000700 Sydjyllands Storkreds\n",
      "9000900 Vestjyllands Storkreds\n",
      "9000800 Østjyllands Storkreds\n"
     ]
    }
   ],
   "source": [
    "# bemærkede at tv hentede svarende på den her måde\n",
    "svar = {}\n",
    "for storkreds in storkredse:\n",
    "    print(storkreds['value'], storkreds['label'])\n",
    "    res = get(f\"https://election-api.services.tv2.dk/fv/fv22/candidatetest/answers/{storkreds['value']}\")\n",
    "    svar[storkreds['label']] = res.json()\n",
    "#gem svarerne\n",
    "json.dump(svar, open('raw_data/TV2/alle_svar.json', 'w'))"
   ]
  },
  {
   "cell_type": "code",
   "execution_count": 46,
   "id": "012a27c8-99f3-4afe-9c7d-1e21f4539725",
   "metadata": {},
   "outputs": [],
   "source": [
    "#svar = json.load(open('raw_data/TV2/alle_svar.json'))"
   ]
  },
  {
   "cell_type": "code",
   "execution_count": 47,
   "id": "dcbcaf68-5e99-448f-a143-5938b0774c8a",
   "metadata": {},
   "outputs": [],
   "source": [
    "# pt ignorere vi \"regionale spørgsmål\" fordi de i sagens natur kun er besvaret af et mindretal af kandidaterne...måske behøver jeg ikke gøre det...\n",
    "dk_spg = [\"1a\", \"1b\", \"2a\", \"2b\", \"3a\", \"3b\", \"4a\", \"4b\", \"5a\", \"5b\", \"6a\", \"6b\", \"7a\", \"7b\", \"8a\", \"8b\", \"9a\", \"9b\", \"10a\", \"10b\", \"11a\", \"11b\", \"12a\", \"12b\"]"
   ]
  },
  {
   "cell_type": "code",
   "execution_count": 48,
   "id": "77ecd300-b092-426a-8408-483286913a74",
   "metadata": {},
   "outputs": [],
   "source": [
    "# smæk det hele pænt sammen\n",
    "\n",
    "dk_svar = {}\n",
    "dk_kandidater = {}\n",
    "for storkreds, kandidater in svar.items():\n",
    "    for kandidat in kandidater:\n",
    "        dk_kandidater[kandidat['id']] = {'navn': kandidat['name'], 'storkreds': kandidat['areaName'], 'parti': kandidat['partyName'], 'alder': kandidat['age']}\n",
    "        dk_svar[kandidat['id']] = {x: kandidat['answers'][x]['answer'] for x in dk_spg if x in kandidat['answers']}"
   ]
  },
  {
   "cell_type": "code",
   "execution_count": 49,
   "id": "fc381473-9c3a-425d-b345-907c985eec2f",
   "metadata": {},
   "outputs": [],
   "source": [
    "dk_kandidater = pd.DataFrame(dk_kandidater).T\n",
    "dk_svar = pd.DataFrame(dk_svar).T"
   ]
  },
  {
   "cell_type": "code",
   "execution_count": 177,
   "id": "f07121ab-8b2c-48d4-b210-195ced282408",
   "metadata": {},
   "outputs": [],
   "source": [
    "# norm mellem 0 og 1\n",
    "ma = dk_svar.max()\n",
    "mi = dk_svar.min()\n",
    "dk_svar = (dk_svar-mi)/(ma-mi)"
   ]
  },
  {
   "cell_type": "code",
   "execution_count": 178,
   "id": "5eef8894-da89-4e56-a5ce-94fe4d1f0329",
   "metadata": {},
   "outputs": [],
   "source": [
    "q = dk_svar.copy()\n",
    "q['parti'] = [dk_kandidater.loc[x, 'parti'] for x in dk_svar.index]\n",
    "q['navn'] = [dk_kandidater.loc[x, 'navn'] for x in dk_svar.index]\n",
    "q['storkreds'] = [dk_kandidater.loc[x, 'storkreds'] for x in dk_svar.index]\n",
    "q['alder'] = [dk_kandidater.loc[x, 'alder'] for x in dk_svar.index]\n",
    "q = q.reset_index()"
   ]
  },
  {
   "cell_type": "code",
   "execution_count": 179,
   "id": "41a39c9b-7915-4ff5-97e6-3fb9cc3eba82",
   "metadata": {},
   "outputs": [],
   "source": [
    "# udfyld manglende svar med partiets gennemsnit\n",
    "parti_linjen = q.groupby('parti')[dk_spg].mean()\n",
    "\n",
    "def fald_ind(x):\n",
    "    x.loc[x[x.isna()].index] = parti_linjen.loc[x.parti, x[x.isna()].index]\n",
    "    return x\n",
    "    \n",
    "q = q.apply(fald_ind, axis=1)"
   ]
  },
  {
   "cell_type": "code",
   "execution_count": 84,
   "id": "4574b9ca-760e-4286-b35a-1bb94fb9f870",
   "metadata": {},
   "outputs": [],
   "source": []
  },
  {
   "cell_type": "code",
   "execution_count": 85,
   "id": "ceaf6cc5-0473-4fcf-bba0-de6263fef94a",
   "metadata": {},
   "outputs": [],
   "source": [
    "# DR's data er...mere gemt...men jeg fandt en acceptabel måde at hive det ud på via scrapy\n",
    "import pickle\n",
    "import pandas as pd"
   ]
  },
  {
   "cell_type": "code",
   "execution_count": 97,
   "id": "2f6efaaf-80f3-4cbc-98e1-1d88c1d1c49a",
   "metadata": {},
   "outputs": [],
   "source": [
    "objects = []\n",
    "with (open(\"TakeTheDR/outputs.pickle\", \"rb\")) as openfile:\n",
    "    while True:\n",
    "        try:\n",
    "            objects.append(pickle.load(openfile))\n",
    "        except EOFError:\n",
    "            break"
   ]
  },
  {
   "cell_type": "code",
   "execution_count": 98,
   "id": "caa4c805-8c3b-4629-94a4-445cd3059c59",
   "metadata": {},
   "outputs": [
    {
     "data": {
      "text/plain": [
       "25    838\n",
       "0     125\n",
       "Name: 0, dtype: int64"
      ]
     },
     "execution_count": 98,
     "metadata": {},
     "output_type": "execute_result"
    }
   ],
   "source": [
    "pd.DataFrame([[len(y) for y in x['kandidat']] for x in objects])[0].value_counts()"
   ]
  },
  {
   "cell_type": "code",
   "execution_count": 99,
   "id": "b324e5bb-9d1b-4e43-9907-63d351e8db08",
   "metadata": {},
   "outputs": [],
   "source": [
    "# 838 har svaret."
   ]
  },
  {
   "cell_type": "code",
   "execution_count": 100,
   "id": "fa8b0b6f-d4b2-44fe-8521-537d27255143",
   "metadata": {},
   "outputs": [],
   "source": [
    "# Lets remove them\n",
    "objects = [x['kandidat'] for x in objects if x['kandidat'][0]]"
   ]
  },
  {
   "cell_type": "code",
   "execution_count": 101,
   "id": "2ad1a559-dd09-4f2d-baa0-96ffbc5c66bc",
   "metadata": {},
   "outputs": [
    {
     "data": {
      "text/plain": [
       "11"
      ]
     },
     "execution_count": 101,
     "metadata": {},
     "output_type": "execute_result"
    }
   ],
   "source": [
    "sum(pd.Series([pd.DataFrame(x[0])['Answer'].sum() for x in objects])==0)\n",
    "# hmm og 11 har enten svaret total nej til alt eller har ikke rigtigt svaret"
   ]
  },
  {
   "cell_type": "code",
   "execution_count": 102,
   "id": "6d12feba-f838-4198-b97f-134ea4efa647",
   "metadata": {},
   "outputs": [],
   "source": [
    "objects = [x for x in objects if pd.DataFrame(x[0])['Answer'].sum() != 0]"
   ]
  },
  {
   "cell_type": "code",
   "execution_count": 103,
   "id": "bdca3d42-77c5-4fb1-a4eb-776cebbb3bbc",
   "metadata": {},
   "outputs": [
    {
     "data": {
      "text/plain": [
       "827"
      ]
     },
     "execution_count": 103,
     "metadata": {},
     "output_type": "execute_result"
    }
   ],
   "source": [
    "len(objects)"
   ]
  },
  {
   "cell_type": "code",
   "execution_count": 32,
   "id": "2f920d58-24a3-43aa-a7c8-244c6da1e470",
   "metadata": {},
   "outputs": [],
   "source": []
  },
  {
   "cell_type": "code",
   "execution_count": 104,
   "id": "35109543-c876-48cc-803a-dceb1c615f87",
   "metadata": {},
   "outputs": [
    {
     "data": {
      "text/plain": [
       "0.8573155985489722"
      ]
     },
     "execution_count": 104,
     "metadata": {},
     "output_type": "execute_result"
    }
   ],
   "source": [
    "beggetests = pd.Series([sum(q.navn == \" \".join([x[1]['Firstname'], x[1]['LastName']])) for x in objects])\n",
    "beggetests.mean()"
   ]
  },
  {
   "cell_type": "code",
   "execution_count": 105,
   "id": "cbc1afc1-9485-43f3-ac05-2112d3ee8176",
   "metadata": {},
   "outputs": [],
   "source": [
    "#ok 86% af folkenene findes i begge tests..."
   ]
  },
  {
   "cell_type": "code",
   "execution_count": 106,
   "id": "75ab5f11-368c-4194-9337-7c29ad01b340",
   "metadata": {},
   "outputs": [],
   "source": [
    "# Who the fuck tænker \"det springer jeg lige over\"....\n",
    "# Lets find out =)"
   ]
  },
  {
   "cell_type": "code",
   "execution_count": 107,
   "id": "82d256cb-f104-4b6f-a7a4-6e153179d7b6",
   "metadata": {},
   "outputs": [],
   "source": [
    "navne = pd.Series([\" \".join([x[1]['Firstname'], x[1]['LastName']]) for x in objects])"
   ]
  },
  {
   "cell_type": "code",
   "execution_count": 108,
   "id": "b3dd7984-e5aa-4097-89c0-5afae59f88de",
   "metadata": {},
   "outputs": [
    {
     "data": {
      "text/plain": [
       "8               Pavia Jacobsen\n",
       "9               Martin Kjærulf\n",
       "11     Chresten Heesgård Ibsen\n",
       "16         Thor Clasen Jonasen\n",
       "18          Rasmus Bøgh Vinter\n",
       "                ...           \n",
       "789        Karsten Jul Brædder\n",
       "792               Rico Djernis\n",
       "802       Allan Bilgaard Beier\n",
       "806         Peter Zinckernagel\n",
       "825                  Ida Auken\n",
       "Length: 118, dtype: object"
      ]
     },
     "execution_count": 108,
     "metadata": {},
     "output_type": "execute_result"
    }
   ],
   "source": [
    "navne[beggetests == 0]"
   ]
  },
  {
   "cell_type": "code",
   "execution_count": 205,
   "id": "848f1148-5fe8-40d6-ae20-16f2fba68c08",
   "metadata": {},
   "outputs": [],
   "source": [
    "# Ida..tsk tsk\n",
    "# Nå ..videre"
   ]
  },
  {
   "cell_type": "code",
   "execution_count": 159,
   "id": "3b38bd22-2009-44b9-9d64-3b4e219658fe",
   "metadata": {},
   "outputs": [],
   "source": [
    "bogstaver = json.load(open('various.json'))['bogstav_leg']"
   ]
  },
  {
   "cell_type": "code",
   "execution_count": 206,
   "id": "05834605-dc5c-4f2b-aacf-58c547cdf14d",
   "metadata": {},
   "outputs": [],
   "source": [
    "dr_data = []\n",
    "for i, dd in enumerate(objects):\n",
    "    person = {'navn': \" \".join([dd[1]['Firstname'], dd[1]['LastName']]), 'parti': bogstaver[dd[1]['CurrentPartyCode']]}\n",
    "    svar = pd.DataFrame(dd[0])[['QuestionID', 'Answer']].set_index('QuestionID').T/5\n",
    "    svar.columns = svar.columns.astype('str')\n",
    "    svar['navn'] = person['navn']\n",
    "    svar['parti'] = person['parti']\n",
    "    svar.index = [f'DR{i}']\n",
    "    dr_data.append(svar)\n",
    "dr_df = pd.concat(dr_data)"
   ]
  },
  {
   "cell_type": "code",
   "execution_count": 207,
   "id": "b83e3b00-e7bd-4ea6-860e-fbc77c4ca3f1",
   "metadata": {},
   "outputs": [],
   "source": [
    "all_data = dr_df.merge(q, on=['navn', 'parti'])"
   ]
  },
  {
   "cell_type": "code",
   "execution_count": 208,
   "id": "e05e702d-837d-4790-989e-c8b4a28c2efc",
   "metadata": {},
   "outputs": [],
   "source": [
    "all_data = all_data.drop('index', axis=1)"
   ]
  },
  {
   "cell_type": "code",
   "execution_count": 209,
   "id": "fac492d9-2b4e-4831-a4b2-beeabb219459",
   "metadata": {},
   "outputs": [
    {
     "data": {
      "text/html": [
       "<div>\n",
       "<style scoped>\n",
       "    .dataframe tbody tr th:only-of-type {\n",
       "        vertical-align: middle;\n",
       "    }\n",
       "\n",
       "    .dataframe tbody tr th {\n",
       "        vertical-align: top;\n",
       "    }\n",
       "\n",
       "    .dataframe thead th {\n",
       "        text-align: right;\n",
       "    }\n",
       "</style>\n",
       "<table border=\"1\" class=\"dataframe\">\n",
       "  <thead>\n",
       "    <tr style=\"text-align: right;\">\n",
       "      <th></th>\n",
       "      <th>530</th>\n",
       "      <th>531</th>\n",
       "      <th>533</th>\n",
       "      <th>534</th>\n",
       "      <th>535</th>\n",
       "      <th>537</th>\n",
       "      <th>538</th>\n",
       "      <th>540</th>\n",
       "      <th>541</th>\n",
       "      <th>543</th>\n",
       "      <th>...</th>\n",
       "      <th>9a</th>\n",
       "      <th>9b</th>\n",
       "      <th>10a</th>\n",
       "      <th>10b</th>\n",
       "      <th>11a</th>\n",
       "      <th>11b</th>\n",
       "      <th>12a</th>\n",
       "      <th>12b</th>\n",
       "      <th>storkreds</th>\n",
       "      <th>alder</th>\n",
       "    </tr>\n",
       "  </thead>\n",
       "  <tbody>\n",
       "    <tr>\n",
       "      <th>0</th>\n",
       "      <td>1.0</td>\n",
       "      <td>1.0</td>\n",
       "      <td>0.2</td>\n",
       "      <td>1.0</td>\n",
       "      <td>0.2</td>\n",
       "      <td>0.2</td>\n",
       "      <td>1.0</td>\n",
       "      <td>0.2</td>\n",
       "      <td>1.0</td>\n",
       "      <td>0.2</td>\n",
       "      <td>...</td>\n",
       "      <td>0.00</td>\n",
       "      <td>0.50</td>\n",
       "      <td>0.50</td>\n",
       "      <td>1.00</td>\n",
       "      <td>0.75</td>\n",
       "      <td>0.25</td>\n",
       "      <td>0.50</td>\n",
       "      <td>0.50</td>\n",
       "      <td>Bornholms Storkreds</td>\n",
       "      <td>34</td>\n",
       "    </tr>\n",
       "    <tr>\n",
       "      <th>1</th>\n",
       "      <td>0.4</td>\n",
       "      <td>0.4</td>\n",
       "      <td>0.8</td>\n",
       "      <td>0.2</td>\n",
       "      <td>1.0</td>\n",
       "      <td>0.8</td>\n",
       "      <td>0.2</td>\n",
       "      <td>0.8</td>\n",
       "      <td>0.2</td>\n",
       "      <td>0.8</td>\n",
       "      <td>...</td>\n",
       "      <td>0.75</td>\n",
       "      <td>0.50</td>\n",
       "      <td>0.75</td>\n",
       "      <td>0.75</td>\n",
       "      <td>0.00</td>\n",
       "      <td>1.00</td>\n",
       "      <td>0.75</td>\n",
       "      <td>0.75</td>\n",
       "      <td>Bornholms Storkreds</td>\n",
       "      <td>56</td>\n",
       "    </tr>\n",
       "    <tr>\n",
       "      <th>2</th>\n",
       "      <td>1.0</td>\n",
       "      <td>0.8</td>\n",
       "      <td>0.2</td>\n",
       "      <td>0.2</td>\n",
       "      <td>0.8</td>\n",
       "      <td>0.2</td>\n",
       "      <td>0.8</td>\n",
       "      <td>0.4</td>\n",
       "      <td>0.8</td>\n",
       "      <td>0.4</td>\n",
       "      <td>...</td>\n",
       "      <td>0.25</td>\n",
       "      <td>0.00</td>\n",
       "      <td>0.50</td>\n",
       "      <td>1.00</td>\n",
       "      <td>0.50</td>\n",
       "      <td>0.25</td>\n",
       "      <td>0.75</td>\n",
       "      <td>0.00</td>\n",
       "      <td>Bornholms Storkreds</td>\n",
       "      <td>37</td>\n",
       "    </tr>\n",
       "    <tr>\n",
       "      <th>3</th>\n",
       "      <td>0.8</td>\n",
       "      <td>0.2</td>\n",
       "      <td>0.8</td>\n",
       "      <td>0.2</td>\n",
       "      <td>1.0</td>\n",
       "      <td>0.8</td>\n",
       "      <td>0.2</td>\n",
       "      <td>1.0</td>\n",
       "      <td>0.4</td>\n",
       "      <td>0.8</td>\n",
       "      <td>...</td>\n",
       "      <td>0.75</td>\n",
       "      <td>0.25</td>\n",
       "      <td>0.75</td>\n",
       "      <td>0.25</td>\n",
       "      <td>0.25</td>\n",
       "      <td>1.00</td>\n",
       "      <td>0.75</td>\n",
       "      <td>0.25</td>\n",
       "      <td>Bornholms Storkreds</td>\n",
       "      <td>27</td>\n",
       "    </tr>\n",
       "    <tr>\n",
       "      <th>4</th>\n",
       "      <td>0.4</td>\n",
       "      <td>0.2</td>\n",
       "      <td>0.4</td>\n",
       "      <td>0.2</td>\n",
       "      <td>1.0</td>\n",
       "      <td>0.8</td>\n",
       "      <td>0.2</td>\n",
       "      <td>1.0</td>\n",
       "      <td>0.2</td>\n",
       "      <td>0.8</td>\n",
       "      <td>...</td>\n",
       "      <td>0.75</td>\n",
       "      <td>0.25</td>\n",
       "      <td>0.75</td>\n",
       "      <td>1.00</td>\n",
       "      <td>0.00</td>\n",
       "      <td>0.75</td>\n",
       "      <td>0.75</td>\n",
       "      <td>0.75</td>\n",
       "      <td>Bornholms Storkreds</td>\n",
       "      <td>69</td>\n",
       "    </tr>\n",
       "    <tr>\n",
       "      <th>...</th>\n",
       "      <td>...</td>\n",
       "      <td>...</td>\n",
       "      <td>...</td>\n",
       "      <td>...</td>\n",
       "      <td>...</td>\n",
       "      <td>...</td>\n",
       "      <td>...</td>\n",
       "      <td>...</td>\n",
       "      <td>...</td>\n",
       "      <td>...</td>\n",
       "      <td>...</td>\n",
       "      <td>...</td>\n",
       "      <td>...</td>\n",
       "      <td>...</td>\n",
       "      <td>...</td>\n",
       "      <td>...</td>\n",
       "      <td>...</td>\n",
       "      <td>...</td>\n",
       "      <td>...</td>\n",
       "      <td>...</td>\n",
       "      <td>...</td>\n",
       "    </tr>\n",
       "    <tr>\n",
       "      <th>704</th>\n",
       "      <td>0.8</td>\n",
       "      <td>0.8</td>\n",
       "      <td>0.8</td>\n",
       "      <td>0.4</td>\n",
       "      <td>0.8</td>\n",
       "      <td>0.4</td>\n",
       "      <td>0.4</td>\n",
       "      <td>0.4</td>\n",
       "      <td>0.8</td>\n",
       "      <td>0.4</td>\n",
       "      <td>...</td>\n",
       "      <td>0.25</td>\n",
       "      <td>0.50</td>\n",
       "      <td>0.50</td>\n",
       "      <td>0.75</td>\n",
       "      <td>0.75</td>\n",
       "      <td>0.25</td>\n",
       "      <td>0.75</td>\n",
       "      <td>0.50</td>\n",
       "      <td>Københavns Storkreds</td>\n",
       "      <td>43</td>\n",
       "    </tr>\n",
       "    <tr>\n",
       "      <th>705</th>\n",
       "      <td>0.8</td>\n",
       "      <td>0.8</td>\n",
       "      <td>0.8</td>\n",
       "      <td>0.2</td>\n",
       "      <td>1.0</td>\n",
       "      <td>0.4</td>\n",
       "      <td>0.8</td>\n",
       "      <td>0.4</td>\n",
       "      <td>0.4</td>\n",
       "      <td>0.8</td>\n",
       "      <td>...</td>\n",
       "      <td>0.75</td>\n",
       "      <td>0.50</td>\n",
       "      <td>0.25</td>\n",
       "      <td>1.00</td>\n",
       "      <td>1.00</td>\n",
       "      <td>0.00</td>\n",
       "      <td>0.75</td>\n",
       "      <td>0.50</td>\n",
       "      <td>Københavns Storkreds</td>\n",
       "      <td>78</td>\n",
       "    </tr>\n",
       "    <tr>\n",
       "      <th>706</th>\n",
       "      <td>0.8</td>\n",
       "      <td>1.0</td>\n",
       "      <td>0.8</td>\n",
       "      <td>0.2</td>\n",
       "      <td>0.8</td>\n",
       "      <td>0.2</td>\n",
       "      <td>0.8</td>\n",
       "      <td>0.4</td>\n",
       "      <td>0.8</td>\n",
       "      <td>0.4</td>\n",
       "      <td>...</td>\n",
       "      <td>0.00</td>\n",
       "      <td>0.75</td>\n",
       "      <td>0.50</td>\n",
       "      <td>1.00</td>\n",
       "      <td>0.75</td>\n",
       "      <td>0.00</td>\n",
       "      <td>0.50</td>\n",
       "      <td>0.00</td>\n",
       "      <td>Københavns Storkreds</td>\n",
       "      <td>56</td>\n",
       "    </tr>\n",
       "    <tr>\n",
       "      <th>707</th>\n",
       "      <td>0.8</td>\n",
       "      <td>0.8</td>\n",
       "      <td>0.8</td>\n",
       "      <td>0.2</td>\n",
       "      <td>1.0</td>\n",
       "      <td>0.4</td>\n",
       "      <td>0.8</td>\n",
       "      <td>0.4</td>\n",
       "      <td>0.4</td>\n",
       "      <td>0.8</td>\n",
       "      <td>...</td>\n",
       "      <td>0.25</td>\n",
       "      <td>0.50</td>\n",
       "      <td>0.25</td>\n",
       "      <td>1.00</td>\n",
       "      <td>0.75</td>\n",
       "      <td>0.00</td>\n",
       "      <td>0.50</td>\n",
       "      <td>0.50</td>\n",
       "      <td>Københavns Storkreds</td>\n",
       "      <td>32</td>\n",
       "    </tr>\n",
       "    <tr>\n",
       "      <th>708</th>\n",
       "      <td>0.8</td>\n",
       "      <td>0.8</td>\n",
       "      <td>0.8</td>\n",
       "      <td>0.4</td>\n",
       "      <td>0.8</td>\n",
       "      <td>0.2</td>\n",
       "      <td>0.4</td>\n",
       "      <td>0.4</td>\n",
       "      <td>0.4</td>\n",
       "      <td>0.8</td>\n",
       "      <td>...</td>\n",
       "      <td>0.25</td>\n",
       "      <td>0.75</td>\n",
       "      <td>0.75</td>\n",
       "      <td>0.75</td>\n",
       "      <td>0.75</td>\n",
       "      <td>0.25</td>\n",
       "      <td>0.25</td>\n",
       "      <td>0.25</td>\n",
       "      <td>Københavns Storkreds</td>\n",
       "      <td>44</td>\n",
       "    </tr>\n",
       "  </tbody>\n",
       "</table>\n",
       "<p>709 rows × 53 columns</p>\n",
       "</div>"
      ],
      "text/plain": [
       "     530  531  533  534  535  537  538  540  541  543  ...    9a    9b   10a  \\\n",
       "0    1.0  1.0  0.2  1.0  0.2  0.2  1.0  0.2  1.0  0.2  ...  0.00  0.50  0.50   \n",
       "1    0.4  0.4  0.8  0.2  1.0  0.8  0.2  0.8  0.2  0.8  ...  0.75  0.50  0.75   \n",
       "2    1.0  0.8  0.2  0.2  0.8  0.2  0.8  0.4  0.8  0.4  ...  0.25  0.00  0.50   \n",
       "3    0.8  0.2  0.8  0.2  1.0  0.8  0.2  1.0  0.4  0.8  ...  0.75  0.25  0.75   \n",
       "4    0.4  0.2  0.4  0.2  1.0  0.8  0.2  1.0  0.2  0.8  ...  0.75  0.25  0.75   \n",
       "..   ...  ...  ...  ...  ...  ...  ...  ...  ...  ...  ...   ...   ...   ...   \n",
       "704  0.8  0.8  0.8  0.4  0.8  0.4  0.4  0.4  0.8  0.4  ...  0.25  0.50  0.50   \n",
       "705  0.8  0.8  0.8  0.2  1.0  0.4  0.8  0.4  0.4  0.8  ...  0.75  0.50  0.25   \n",
       "706  0.8  1.0  0.8  0.2  0.8  0.2  0.8  0.4  0.8  0.4  ...  0.00  0.75  0.50   \n",
       "707  0.8  0.8  0.8  0.2  1.0  0.4  0.8  0.4  0.4  0.8  ...  0.25  0.50  0.25   \n",
       "708  0.8  0.8  0.8  0.4  0.8  0.2  0.4  0.4  0.4  0.8  ...  0.25  0.75  0.75   \n",
       "\n",
       "      10b   11a   11b   12a   12b             storkreds  alder  \n",
       "0    1.00  0.75  0.25  0.50  0.50   Bornholms Storkreds     34  \n",
       "1    0.75  0.00  1.00  0.75  0.75   Bornholms Storkreds     56  \n",
       "2    1.00  0.50  0.25  0.75  0.00   Bornholms Storkreds     37  \n",
       "3    0.25  0.25  1.00  0.75  0.25   Bornholms Storkreds     27  \n",
       "4    1.00  0.00  0.75  0.75  0.75   Bornholms Storkreds     69  \n",
       "..    ...   ...   ...   ...   ...                   ...    ...  \n",
       "704  0.75  0.75  0.25  0.75  0.50  Københavns Storkreds     43  \n",
       "705  1.00  1.00  0.00  0.75  0.50  Københavns Storkreds     78  \n",
       "706  1.00  0.75  0.00  0.50  0.00  Københavns Storkreds     56  \n",
       "707  1.00  0.75  0.00  0.50  0.50  Københavns Storkreds     32  \n",
       "708  0.75  0.75  0.25  0.25  0.25  Københavns Storkreds     44  \n",
       "\n",
       "[709 rows x 53 columns]"
      ]
     },
     "execution_count": 209,
     "metadata": {},
     "output_type": "execute_result"
    }
   ],
   "source": [
    "all_data"
   ]
  },
  {
   "cell_type": "code",
   "execution_count": 210,
   "id": "f44a04b1-c52c-4f79-989d-0085f37ada56",
   "metadata": {},
   "outputs": [],
   "source": [
    "all_data.to_feather(\"2022_Lasse_data.feather\")"
   ]
  },
  {
   "cell_type": "code",
   "execution_count": null,
   "id": "d44044e6-2209-4813-86c7-b75751730f9b",
   "metadata": {},
   "outputs": [],
   "source": []
  }
 ],
 "metadata": {
  "kernelspec": {
   "display_name": "Python 3 (ipykernel)",
   "language": "python",
   "name": "python3"
  },
  "language_info": {
   "codemirror_mode": {
    "name": "ipython",
    "version": 3
   },
   "file_extension": ".py",
   "mimetype": "text/x-python",
   "name": "python",
   "nbconvert_exporter": "python",
   "pygments_lexer": "ipython3",
   "version": "3.10.6"
  }
 },
 "nbformat": 4,
 "nbformat_minor": 5
}
