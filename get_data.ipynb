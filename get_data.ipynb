{
 "cells": [
  {
   "cell_type": "code",
   "execution_count": 128,
   "id": "d56c7a79-c97d-435f-87ae-b7deaa466a9d",
   "metadata": {},
   "outputs": [],
   "source": [
    "from requests import get\n",
    "import json\n",
    "import pandas as pd\n",
    "import numpy as np\n",
    "import pickle"
   ]
  },
  {
   "cell_type": "code",
   "execution_count": 21,
   "id": "03f4fd65-d9c5-4855-867f-394b4e958894",
   "metadata": {
    "scrolled": true,
    "tags": []
   },
   "outputs": [],
   "source": [
    "# Arbejder med JP's (JP/Politiken?) data"
   ]
  },
  {
   "cell_type": "code",
   "execution_count": 22,
   "id": "4e811981",
   "metadata": {
    "collapsed": false,
    "jupyter": {
     "outputs_hidden": false
    }
   },
   "outputs": [
    {
     "data": {
      "text/plain": [
       "'\\ncompareCandidateUserUrl: \"https://kit.jyllands-posten.dk/electionendpoint/candidate/getUserResult/\"\\ncomparePartyUserUrl: \"https://kit.jyllands-posten.dk/electionendpoint/party/getUserResult/\"\\ndefaultDistrictID: \"49\"\\nelectionsId: \"28\"\\ngetCandidateBasicUrl: \"https://kit.jyllands-posten.dk/electionendpoint/candidate/getCandidate/\"\\ngetCandidateMatchesBasicUrl: \"https://kit.jyllands-posten.dk/electionendpoint/candidate/getUserMatches/\"\\ngetCandidateMatchesWithCandidateUrl: \"https://kit.jyllands-posten.dk/electionendpoint/candidate/getCandidateMatches/\"\\ngetCandidateMatchesWithPartyUrl: \"https://kit.jyllands-posten.dk/electionendpoint/party/getCandidateMatches/\"\\ngetCandidatePollResult: \"https://kit.jyllands-posten.dk/electionendpoint/candidate/getCandidateResult/\"\\ngetCandidatesByDistrictBasicUrl: \"https://kit.jyllands-posten.dk/electionendpoint/district/getCandidates/\"\\ngetCandidatesByPartyAndDistrictUrl: \"https://kit.jyllands-posten.dk/electionendpoint/candidate/getCandidates/\"\\ngetCandidatesByPartyIdUrl: \"https://kit.jyllands-posten.dk/electionendpoint/candidate/getCandidates/\"\\ngetDistrictsBasicUrl: \"https://kit.jyllands-posten.dk/electionendpoint/district/getDistricts/\"\\ngetPartiesBasicUrl: \"https://kit.jyllands-posten.dk/electionendpoint/party/getParties/\"\\ngetPartiesByDistrictBasicUrl: \"https://kit.jyllands-posten.dk/electionendpoint/district/getParties/\"\\ngetPartyBasicUrl: \"https://kit.jyllands-posten.dk/electionendpoint/party/getParty/\"\\ngetPartyMatchesBasicUrl: \"https://kit.jyllands-posten.dk/electionendpoint/party/getUserMatches/\"\\ngetPartyPollResult: \"https://kit.jyllands-posten.dk/electionendpoint/party/getPartyResult/\"\\ngetPollResultsBasicUrl: \"https://kit.jyllands-posten.dk/electionendpoint/poll/calculateResult/\"\\ngetQuestionsBasicUrl: \"https://kit.jyllands-posten.dk/electionendpoint/poll/getQuestions/\"\\n    '"
      ]
     },
     "execution_count": 22,
     "metadata": {},
     "output_type": "execute_result"
    }
   ],
   "source": [
    "\"\"\"\n",
    "compareCandidateUserUrl: \"https://kit.jyllands-posten.dk/electionendpoint/candidate/getUserResult/\"\n",
    "comparePartyUserUrl: \"https://kit.jyllands-posten.dk/electionendpoint/party/getUserResult/\"\n",
    "defaultDistrictID: \"49\"\n",
    "electionsId: \"28\"\n",
    "getCandidateBasicUrl: \"https://kit.jyllands-posten.dk/electionendpoint/candidate/getCandidate/\"\n",
    "getCandidateMatchesBasicUrl: \"https://kit.jyllands-posten.dk/electionendpoint/candidate/getUserMatches/\"\n",
    "getCandidateMatchesWithCandidateUrl: \"https://kit.jyllands-posten.dk/electionendpoint/candidate/getCandidateMatches/\"\n",
    "getCandidateMatchesWithPartyUrl: \"https://kit.jyllands-posten.dk/electionendpoint/party/getCandidateMatches/\"\n",
    "getCandidatePollResult: \"https://kit.jyllands-posten.dk/electionendpoint/candidate/getCandidateResult/\"\n",
    "getCandidatesByDistrictBasicUrl: \"https://kit.jyllands-posten.dk/electionendpoint/district/getCandidates/\"\n",
    "getCandidatesByPartyAndDistrictUrl: \"https://kit.jyllands-posten.dk/electionendpoint/candidate/getCandidates/\"\n",
    "getCandidatesByPartyIdUrl: \"https://kit.jyllands-posten.dk/electionendpoint/candidate/getCandidates/\"\n",
    "getDistrictsBasicUrl: \"https://kit.jyllands-posten.dk/electionendpoint/district/getDistricts/\"\n",
    "getPartiesBasicUrl: \"https://kit.jyllands-posten.dk/electionendpoint/party/getParties/\"\n",
    "getPartiesByDistrictBasicUrl: \"https://kit.jyllands-posten.dk/electionendpoint/district/getParties/\"\n",
    "getPartyBasicUrl: \"https://kit.jyllands-posten.dk/electionendpoint/party/getParty/\"\n",
    "getPartyMatchesBasicUrl: \"https://kit.jyllands-posten.dk/electionendpoint/party/getUserMatches/\"\n",
    "getPartyPollResult: \"https://kit.jyllands-posten.dk/electionendpoint/party/getPartyResult/\"\n",
    "getPollResultsBasicUrl: \"https://kit.jyllands-posten.dk/electionendpoint/poll/calculateResult/\"\n",
    "getQuestionsBasicUrl: \"https://kit.jyllands-posten.dk/electionendpoint/poll/getQuestions/\"\n",
    "    \"\"\""
   ]
  },
  {
   "cell_type": "code",
   "execution_count": 23,
   "id": "d529a1f5",
   "metadata": {
    "collapsed": false,
    "jupyter": {
     "outputs_hidden": false
    }
   },
   "outputs": [],
   "source": [
    "jp_root_url = \"https://kit.jyllands-posten.dk/electionendpoint/\"  #district/getDistricts/28"
   ]
  },
  {
   "cell_type": "code",
   "execution_count": null,
   "id": "55f6f17a",
   "metadata": {
    "collapsed": false,
    "jupyter": {
     "outputs_hidden": false
    }
   },
   "outputs": [],
   "source": []
  },
  {
   "cell_type": "code",
   "execution_count": 24,
   "id": "86f84e36",
   "metadata": {
    "collapsed": false,
    "jupyter": {
     "outputs_hidden": false
    }
   },
   "outputs": [],
   "source": [
    "# hev rå data ud af tv2s og konverterede manuelt til en json\n",
    "storkredse = json.load(open(\"raw_data/TV2/greaterConstituencies.json\"))"
   ]
  },
  {
   "cell_type": "code",
   "execution_count": 3,
   "id": "72622cf8-7f37-4c40-9315-62bc6dcd2ad3",
   "metadata": {
    "scrolled": true,
    "tags": []
   },
   "outputs": [
    {
     "name": "stdout",
     "output_type": "stream",
     "text": [
      "9000400 Bornholms Storkreds\n",
      "9000600 Fyns Storkreds\n",
      "9000200 Københavns Omegns Storkreds\n",
      "9000100 Københavns Storkreds\n",
      "9001000 Nordjyllands Storkreds\n",
      "9000300 Nordsjællands Storkreds\n",
      "9000500 Sjællands Storkreds\n",
      "9000700 Sydjyllands Storkreds\n",
      "9000900 Vestjyllands Storkreds\n",
      "9000800 Østjyllands Storkreds\n"
     ]
    }
   ],
   "source": [
    "# bemærkede at tv hentede svarende på den her måde\n",
    "svar = {}\n",
    "for storkreds in storkredse:\n",
    "    print(storkreds['value'], storkreds['label'])\n",
    "    res = get(f\"https://election-api.services.tv2.dk/fv/fv22/candidatetest/answers/{storkreds['value']}\")\n",
    "    svar[storkreds['label']] = res.json()\n",
    "#gem svarerne\n",
    "json.dump(svar, open('raw_data/TV2/alle_svar.json', 'w'))"
   ]
  },
  {
   "cell_type": "code",
   "execution_count": 25,
   "id": "012a27c8-99f3-4afe-9c7d-1e21f4539725",
   "metadata": {},
   "outputs": [],
   "source": [
    "#svar = json.load(open('raw_data/TV2/alle_svar.json'))"
   ]
  },
  {
   "cell_type": "code",
   "execution_count": 26,
   "id": "6b51807e-fca9-4970-b348-624eeb581c4e",
   "metadata": {},
   "outputs": [],
   "source": [
    "# pt ignorere vi \"regionale spørgsmål\" fordi de i sagens natur kun er besvaret af et mindretal af kandidaterne...måske behøver jeg ikke gøre det...\n",
    "tv2_spg = [\"1a\", \"1b\", \"2a\", \"2b\", \"3a\", \"3b\", \"4a\", \"4b\", \"5a\", \"5b\", \"6a\", \"6b\", \"7a\", \"7b\", \"8a\", \"8b\", \"9a\", \"9b\", \"10a\", \"10b\", \"11a\", \"11b\", \"12a\", \"12b\"]"
   ]
  },
  {
   "cell_type": "code",
   "execution_count": 27,
   "id": "29d28809-79e7-479a-8ac6-ec4309d2e0ec",
   "metadata": {},
   "outputs": [],
   "source": [
    "# smæk det hele pænt sammen\n",
    "\n",
    "tv2_svar = {}\n",
    "tv2_kandidater = {}\n",
    "for storkreds, kandidater in svar.items():\n",
    "    for kandidat in kandidater:\n",
    "        tv2_kandidater[kandidat['id']] = {'navn': kandidat['name'], 'storkreds': kandidat['areaName'], 'parti': kandidat['partyName'], 'alder': kandidat['age']}\n",
    "        tv2_svar[kandidat['id']] = {x: kandidat['answers'][x]['answer'] for x in tv2_spg if x in kandidat['answers']}"
   ]
  },
  {
   "cell_type": "code",
   "execution_count": 28,
   "id": "c779e7da-113c-48db-8e3e-12c82b5fbb1f",
   "metadata": {},
   "outputs": [],
   "source": [
    "tv2_kandidater = pd.DataFrame(tv2_kandidater).T\n",
    "tv2_svar = pd.DataFrame(tv2_svar).T"
   ]
  },
  {
   "cell_type": "code",
   "execution_count": 29,
   "id": "9d71642d-0324-4360-b9c9-79e6ced0138a",
   "metadata": {},
   "outputs": [],
   "source": [
    "# norm mellem 0 og 1\n",
    "ma = tv2_svar.max()\n",
    "mi = tv2_svar.min()\n",
    "tv2_svar = (tv2_svar-mi)/(ma-mi)"
   ]
  },
  {
   "cell_type": "code",
   "execution_count": 30,
   "id": "5eef8894-da89-4e56-a5ce-94fe4d1f0329",
   "metadata": {},
   "outputs": [],
   "source": [
    "q = tv2_svar.copy()\n",
    "q['parti'] = [tv2_kandidater.loc[x, 'parti'] for x in tv2_svar.index]\n",
    "q['navn'] = [tv2_kandidater.loc[x, 'navn'] for x in tv2_svar.index]\n",
    "q['storkreds'] = [tv2_kandidater.loc[x, 'storkreds'] for x in tv2_svar.index]\n",
    "q['alder'] = [tv2_kandidater.loc[x, 'alder'] for x in tv2_svar.index]\n",
    "q.parti.replace(\"Konservative\", \"Det Konservative Folkeparti\", inplace=True)"
   ]
  },
  {
   "cell_type": "code",
   "execution_count": 31,
   "id": "f4ca7302-d174-4ca6-9799-a73605176db2",
   "metadata": {},
   "outputs": [],
   "source": [
    "# DR's data er...mere gemt...men jeg fandt en acceptabel måde at hive det ud på via scrapy"
   ]
  },
  {
   "cell_type": "code",
   "execution_count": 32,
   "id": "2f6efaaf-80f3-4cbc-98e1-1d88c1d1c49a",
   "metadata": {},
   "outputs": [],
   "source": [
    "objects = []\n",
    "with (open(\"TakeTheDR/outputs.pickle\", \"rb\")) as openfile:\n",
    "    while True:\n",
    "        try:\n",
    "            objects.append(pickle.load(openfile))\n",
    "        except EOFError:\n",
    "            break"
   ]
  },
  {
   "cell_type": "code",
   "execution_count": 33,
   "id": "caa4c805-8c3b-4629-94a4-445cd3059c59",
   "metadata": {},
   "outputs": [
    {
     "data": {
      "text/plain": [
       "25    882\n",
       "0     114\n",
       "Name: 0, dtype: int64"
      ]
     },
     "execution_count": 33,
     "metadata": {},
     "output_type": "execute_result"
    }
   ],
   "source": [
    "pd.DataFrame([[len(y) for y in x['kandidat']] for x in objects])[0].value_counts()"
   ]
  },
  {
   "cell_type": "code",
   "execution_count": 34,
   "id": "b324e5bb-9d1b-4e43-9907-63d351e8db08",
   "metadata": {},
   "outputs": [],
   "source": [
    "# 882 har svaret."
   ]
  },
  {
   "cell_type": "code",
   "execution_count": 35,
   "id": "fa8b0b6f-d4b2-44fe-8521-537d27255143",
   "metadata": {},
   "outputs": [],
   "source": [
    "# Vi beholder kun dem der har svaret.\n",
    "objects = [x['kandidat'] for x in objects if x['kandidat'][0]]"
   ]
  },
  {
   "cell_type": "code",
   "execution_count": 36,
   "id": "2ad1a559-dd09-4f2d-baa0-96ffbc5c66bc",
   "metadata": {},
   "outputs": [
    {
     "data": {
      "text/plain": [
       "7"
      ]
     },
     "execution_count": 36,
     "metadata": {},
     "output_type": "execute_result"
    }
   ],
   "source": [
    "sum(pd.Series([pd.DataFrame(x[0])['Answer'].sum() for x in objects])==0)\n",
    "# hmm og 7 har enten svaret total nej til alt eller har ikke rigtigt svaret"
   ]
  },
  {
   "cell_type": "code",
   "execution_count": 37,
   "id": "6d12feba-f838-4198-b97f-134ea4efa647",
   "metadata": {},
   "outputs": [],
   "source": [
    "objects = [x for x in objects if pd.DataFrame(x[0])['Answer'].sum() != 0]"
   ]
  },
  {
   "cell_type": "code",
   "execution_count": 38,
   "id": "bdca3d42-77c5-4fb1-a4eb-776cebbb3bbc",
   "metadata": {},
   "outputs": [
    {
     "data": {
      "text/plain": [
       "875"
      ]
     },
     "execution_count": 38,
     "metadata": {},
     "output_type": "execute_result"
    }
   ],
   "source": [
    "len(objects)"
   ]
  },
  {
   "cell_type": "code",
   "execution_count": 45,
   "id": "3b38bd22-2009-44b9-9d64-3b4e219658fe",
   "metadata": {},
   "outputs": [],
   "source": [
    "bogstaver = json.load(open('various.json'))['bogstav_leg']"
   ]
  },
  {
   "cell_type": "code",
   "execution_count": 46,
   "id": "05834605-dc5c-4f2b-aacf-58c547cdf14d",
   "metadata": {},
   "outputs": [],
   "source": [
    "dr_data = []\n",
    "for i, dd in enumerate(objects):\n",
    "    person = {'navn': \" \".join([dd[1]['Firstname'], dd[1]['LastName']]), 'parti': bogstaver[dd[1]['CurrentPartyCode']]}\n",
    "    svar = (pd.DataFrame(dd[0])[['QuestionID', 'Answer']].set_index('QuestionID').T-1)/4\n",
    "    svar.columns = svar.columns.astype('str')\n",
    "    svar['navn'] = person['navn']\n",
    "    svar['parti'] = person['parti']\n",
    "    svar.index = [f'DR{i}']\n",
    "    dr_data.append(svar)\n",
    "dr_df = pd.concat(dr_data)\n",
    "dr_df = dr_df.replace(-0.25, np.nan)"
   ]
  },
  {
   "cell_type": "code",
   "execution_count": 50,
   "id": "54397c7e-c2ad-42b2-8c27-ff183021ed21",
   "metadata": {},
   "outputs": [
    {
     "data": {
      "text/html": [
       "<div>\n",
       "<style scoped>\n",
       "    .dataframe tbody tr th:only-of-type {\n",
       "        vertical-align: middle;\n",
       "    }\n",
       "\n",
       "    .dataframe tbody tr th {\n",
       "        vertical-align: top;\n",
       "    }\n",
       "\n",
       "    .dataframe thead th {\n",
       "        text-align: right;\n",
       "    }\n",
       "</style>\n",
       "<table border=\"1\" class=\"dataframe\">\n",
       "  <thead>\n",
       "    <tr style=\"text-align: right;\">\n",
       "      <th></th>\n",
       "      <th>1a</th>\n",
       "      <th>1b</th>\n",
       "      <th>2a</th>\n",
       "      <th>2b</th>\n",
       "      <th>3a</th>\n",
       "      <th>3b</th>\n",
       "      <th>4a</th>\n",
       "      <th>4b</th>\n",
       "      <th>5a</th>\n",
       "      <th>5b</th>\n",
       "      <th>...</th>\n",
       "      <th>10a</th>\n",
       "      <th>10b</th>\n",
       "      <th>11a</th>\n",
       "      <th>11b</th>\n",
       "      <th>12a</th>\n",
       "      <th>12b</th>\n",
       "      <th>parti</th>\n",
       "      <th>navn</th>\n",
       "      <th>storkreds</th>\n",
       "      <th>alder</th>\n",
       "    </tr>\n",
       "  </thead>\n",
       "  <tbody>\n",
       "    <tr>\n",
       "      <th>16040</th>\n",
       "      <td>0.75</td>\n",
       "      <td>0.75</td>\n",
       "      <td>1.0</td>\n",
       "      <td>0.75</td>\n",
       "      <td>0.0</td>\n",
       "      <td>1.0</td>\n",
       "      <td>1.0</td>\n",
       "      <td>1.0</td>\n",
       "      <td>0.0</td>\n",
       "      <td>0.75</td>\n",
       "      <td>...</td>\n",
       "      <td>0.25</td>\n",
       "      <td>1.0</td>\n",
       "      <td>1.0</td>\n",
       "      <td>0.0</td>\n",
       "      <td>0.5</td>\n",
       "      <td>0.5</td>\n",
       "      <td>Socialistisk Folkeparti</td>\n",
       "      <td>Astrid Carøe Rasmussen</td>\n",
       "      <td>Sjællands Storkreds</td>\n",
       "      <td>28</td>\n",
       "    </tr>\n",
       "  </tbody>\n",
       "</table>\n",
       "<p>1 rows × 28 columns</p>\n",
       "</div>"
      ],
      "text/plain": [
       "         1a    1b   2a    2b   3a   3b   4a   4b   5a    5b  ...   10a  10b  \\\n",
       "16040  0.75  0.75  1.0  0.75  0.0  1.0  1.0  1.0  0.0  0.75  ...  0.25  1.0   \n",
       "\n",
       "       11a  11b  12a  12b                    parti                    navn  \\\n",
       "16040  1.0  0.0  0.5  0.5  Socialistisk Folkeparti  Astrid Carøe Rasmussen   \n",
       "\n",
       "                 storkreds  alder  \n",
       "16040  Sjællands Storkreds     28  \n",
       "\n",
       "[1 rows x 28 columns]"
      ]
     },
     "execution_count": 50,
     "metadata": {},
     "output_type": "execute_result"
    }
   ],
   "source": [
    "q[q.navn.str.contains('Carøe')]"
   ]
  },
  {
   "cell_type": "code",
   "execution_count": 49,
   "id": "406d3829-0ae0-4888-a2e7-ad3d9b816615",
   "metadata": {},
   "outputs": [
    {
     "data": {
      "text/html": [
       "<div>\n",
       "<style scoped>\n",
       "    .dataframe tbody tr th:only-of-type {\n",
       "        vertical-align: middle;\n",
       "    }\n",
       "\n",
       "    .dataframe tbody tr th {\n",
       "        vertical-align: top;\n",
       "    }\n",
       "\n",
       "    .dataframe thead th {\n",
       "        text-align: right;\n",
       "    }\n",
       "</style>\n",
       "<table border=\"1\" class=\"dataframe\">\n",
       "  <thead>\n",
       "    <tr style=\"text-align: right;\">\n",
       "      <th>QuestionID</th>\n",
       "      <th>530</th>\n",
       "      <th>531</th>\n",
       "      <th>533</th>\n",
       "      <th>534</th>\n",
       "      <th>535</th>\n",
       "      <th>537</th>\n",
       "      <th>538</th>\n",
       "      <th>540</th>\n",
       "      <th>541</th>\n",
       "      <th>543</th>\n",
       "      <th>...</th>\n",
       "      <th>552</th>\n",
       "      <th>553</th>\n",
       "      <th>555</th>\n",
       "      <th>556</th>\n",
       "      <th>557</th>\n",
       "      <th>559</th>\n",
       "      <th>561</th>\n",
       "      <th>563</th>\n",
       "      <th>navn</th>\n",
       "      <th>parti</th>\n",
       "    </tr>\n",
       "  </thead>\n",
       "  <tbody>\n",
       "    <tr>\n",
       "      <th>DR679</th>\n",
       "      <td>1.0</td>\n",
       "      <td>1.0</td>\n",
       "      <td>0.0</td>\n",
       "      <td>0.0</td>\n",
       "      <td>0.75</td>\n",
       "      <td>0.0</td>\n",
       "      <td>0.75</td>\n",
       "      <td>0.0</td>\n",
       "      <td>1.0</td>\n",
       "      <td>0.0</td>\n",
       "      <td>...</td>\n",
       "      <td>0.75</td>\n",
       "      <td>0.75</td>\n",
       "      <td>0.0</td>\n",
       "      <td>0.0</td>\n",
       "      <td>1.0</td>\n",
       "      <td>1.0</td>\n",
       "      <td>1.0</td>\n",
       "      <td>1.0</td>\n",
       "      <td>Astrid Carøe</td>\n",
       "      <td>Socialistisk Folkeparti</td>\n",
       "    </tr>\n",
       "  </tbody>\n",
       "</table>\n",
       "<p>1 rows × 27 columns</p>\n",
       "</div>"
      ],
      "text/plain": [
       "QuestionID  530  531  533  534   535  537   538  540  541  543  ...   552  \\\n",
       "DR679       1.0  1.0  0.0  0.0  0.75  0.0  0.75  0.0  1.0  0.0  ...  0.75   \n",
       "\n",
       "QuestionID   553  555  556  557  559  561  563          navn  \\\n",
       "DR679       0.75  0.0  0.0  1.0  1.0  1.0  1.0  Astrid Carøe   \n",
       "\n",
       "QuestionID                    parti  \n",
       "DR679       Socialistisk Folkeparti  \n",
       "\n",
       "[1 rows x 27 columns]"
      ]
     },
     "execution_count": 49,
     "metadata": {},
     "output_type": "execute_result"
    }
   ],
   "source": [
    "dr_df[dr_df.navn.str.contains('Carøe')]"
   ]
  },
  {
   "cell_type": "code",
   "execution_count": 51,
   "id": "3ee2cc00-1d54-402b-bb6c-39373bf05751",
   "metadata": {},
   "outputs": [],
   "source": [
    "all_data = dr_df.merge(q, on=['navn', 'parti'])"
   ]
  },
  {
   "cell_type": "code",
   "execution_count": 68,
   "id": "7de97081-b0ec-4acd-9303-a08d779abd27",
   "metadata": {},
   "outputs": [
    {
     "data": {
      "text/plain": [
       "265"
      ]
     },
     "execution_count": 68,
     "metadata": {},
     "output_type": "execute_result"
    }
   ],
   "source": [
    "alle_navne = pd.concat([dr_df.navn, q.navn])\n",
    "folk_mangler = alle_navne[~alle_navne.isin(all_data.navn)]\n",
    "len(folk_mangler)"
   ]
  },
  {
   "cell_type": "code",
   "execution_count": 69,
   "id": "127638c3-81ca-4345-a9e2-28c280100146",
   "metadata": {},
   "outputs": [],
   "source": [
    "# 265 mangler...kan være fordi de kun har svaret på 1 test. Kan være fordi deres navn er forskelligt i de 2 tests\n",
    "# Lets find out =)"
   ]
  },
  {
   "cell_type": "code",
   "execution_count": 118,
   "id": "9327b39f-347f-4c1d-8b05-700991a23c2f",
   "metadata": {},
   "outputs": [],
   "source": [
    "flatten=lambda l: sum(map(flatten,l),[]) if isinstance(l,list) else [l]\n",
    "potids = {}\n",
    "noid = []\n",
    "for person in folk_mangler:\n",
    "    navne = person.split()\n",
    "    potid = []\n",
    "    for navn in navne:\n",
    "        liid = folk_mangler[folk_mangler.str.contains(navn)].to_list()\n",
    "        if len(liid) == 2:\n",
    "            potid.append(liid)\n",
    "    potid = list(set(flatten(potid)))\n",
    "    if potid:\n",
    "        potid.remove(person)\n",
    "        if len(potid) == 1:\n",
    "            potids[person] = potid[0]\n",
    "        else:\n",
    "            noid.append(person)\n",
    "    else:\n",
    "        noid.append(person)\n",
    "potids2 = {}\n",
    "for k, v in potids.items():\n",
    "    if v not in potids2:\n",
    "        potids2[k] = v"
   ]
  },
  {
   "cell_type": "code",
   "execution_count": 121,
   "id": "132aa5cd-48a8-4cb0-9db8-97ff22cd251c",
   "metadata": {},
   "outputs": [],
   "source": [
    "manuel_data = {\n",
    "'Carsten Damgaard':'Carsten Damgaard Møller',\n",
    "'Cecilie Winther Kristensen': 'Cecillie Winther Kristensen',\n",
    "'Christian Jacobsen':'Christian Ivan Jacobsen',\n",
    "'Lars Bregnbak':'Lars Bregbak',\n",
    "'Lars Holmqvist': 'Lars Høyer Holmqvist',\n",
    "'Mette Kierkgaard': 'Mette Kierkegaard',\n",
    "'Rene Danielsson':'René Danielsson',\n",
    "'Theresa Berg':'Theresa Berg Andersen',\n",
    "'Sikander Siddique': 'Sikandar Siddique',\n",
    " 'Chresten Heesgård Ibsen': 'Chresten H. Ibsen',\n",
    " 'Rasmus Bøgh Vinter': 'Rasmus Bøgh Vinther',\n",
    " 'Mette Bram': 'Mette Kaasfeldt Bram',\n",
    " 'Louise Louring': 'Louise Lingren Louring',\n",
    " 'Niko Grunfeld': 'Niko Grünfeld',\n",
    " 'Mohammed Abdikarim': 'Mohamed Abdikarim',\n",
    " 'Christina Olumeko': 'Christina Sade Olumeko',\n",
    " 'Mette Bloch': 'Mette Bloch Hansen',\n",
    " 'Michael Nedersøe': 'Michael Kim Bladt Nedersøe',\n",
    " 'Anders Vistisen': 'Anders Primdahl Vistisen',\n",
    " 'Palle Rosenkilde': 'Palle Bjørn Rosenkilde',\n",
    " 'David Rønne': 'David Schack Trappaud Rønne',\n",
    " 'Brian Bruun': 'Brian Borglund Bruun',\n",
    " 'Marina Andersen': 'Marina Fløjgaard Andersen',\n",
    " 'Jon Stephensen': 'Jon Læssøe Stephensen',\n",
    " 'Isabella Arendt': 'Isabella Arendt Vlasman',\n",
    " 'Allan Bilgaard Beier': 'Allan Beier',\n",
    " 'Peter Zinckernagel': 'Peter Kjølbye Zinckernagel',\n",
    " 'Ida Auken': 'Ida Margrete Meier Auken',\n",
    " 'Bjarne Hartung Kirkegaard': 'Bjarne H. Kirkegaard',\n",
    " 'Diana-Ester Brandt Eriksen': 'Diana-Ester Eriksen',\n",
    " 'Martin Kjærulf': 'Martin Kjærulff',\n",
    " 'Kasper Krebs': 'Kasper Sten Krebs',\n",
    " 'Anna Astrid Hansen Calero': 'Anna Astrid Hansen calero',\n",
    " 'Victoria Velasquez': 'Victoria Velásquez',\n",
    " 'Lars Chr. Lilleholt': 'Lars Christian Lilleholt',\n",
    " 'Thomas Holbech Anker': 'Thomas Anker',\n",
    " 'Jakob Kjærsgaard': 'Jakob Kjærsgaard Mortensen',\n",
    " 'Hans Christian Hidalgo Wullf': 'Hans Christian Hidalgo Wulff',\n",
    " 'Mikkel Dencker': 'Mikkel S. Dencker',\n",
    " 'Jonas Hulgaard  Ammundsen': 'Jonas Hulgaard Ammundsen',\n",
    " 'Anastasia Valentin Rasmussen': 'Anastasia Valentin Mikitsiuk Rasmussen',\n",
    " 'Jørgen Juhl': 'Jørgen Mathow-Juhl',\n",
    " 'Henrik\\xa0Tørnqvist Lauridsen': 'Henrik Tørnqvist Lauridsen',\n",
    " 'Niels Grønlund': 'Niels Ture Holm Grønlund',\n",
    " 'Bjørn Bøje Brandenborg': 'Bjørn Brandenborg',\n",
    " 'Lone Langballe': 'Lone Vase Langballe',\n",
    " 'Hans Fonsbøl': 'Hans Biering Fonsbøl',\n",
    " 'Rasmus Vestergaard': 'Rasmus Vestergaard Madsen',\n",
    " 'Frida Vyff Bruun\\xa0':'Frida Vyff Bruun',\n",
    " 'Karin B Nissen': 'Karin B. Nissen',\n",
    " 'Marianne Mørk Mathiessen': 'Marianne Mørk Mathiesen',\n",
    " 'Line Gessø Hansen': 'Line Gessø',\n",
    " 'Stén Knuth': 'Sten Knuth',\n",
    " 'Marcus Danielsson': 'Marcus Techow Danielsson',\n",
    " 'Yadvinder Singh Sekhon': 'Yadvinder Singh',\n",
    " 'Merete Dea Larsen': 'Merete Dea Møller Larsen',\n",
    " 'Nicolai Sandager': 'Nicolai Wøldike Sandager',\n",
    " 'Mads Bruun Buch Olsen': 'Mads Olsen',\n",
    " 'Jeanne Rygas Bergmansen': 'Jeanne Bergmansen',\n",
    " 'Astrid Carøe': 'Astrid Carøe Rasmussen',\n",
    " 'Githa Nelander': 'Githa Lone Nelander',\n",
    " 'Kaare Dybvad': 'Kaare Dybvad Bek',\n",
    " 'Sidsel Dyekjær': 'Sidsel Marie Dyekjær',\n",
    " 'Nicklas Gjedsig': 'Nicklas Gjedsig Larsen',\n",
    " 'Mikkel Larsson': 'Mikkel Høj Bagger Larsson',\n",
    " 'Joachim Kjeldsen': 'Joachim Plaetner Kjeldsen',\n",
    " 'H.P. Beck': 'Hans Peter Beck',\n",
    " 'Benjamin Jørgensen': 'Benjamin Risager Jørgensen',\n",
    " 'Lars Ole Skovgaard': 'Lars Ole Skovgaard Larsen',\n",
    " 'Marianne Lynghøj': 'Marianne Lynghøj Pedersen',\n",
    " 'Kim Mejnert Frydensberg': 'Kim Mejnert Frydensbjerg',\n",
    " 'Britta Glønborg Kristensen': 'Britta Kristensen',\n",
    " 'Egil Fabritius Hulgaard': 'Egil Hulgaard', \n",
    " 'Simon Lavdal': 'Simon Lavdal-Pedersen',\n",
    " 'Kenneth Werby': 'Kenneth Werby Jensen',\n",
    " 'Magnus Heunicke': 'Magnus Johannes Heunicke',\n",
    " 'Dorte Fløjgaard': 'Marina Fløjgaard Andersen',\n",
    " 'Henning Østergaard': 'Henning Østergaard-Christensen'}"
   ]
  },
  {
   "cell_type": "code",
   "execution_count": 124,
   "id": "57db9bc6-9384-4ebe-a1af-c703c1b42f27",
   "metadata": {},
   "outputs": [],
   "source": [
    "q.navn = q.navn.apply(lambda x: manuel_data[x] if x in manuel_data else x)\n",
    "dr_df.navn = dr_df.navn.apply(lambda x: manuel_data[x] if x in manuel_data else x)\n",
    "all_data = dr_df.merge(q, on=['navn', 'parti'])"
   ]
  },
  {
   "cell_type": "code",
   "execution_count": 125,
   "id": "8934b9bc-914e-4710-9664-1af6236e410c",
   "metadata": {},
   "outputs": [
    {
     "data": {
      "text/plain": [
       "110"
      ]
     },
     "execution_count": 125,
     "metadata": {},
     "output_type": "execute_result"
    }
   ],
   "source": [
    "alle_navne = pd.concat([dr_df.navn, q.navn])\n",
    "folk_mangler = alle_navne[~alle_navne.isin(all_data.navn)]\n",
    "len(folk_mangler)"
   ]
  },
  {
   "cell_type": "code",
   "execution_count": 27,
   "id": "3eb3c2e8-3792-478f-8e14-cd28a14de1a1",
   "metadata": {},
   "outputs": [],
   "source": [
    "# ok...110 ser ud til ikke at havde svaret...bl.a. Nikolaj Wammen"
   ]
  },
  {
   "cell_type": "code",
   "execution_count": 126,
   "id": "1ebfa8a3-062f-4e07-a5c2-6aafeec68036",
   "metadata": {},
   "outputs": [],
   "source": [
    "# udfyld manglende svar med partiets gennemsnit\n",
    "dk_spg = ['530', '531', '533', '534', '535', '537', '538', '540', '541', '543','544', '545', '546', '547', '548', '550', '551', '552', '553', '555',\n",
    "       '556', '557', '559', '561', '563', '1a', '1b', '2a','2b', '3a', '3b', '4a', '4b', '5a', '5b', '6a', '6b', '7a', '7b', '8a',\n",
    "       '8b', '9a', '9b', '10a', '10b', '11a', '11b', '12a', '12b']\n",
    "parti_linjen = round(all_data.groupby('parti')[dk_spg].mean()*4)/4  # gennemsnitssvaret per parti, rundet til 1-5 (0-4) svarmulighederne\n",
    "\n",
    "def fald_ind(x):\n",
    "    x.loc[x[x.isna()].index] = parti_linjen.loc[x.parti, x[x.isna()].index]\n",
    "    return x\n",
    "    \n",
    "all_data_final = all_data.apply(fald_ind, axis=1)"
   ]
  },
  {
   "cell_type": "code",
   "execution_count": 127,
   "id": "3dd19de3-5d18-41f5-a520-a1810623790a",
   "metadata": {},
   "outputs": [],
   "source": [
    "all_data_final.to_feather(\"2022_Lasse_data.feather\")"
   ]
  }
 ],
 "metadata": {
  "kernelspec": {
   "display_name": "Python 3 (ipykernel)",
   "language": "python",
   "name": "python3"
  },
  "language_info": {
   "codemirror_mode": {
    "name": "ipython",
    "version": 3
   },
   "file_extension": ".py",
   "mimetype": "text/x-python",
   "name": "python",
   "nbconvert_exporter": "python",
   "pygments_lexer": "ipython3",
   "version": "3.10.6"
  }
 },
 "nbformat": 4,
 "nbformat_minor": 5
}
