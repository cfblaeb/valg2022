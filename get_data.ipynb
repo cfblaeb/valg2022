{
 "cells": [
  {
   "cell_type": "code",
   "execution_count": 1,
   "id": "d56c7a79-c97d-435f-87ae-b7deaa466a9d",
   "metadata": {},
   "outputs": [],
   "source": [
    "from requests import get\n",
    "import json\n",
    "import pandas as pd"
   ]
  },
  {
   "cell_type": "code",
   "execution_count": 2,
   "id": "03f4fd65-d9c5-4855-867f-394b4e958894",
   "metadata": {
    "scrolled": true,
    "tags": []
   },
   "outputs": [],
   "source": [
    "# hev rå data ud af tv2s og konverterede manuelt til en json\n",
    "storkredse = json.load(open(\"raw_data/TV2/greaterConstituencies.json\"))"
   ]
  },
  {
   "cell_type": "code",
   "execution_count": 53,
   "id": "72622cf8-7f37-4c40-9315-62bc6dcd2ad3",
   "metadata": {
    "scrolled": true,
    "tags": []
   },
   "outputs": [
    {
     "name": "stdout",
     "output_type": "stream",
     "text": [
      "9000400 Bornholms Storkreds\n",
      "9000600 Fyns Storkreds\n",
      "9000200 Københavns Omegns Storkreds\n",
      "9000100 Københavns Storkreds\n",
      "9001000 Nordjyllands Storkreds\n",
      "9000300 Nordsjællands Storkreds\n",
      "9000500 Sjællands Storkreds\n",
      "9000700 Sydjyllands Storkreds\n",
      "9000900 Vestjyllands Storkreds\n",
      "9000800 Østjyllands Storkreds\n"
     ]
    }
   ],
   "source": [
    "# bemærkede at tv hentede svarende på den her måde\n",
    "svar = {}\n",
    "for storkreds in storkredse:\n",
    "    print(storkreds['value'], storkreds['label'])\n",
    "    res = get(f\"https://election-api.services.tv2.dk/fv/fv22/candidatetest/answers/{storkreds['value']}\")\n",
    "    svar[storkreds['label']] = res.json()\n",
    "#gem svarerne\n",
    "json.dump(svar, open('raw_data/TV2/alle_svar.json', 'w'))"
   ]
  },
  {
   "cell_type": "code",
   "execution_count": 3,
   "id": "012a27c8-99f3-4afe-9c7d-1e21f4539725",
   "metadata": {},
   "outputs": [],
   "source": [
    "#svar = json.load(open('raw_data/TV2/alle_svar.json'))"
   ]
  },
  {
   "cell_type": "code",
   "execution_count": 4,
   "id": "dcbcaf68-5e99-448f-a143-5938b0774c8a",
   "metadata": {},
   "outputs": [],
   "source": [
    "# pt ignorere vi \"regionale spørgsmål\" fordi de i sagens natur kun er besvaret af et mindretal af kandidaterne...måske behøver jeg ikke gøre det...\n",
    "tv2_spg = [\"1a\", \"1b\", \"2a\", \"2b\", \"3a\", \"3b\", \"4a\", \"4b\", \"5a\", \"5b\", \"6a\", \"6b\", \"7a\", \"7b\", \"8a\", \"8b\", \"9a\", \"9b\", \"10a\", \"10b\", \"11a\", \"11b\", \"12a\", \"12b\"]"
   ]
  },
  {
   "cell_type": "code",
   "execution_count": 5,
   "id": "29d28809-79e7-479a-8ac6-ec4309d2e0ec",
   "metadata": {},
   "outputs": [],
   "source": [
    "# smæk det hele pænt sammen\n",
    "\n",
    "tv2_svar = {}\n",
    "tv2_kandidater = {}\n",
    "for storkreds, kandidater in svar.items():\n",
    "    for kandidat in kandidater:\n",
    "        tv2_kandidater[kandidat['id']] = {'navn': kandidat['name'], 'storkreds': kandidat['areaName'], 'parti': kandidat['partyName'], 'alder': kandidat['age']}\n",
    "        tv2_svar[kandidat['id']] = {x: kandidat['answers'][x]['answer'] for x in tv2_spg if x in kandidat['answers']}"
   ]
  },
  {
   "cell_type": "code",
   "execution_count": 6,
   "id": "fc381473-9c3a-425d-b345-907c985eec2f",
   "metadata": {},
   "outputs": [],
   "source": [
    "tv2_kandidater = pd.DataFrame(tv2_kandidater).T\n",
    "tv2_svar = pd.DataFrame(tv2_svar).T"
   ]
  },
  {
   "cell_type": "code",
   "execution_count": 7,
   "id": "f07121ab-8b2c-48d4-b210-195ced282408",
   "metadata": {},
   "outputs": [],
   "source": [
    "# norm mellem 0 og 1\n",
    "ma = tv2_svar.max()\n",
    "mi = tv2_svar.min()\n",
    "tv2_svar = (tv2_svar-mi)/(ma-mi)"
   ]
  },
  {
   "cell_type": "code",
   "execution_count": 8,
   "id": "5eef8894-da89-4e56-a5ce-94fe4d1f0329",
   "metadata": {},
   "outputs": [],
   "source": [
    "q = tv2_svar.copy()\n",
    "q['parti'] = [tv2_kandidater.loc[x, 'parti'] for x in tv2_svar.index]\n",
    "q['navn'] = [tv2_kandidater.loc[x, 'navn'] for x in tv2_svar.index]\n",
    "q['storkreds'] = [tv2_kandidater.loc[x, 'storkreds'] for x in tv2_svar.index]\n",
    "q['alder'] = [tv2_kandidater.loc[x, 'alder'] for x in tv2_svar.index]"
   ]
  },
  {
   "cell_type": "code",
   "execution_count": 9,
   "id": "ceaf6cc5-0473-4fcf-bba0-de6263fef94a",
   "metadata": {},
   "outputs": [],
   "source": [
    "# DR's data er...mere gemt...men jeg fandt en acceptabel måde at hive det ud på via scrapy\n",
    "import pickle\n",
    "import pandas as pd"
   ]
  },
  {
   "cell_type": "code",
   "execution_count": 10,
   "id": "2f6efaaf-80f3-4cbc-98e1-1d88c1d1c49a",
   "metadata": {},
   "outputs": [],
   "source": [
    "objects = []\n",
    "with (open(\"TakeTheDR/outputs.pickle\", \"rb\")) as openfile:\n",
    "    while True:\n",
    "        try:\n",
    "            objects.append(pickle.load(openfile))\n",
    "        except EOFError:\n",
    "            break"
   ]
  },
  {
   "cell_type": "code",
   "execution_count": 11,
   "id": "caa4c805-8c3b-4629-94a4-445cd3059c59",
   "metadata": {},
   "outputs": [
    {
     "data": {
      "text/plain": [
       "25    838\n",
       "0     125\n",
       "Name: 0, dtype: int64"
      ]
     },
     "execution_count": 11,
     "metadata": {},
     "output_type": "execute_result"
    }
   ],
   "source": [
    "pd.DataFrame([[len(y) for y in x['kandidat']] for x in objects])[0].value_counts()"
   ]
  },
  {
   "cell_type": "code",
   "execution_count": 12,
   "id": "b324e5bb-9d1b-4e43-9907-63d351e8db08",
   "metadata": {},
   "outputs": [],
   "source": [
    "# 838 har svaret."
   ]
  },
  {
   "cell_type": "code",
   "execution_count": 13,
   "id": "fa8b0b6f-d4b2-44fe-8521-537d27255143",
   "metadata": {},
   "outputs": [],
   "source": [
    "# Vi beholder kun dem der har svaret.\n",
    "objects = [x['kandidat'] for x in objects if x['kandidat'][0]]"
   ]
  },
  {
   "cell_type": "code",
   "execution_count": 14,
   "id": "2ad1a559-dd09-4f2d-baa0-96ffbc5c66bc",
   "metadata": {},
   "outputs": [
    {
     "data": {
      "text/plain": [
       "11"
      ]
     },
     "execution_count": 14,
     "metadata": {},
     "output_type": "execute_result"
    }
   ],
   "source": [
    "sum(pd.Series([pd.DataFrame(x[0])['Answer'].sum() for x in objects])==0)\n",
    "# hmm og 11 har enten svaret total nej til alt eller har ikke rigtigt svaret"
   ]
  },
  {
   "cell_type": "code",
   "execution_count": 15,
   "id": "6d12feba-f838-4198-b97f-134ea4efa647",
   "metadata": {},
   "outputs": [],
   "source": [
    "objects = [x for x in objects if pd.DataFrame(x[0])['Answer'].sum() != 0]"
   ]
  },
  {
   "cell_type": "code",
   "execution_count": 16,
   "id": "bdca3d42-77c5-4fb1-a4eb-776cebbb3bbc",
   "metadata": {},
   "outputs": [
    {
     "data": {
      "text/plain": [
       "827"
      ]
     },
     "execution_count": 16,
     "metadata": {},
     "output_type": "execute_result"
    }
   ],
   "source": [
    "len(objects)"
   ]
  },
  {
   "cell_type": "code",
   "execution_count": 17,
   "id": "35109543-c876-48cc-803a-dceb1c615f87",
   "metadata": {},
   "outputs": [
    {
     "data": {
      "text/plain": [
       "0.8573155985489722"
      ]
     },
     "execution_count": 17,
     "metadata": {},
     "output_type": "execute_result"
    }
   ],
   "source": [
    "beggetests = pd.Series([sum(q.navn == \" \".join([x[1]['Firstname'], x[1]['LastName']])) for x in objects])\n",
    "beggetests.mean()"
   ]
  },
  {
   "cell_type": "code",
   "execution_count": 18,
   "id": "cbc1afc1-9485-43f3-ac05-2112d3ee8176",
   "metadata": {},
   "outputs": [],
   "source": [
    "#ok 86% af folkenene findes i begge tests..."
   ]
  },
  {
   "cell_type": "code",
   "execution_count": 19,
   "id": "75ab5f11-368c-4194-9337-7c29ad01b340",
   "metadata": {},
   "outputs": [],
   "source": [
    "# Who the fuck tænker \"det springer jeg lige over\"....\n",
    "# Lets find out =)"
   ]
  },
  {
   "cell_type": "code",
   "execution_count": 20,
   "id": "82d256cb-f104-4b6f-a7a4-6e153179d7b6",
   "metadata": {},
   "outputs": [],
   "source": [
    "navne = pd.Series([\" \".join([x[1]['Firstname'], x[1]['LastName']]) for x in objects])"
   ]
  },
  {
   "cell_type": "code",
   "execution_count": 21,
   "id": "b3dd7984-e5aa-4097-89c0-5afae59f88de",
   "metadata": {},
   "outputs": [
    {
     "data": {
      "text/plain": [
       "8               Pavia Jacobsen\n",
       "9               Martin Kjærulf\n",
       "11     Chresten Heesgård Ibsen\n",
       "16         Thor Clasen Jonasen\n",
       "18          Rasmus Bøgh Vinter\n",
       "                ...           \n",
       "789        Karsten Jul Brædder\n",
       "792               Rico Djernis\n",
       "802       Allan Bilgaard Beier\n",
       "806         Peter Zinckernagel\n",
       "825                  Ida Auken\n",
       "Length: 118, dtype: object"
      ]
     },
     "execution_count": 21,
     "metadata": {},
     "output_type": "execute_result"
    }
   ],
   "source": [
    "navne[beggetests == 0]"
   ]
  },
  {
   "cell_type": "code",
   "execution_count": 22,
   "id": "848f1148-5fe8-40d6-ae20-16f2fba68c08",
   "metadata": {},
   "outputs": [],
   "source": [
    "# Ida..tsk tsk\n",
    "# Nå ..videre"
   ]
  },
  {
   "cell_type": "code",
   "execution_count": 23,
   "id": "3b38bd22-2009-44b9-9d64-3b4e219658fe",
   "metadata": {},
   "outputs": [],
   "source": [
    "bogstaver = json.load(open('various.json'))['bogstav_leg']"
   ]
  },
  {
   "cell_type": "code",
   "execution_count": 55,
   "id": "05834605-dc5c-4f2b-aacf-58c547cdf14d",
   "metadata": {},
   "outputs": [],
   "source": [
    "dr_data = []\n",
    "for i, dd in enumerate(objects):\n",
    "    person = {'navn': \" \".join([dd[1]['Firstname'], dd[1]['LastName']]), 'parti': bogstaver[dd[1]['CurrentPartyCode']]}\n",
    "    svar = (pd.DataFrame(dd[0])[['QuestionID', 'Answer']].set_index('QuestionID').T-1)/4\n",
    "    svar.columns = svar.columns.astype('str')\n",
    "    svar['navn'] = person['navn']\n",
    "    svar['parti'] = person['parti']\n",
    "    svar.index = [f'DR{i}']\n",
    "    dr_data.append(svar)\n",
    "dr_df = pd.concat(dr_data)"
   ]
  },
  {
   "cell_type": "code",
   "execution_count": 56,
   "id": "0a086c12-9faf-4055-ab8f-dd5e162036f4",
   "metadata": {},
   "outputs": [],
   "source": [
    "all_data = dr_df.merge(q, on=['navn', 'parti'])"
   ]
  },
  {
   "cell_type": "code",
   "execution_count": 57,
   "id": "4926a85d-2537-4397-ab85-dfd821d0b41b",
   "metadata": {},
   "outputs": [],
   "source": [
    "# udfyld manglende svar med partiets gennemsnit\n",
    "dk_spg = ['530', '531', '533', '534', '535', '537', '538', '540', '541', '543','544', '545', '546', '547', '548', '550', '551', '552', '553', '555',\n",
    "       '556', '557', '559', '561', '563', '1a', '1b', '2a','2b', '3a', '3b', '4a', '4b', '5a', '5b', '6a', '6b', '7a', '7b', '8a',\n",
    "       '8b', '9a', '9b', '10a', '10b', '11a', '11b', '12a', '12b']\n",
    "parti_linjen = round(all_data.groupby('parti')[dk_spg].mean()*4)  # gennemsnitssvaret per parti, rundet til 1-5 (0-4) svarmulighederne\n",
    "\n",
    "def fald_ind(x):\n",
    "    x.loc[x[x.isna()].index] = parti_linjen.loc[x.parti, x[x.isna()].index]\n",
    "    return x\n",
    "    \n",
    "all_data_final = all_data.apply(fald_ind, axis=1)"
   ]
  },
  {
   "cell_type": "code",
   "execution_count": 58,
   "id": "3dd19de3-5d18-41f5-a520-a1810623790a",
   "metadata": {},
   "outputs": [],
   "source": [
    "all_data_final.to_feather(\"2022_Lasse_data.feather\")"
   ]
  },
  {
   "cell_type": "code",
   "execution_count": null,
   "id": "e5a50f51-a536-4d39-bbc1-c0a7137442f0",
   "metadata": {},
   "outputs": [],
   "source": []
  },
  {
   "cell_type": "code",
   "execution_count": null,
   "id": "c446cecb-517e-4158-9818-e180ba6ca143",
   "metadata": {},
   "outputs": [],
   "source": []
  }
 ],
 "metadata": {
  "kernelspec": {
   "display_name": "Python 3 (ipykernel)",
   "language": "python",
   "name": "python3"
  },
  "language_info": {
   "codemirror_mode": {
    "name": "ipython",
    "version": 3
   },
   "file_extension": ".py",
   "mimetype": "text/x-python",
   "name": "python",
   "nbconvert_exporter": "python",
   "pygments_lexer": "ipython3",
   "version": "3.10.6"
  }
 },
 "nbformat": 4,
 "nbformat_minor": 5
}
