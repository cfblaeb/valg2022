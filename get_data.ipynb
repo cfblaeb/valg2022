{
 "cells": [
  {
   "cell_type": "code",
   "execution_count": 1,
   "id": "d56c7a79-c97d-435f-87ae-b7deaa466a9d",
   "metadata": {},
   "outputs": [],
   "source": [
    "from requests import get\n",
    "import json\n",
    "import pandas as pd"
   ]
  },
  {
   "cell_type": "code",
   "execution_count": 2,
   "id": "03f4fd65-d9c5-4855-867f-394b4e958894",
   "metadata": {
    "scrolled": true,
    "tags": []
   },
   "outputs": [],
   "source": [
    "storkredse = json.load(open(\"raw_data/TV2/greaterConstituencies.json\"))"
   ]
  },
  {
   "cell_type": "code",
   "execution_count": 3,
   "id": "72622cf8-7f37-4c40-9315-62bc6dcd2ad3",
   "metadata": {
    "scrolled": true,
    "tags": []
   },
   "outputs": [
    {
     "name": "stdout",
     "output_type": "stream",
     "text": [
      "9000400 Bornholms Storkreds\n",
      "9000600 Fyns Storkreds\n",
      "9000200 Københavns Omegns Storkreds\n",
      "9000100 Københavns Storkreds\n",
      "9001000 Nordjyllands Storkreds\n",
      "9000300 Nordsjællands Storkreds\n",
      "9000500 Sjællands Storkreds\n",
      "9000700 Sydjyllands Storkreds\n",
      "9000900 Vestjyllands Storkreds\n",
      "9000800 Østjyllands Storkreds\n"
     ]
    }
   ],
   "source": [
    "svar = {}\n",
    "for storkreds in storkredse:\n",
    "    print(storkreds['value'], storkreds['label'])\n",
    "    res = get(f\"https://election-api.services.tv2.dk/fv/fv22/candidatetest/answers/{storkreds['value']}\")\n",
    "    svar[storkreds['label']] = res.json()\n",
    "#gem svarerne\n",
    "json.dump(svar, open('raw_data/TV2/alle_svar.json', 'w'))\n"
   ]
  },
  {
   "cell_type": "code",
   "execution_count": 4,
   "id": "012a27c8-99f3-4afe-9c7d-1e21f4539725",
   "metadata": {},
   "outputs": [],
   "source": [
    "#svar = json.load(open('raw_data/TV2/alle_svar.json'))"
   ]
  },
  {
   "cell_type": "code",
   "execution_count": 5,
   "id": "dcbcaf68-5e99-448f-a143-5938b0774c8a",
   "metadata": {},
   "outputs": [],
   "source": [
    "dk_spg = [\"1a\", \"1b\", \"2a\", \"2b\", \"3a\", \"3b\", \"4a\", \"4b\", \"5a\", \"5b\", \"6a\", \"6b\", \"7a\", \"7b\", \"8a\", \"8b\", \"9a\", \"9b\", \"10a\", \"10b\", \"11a\", \"11b\", \"12a\", \"12b\"]"
   ]
  },
  {
   "cell_type": "code",
   "execution_count": 6,
   "id": "77ecd300-b092-426a-8408-483286913a74",
   "metadata": {},
   "outputs": [],
   "source": [
    "dk_svar = {}\n",
    "dk_kandidater = {}\n",
    "for storkreds, kandidater in svar.items():\n",
    "    for kandidat in kandidater:\n",
    "        dk_kandidater[kandidat['id']] = {'navn': kandidat['name'], 'storkreds': kandidat['areaName'], 'parti': kandidat['partyName'], 'alder': kandidat['age']}\n",
    "        dk_svar[kandidat['id']] = {x: kandidat['answers'][x]['answer'] for x in dk_spg if x in kandidat['answers']}"
   ]
  },
  {
   "cell_type": "code",
   "execution_count": 7,
   "id": "fc381473-9c3a-425d-b345-907c985eec2f",
   "metadata": {},
   "outputs": [],
   "source": [
    "dk_kandidater = pd.DataFrame(dk_kandidater).T\n",
    "dk_svar = pd.DataFrame(dk_svar).T"
   ]
  },
  {
   "cell_type": "code",
   "execution_count": 8,
   "id": "b0479e3a-87df-4c38-8458-82cc05a68ab6",
   "metadata": {},
   "outputs": [],
   "source": [
    "q = dk_svar.copy()\n",
    "q['parti'] = [dk_kandidater.loc[x, 'parti'] for x in dk_svar.index]\n",
    "q['navn'] = [dk_kandidater.loc[x, 'navn'] for x in dk_svar.index]\n",
    "q['storkreds'] = [dk_kandidater.loc[x, 'storkreds'] for x in dk_svar.index]\n",
    "q['alder'] = [dk_kandidater.loc[x, 'alder'] for x in dk_svar.index]\n",
    "q = q.reset_index()"
   ]
  },
  {
   "cell_type": "code",
   "execution_count": 9,
   "id": "41a39c9b-7915-4ff5-97e6-3fb9cc3eba82",
   "metadata": {},
   "outputs": [],
   "source": [
    "# udfyld manglende svar med partiets gennemsnit\n",
    "parti_linjen = q.groupby('parti')[dk_spg].mean()\n",
    "\n",
    "def fald_ind(x):\n",
    "    x.loc[x[x.isna()].index] = parti_linjen.loc[x.parti, x[x.isna()].index]\n",
    "    return x\n",
    "    \n",
    "q = q.apply(fald_ind, axis=1)"
   ]
  },
  {
   "cell_type": "code",
   "execution_count": 10,
   "id": "320d00b3-72c1-4576-95bb-87f16dc84b5d",
   "metadata": {},
   "outputs": [
    {
     "data": {
      "text/html": [
       "<div>\n",
       "<style scoped>\n",
       "    .dataframe tbody tr th:only-of-type {\n",
       "        vertical-align: middle;\n",
       "    }\n",
       "\n",
       "    .dataframe tbody tr th {\n",
       "        vertical-align: top;\n",
       "    }\n",
       "\n",
       "    .dataframe thead th {\n",
       "        text-align: right;\n",
       "    }\n",
       "</style>\n",
       "<table border=\"1\" class=\"dataframe\">\n",
       "  <thead>\n",
       "    <tr style=\"text-align: right;\">\n",
       "      <th></th>\n",
       "      <th>index</th>\n",
       "      <th>1a</th>\n",
       "      <th>1b</th>\n",
       "      <th>2a</th>\n",
       "      <th>2b</th>\n",
       "      <th>3a</th>\n",
       "      <th>3b</th>\n",
       "      <th>4a</th>\n",
       "      <th>4b</th>\n",
       "      <th>5a</th>\n",
       "      <th>...</th>\n",
       "      <th>10a</th>\n",
       "      <th>10b</th>\n",
       "      <th>11a</th>\n",
       "      <th>11b</th>\n",
       "      <th>12a</th>\n",
       "      <th>12b</th>\n",
       "      <th>parti</th>\n",
       "      <th>navn</th>\n",
       "      <th>storkreds</th>\n",
       "      <th>alder</th>\n",
       "    </tr>\n",
       "  </thead>\n",
       "  <tbody>\n",
       "    <tr>\n",
       "      <th>0</th>\n",
       "      <td>15484</td>\n",
       "      <td>-1</td>\n",
       "      <td>1</td>\n",
       "      <td>0</td>\n",
       "      <td>-1</td>\n",
       "      <td>2</td>\n",
       "      <td>-2</td>\n",
       "      <td>-1</td>\n",
       "      <td>-1</td>\n",
       "      <td>-2</td>\n",
       "      <td>...</td>\n",
       "      <td>1</td>\n",
       "      <td>-1</td>\n",
       "      <td>-1</td>\n",
       "      <td>2</td>\n",
       "      <td>1</td>\n",
       "      <td>-1</td>\n",
       "      <td>Venstre</td>\n",
       "      <td>Julie Pauch Nymark</td>\n",
       "      <td>Bornholms Storkreds</td>\n",
       "      <td>27</td>\n",
       "    </tr>\n",
       "    <tr>\n",
       "      <th>1</th>\n",
       "      <td>16235</td>\n",
       "      <td>-2</td>\n",
       "      <td>0</td>\n",
       "      <td>0</td>\n",
       "      <td>1</td>\n",
       "      <td>1</td>\n",
       "      <td>-1</td>\n",
       "      <td>0</td>\n",
       "      <td>1</td>\n",
       "      <td>-1</td>\n",
       "      <td>...</td>\n",
       "      <td>1</td>\n",
       "      <td>1</td>\n",
       "      <td>-2</td>\n",
       "      <td>2</td>\n",
       "      <td>1</td>\n",
       "      <td>1</td>\n",
       "      <td>Venstre</td>\n",
       "      <td>Peter Juel-Jensen</td>\n",
       "      <td>Bornholms Storkreds</td>\n",
       "      <td>56</td>\n",
       "    </tr>\n",
       "    <tr>\n",
       "      <th>2</th>\n",
       "      <td>15872</td>\n",
       "      <td>-2</td>\n",
       "      <td>-1</td>\n",
       "      <td>2</td>\n",
       "      <td>2</td>\n",
       "      <td>2</td>\n",
       "      <td>-2</td>\n",
       "      <td>0</td>\n",
       "      <td>-1</td>\n",
       "      <td>-2</td>\n",
       "      <td>...</td>\n",
       "      <td>1</td>\n",
       "      <td>-1</td>\n",
       "      <td>-2</td>\n",
       "      <td>2</td>\n",
       "      <td>2</td>\n",
       "      <td>-2</td>\n",
       "      <td>Dansk Folkeparti</td>\n",
       "      <td>Mette Sode Hansen</td>\n",
       "      <td>Bornholms Storkreds</td>\n",
       "      <td>42</td>\n",
       "    </tr>\n",
       "    <tr>\n",
       "      <th>3</th>\n",
       "      <td>15855</td>\n",
       "      <td>-2</td>\n",
       "      <td>-1</td>\n",
       "      <td>1</td>\n",
       "      <td>1</td>\n",
       "      <td>2</td>\n",
       "      <td>-2</td>\n",
       "      <td>1</td>\n",
       "      <td>0</td>\n",
       "      <td>-1</td>\n",
       "      <td>...</td>\n",
       "      <td>2</td>\n",
       "      <td>1</td>\n",
       "      <td>-1</td>\n",
       "      <td>2</td>\n",
       "      <td>0</td>\n",
       "      <td>1</td>\n",
       "      <td>Dansk Folkeparti</td>\n",
       "      <td>Rene Danielsson</td>\n",
       "      <td>Bornholms Storkreds</td>\n",
       "      <td>35</td>\n",
       "    </tr>\n",
       "    <tr>\n",
       "      <th>4</th>\n",
       "      <td>15353</td>\n",
       "      <td>-2</td>\n",
       "      <td>0</td>\n",
       "      <td>1</td>\n",
       "      <td>-2</td>\n",
       "      <td>0</td>\n",
       "      <td>-2</td>\n",
       "      <td>2</td>\n",
       "      <td>2</td>\n",
       "      <td>-2</td>\n",
       "      <td>...</td>\n",
       "      <td>2</td>\n",
       "      <td>2</td>\n",
       "      <td>-2</td>\n",
       "      <td>2</td>\n",
       "      <td>1</td>\n",
       "      <td>2</td>\n",
       "      <td>Dansk Folkeparti</td>\n",
       "      <td>Sabine Lyngberg</td>\n",
       "      <td>Bornholms Storkreds</td>\n",
       "      <td>25</td>\n",
       "    </tr>\n",
       "  </tbody>\n",
       "</table>\n",
       "<p>5 rows × 29 columns</p>\n",
       "</div>"
      ],
      "text/plain": [
       "   index  1a  1b  2a  2b  3a  3b  4a  4b  5a  ...  10a  10b  11a  11b  12a  \\\n",
       "0  15484  -1   1   0  -1   2  -2  -1  -1  -2  ...    1   -1   -1    2    1   \n",
       "1  16235  -2   0   0   1   1  -1   0   1  -1  ...    1    1   -2    2    1   \n",
       "2  15872  -2  -1   2   2   2  -2   0  -1  -2  ...    1   -1   -2    2    2   \n",
       "3  15855  -2  -1   1   1   2  -2   1   0  -1  ...    2    1   -1    2    0   \n",
       "4  15353  -2   0   1  -2   0  -2   2   2  -2  ...    2    2   -2    2    1   \n",
       "\n",
       "   12b             parti                navn            storkreds  alder  \n",
       "0   -1           Venstre  Julie Pauch Nymark  Bornholms Storkreds     27  \n",
       "1    1           Venstre   Peter Juel-Jensen  Bornholms Storkreds     56  \n",
       "2   -2  Dansk Folkeparti   Mette Sode Hansen  Bornholms Storkreds     42  \n",
       "3    1  Dansk Folkeparti     Rene Danielsson  Bornholms Storkreds     35  \n",
       "4    2  Dansk Folkeparti     Sabine Lyngberg  Bornholms Storkreds     25  \n",
       "\n",
       "[5 rows x 29 columns]"
      ]
     },
     "execution_count": 10,
     "metadata": {},
     "output_type": "execute_result"
    }
   ],
   "source": [
    "q.head()"
   ]
  },
  {
   "cell_type": "code",
   "execution_count": 11,
   "id": "4574b9ca-760e-4286-b35a-1bb94fb9f870",
   "metadata": {},
   "outputs": [],
   "source": [
    "q.to_feather(\"2022_Lasse_data.feather\")"
   ]
  },
  {
   "cell_type": "code",
   "execution_count": 23,
   "id": "8d4f3114-a5f3-4c97-aced-9ecd0b40c184",
   "metadata": {},
   "outputs": [],
   "source": []
  },
  {
   "cell_type": "code",
   "execution_count": null,
   "id": "caa4c805-8c3b-4629-94a4-445cd3059c59",
   "metadata": {},
   "outputs": [],
   "source": []
  }
 ],
 "metadata": {
  "kernelspec": {
   "display_name": "Python 3 (ipykernel)",
   "language": "python",
   "name": "python3"
  },
  "language_info": {
   "codemirror_mode": {
    "name": "ipython",
    "version": 3
   },
   "file_extension": ".py",
   "mimetype": "text/x-python",
   "name": "python",
   "nbconvert_exporter": "python",
   "pygments_lexer": "ipython3",
   "version": "3.10.6"
  }
 },
 "nbformat": 4,
 "nbformat_minor": 5
}
